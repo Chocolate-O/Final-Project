{
 "cells": [
  {
   "cell_type": "code",
   "execution_count": 1,
   "id": "59dc3f32",
   "metadata": {
    "_cell_guid": "b1076dfc-b9ad-4769-8c92-a6c4dae69d19",
    "_uuid": "8f2839f25d086af736a60e9eeb907d3b93b6e0e5",
    "papermill": {
     "duration": 0.019523,
     "end_time": "2023-11-20T18:03:28.972064",
     "exception": false,
     "start_time": "2023-11-20T18:03:28.952541",
     "status": "completed"
    },
    "tags": []
   },
   "outputs": [],
   "source": [
    "# # This Python 3 environment comes with many helpful analytics libraries installed\n",
    "# # It is defined by the kaggle/python Docker image: https://github.com/kaggle/docker-python\n",
    "# # For example, here's several helpful packages to load\n",
    "\n",
    "# import numpy as np # linear algebra\n",
    "# import pandas as pd # data processing, CSV file I/O (e.g. pd.read_csv)\n",
    "\n",
    "# # Input data files are available in the read-only \"../input/\" directory\n",
    "# # For example, running this (by clicking run or pressing Shift+Enter) will list all files under the input directory\n",
    "\n",
    "# import os\n",
    "# for dirname, _, filenames in os.walk('/kaggle/input'):\n",
    "#     for filename in filenames:\n",
    "#         print(os.path.join(dirname, filename))\n",
    "\n",
    "# # You can write up to 20GB to the current directory (/kaggle/working/) that gets preserved as output when you create a version using \"Save & Run All\" \n",
    "# # You can also write temporary files to /kaggle/temp/, but they won't be saved outside of the current session"
   ]
  },
  {
   "cell_type": "code",
   "execution_count": 2,
   "id": "52f0cc78",
   "metadata": {
    "papermill": {
     "duration": 13.777656,
     "end_time": "2023-11-20T18:03:42.758467",
     "exception": false,
     "start_time": "2023-11-20T18:03:28.980811",
     "status": "completed"
    },
    "tags": []
   },
   "outputs": [
    {
     "name": "stdout",
     "output_type": "stream",
     "text": [
      "modules loaded\n"
     ]
    }
   ],
   "source": [
    "import os\n",
    "import time\n",
    "import shutil\n",
    "import itertools\n",
    "\n",
    "# import data handling tools \n",
    "import cv2\n",
    "import numpy as np\n",
    "import pandas as pd\n",
    "import seaborn as sns\n",
    "sns.set_style('darkgrid')\n",
    "import matplotlib.pyplot as plt\n",
    "# import Deep learning Libraries\n",
    "import tensorflow as tf\n",
    "from tensorflow import keras\n",
    "from tensorflow.keras.layers import Conv2D, MaxPooling2D, Flatten, Dense, Activation, Dropout, BatchNormalization,GlobalAveragePooling2D, Add, Multiply\n",
    "from tensorflow.keras.models import Model, load_model, Sequential\n",
    "from tensorflow.keras.preprocessing.image import ImageDataGenerator\n",
    "from sklearn.metrics import confusion_matrix, classification_report\n",
    "from sklearn.model_selection import train_test_split\n",
    "from tensorflow.keras.optimizers import Adam, Adamax\n",
    "from tensorflow.keras import regularizers\n",
    "from tensorflow.keras.metrics import categorical_crossentropy\n",
    "\n",
    "# Ignore Warnings\n",
    "import warnings\n",
    "warnings.filterwarnings(\"ignore\")\n",
    "\n",
    "print ('modules loaded')"
   ]
  },
  {
   "cell_type": "code",
   "execution_count": 3,
   "id": "f796a06c",
   "metadata": {
    "papermill": {
     "duration": 5.498143,
     "end_time": "2023-11-20T18:03:48.265269",
     "exception": false,
     "start_time": "2023-11-20T18:03:42.767126",
     "status": "completed"
    },
    "tags": []
   },
   "outputs": [
    {
     "data": {
      "text/html": [
       "<div>\n",
       "<style scoped>\n",
       "    .dataframe tbody tr th:only-of-type {\n",
       "        vertical-align: middle;\n",
       "    }\n",
       "\n",
       "    .dataframe tbody tr th {\n",
       "        vertical-align: top;\n",
       "    }\n",
       "\n",
       "    .dataframe thead th {\n",
       "        text-align: right;\n",
       "    }\n",
       "</style>\n",
       "<table border=\"1\" class=\"dataframe\">\n",
       "  <thead>\n",
       "    <tr style=\"text-align: right;\">\n",
       "      <th></th>\n",
       "      <th>pixel0000</th>\n",
       "      <th>pixel0001</th>\n",
       "      <th>pixel0002</th>\n",
       "      <th>pixel0003</th>\n",
       "      <th>pixel0004</th>\n",
       "      <th>pixel0005</th>\n",
       "      <th>pixel0006</th>\n",
       "      <th>pixel0007</th>\n",
       "      <th>pixel0008</th>\n",
       "      <th>pixel0009</th>\n",
       "      <th>...</th>\n",
       "      <th>pixel2343</th>\n",
       "      <th>pixel2344</th>\n",
       "      <th>pixel2345</th>\n",
       "      <th>pixel2346</th>\n",
       "      <th>pixel2347</th>\n",
       "      <th>pixel2348</th>\n",
       "      <th>pixel2349</th>\n",
       "      <th>pixel2350</th>\n",
       "      <th>pixel2351</th>\n",
       "      <th>label</th>\n",
       "    </tr>\n",
       "  </thead>\n",
       "  <tbody>\n",
       "    <tr>\n",
       "      <th>0</th>\n",
       "      <td>192</td>\n",
       "      <td>153</td>\n",
       "      <td>193</td>\n",
       "      <td>195</td>\n",
       "      <td>155</td>\n",
       "      <td>192</td>\n",
       "      <td>197</td>\n",
       "      <td>154</td>\n",
       "      <td>185</td>\n",
       "      <td>202</td>\n",
       "      <td>...</td>\n",
       "      <td>173</td>\n",
       "      <td>124</td>\n",
       "      <td>138</td>\n",
       "      <td>183</td>\n",
       "      <td>147</td>\n",
       "      <td>166</td>\n",
       "      <td>185</td>\n",
       "      <td>154</td>\n",
       "      <td>177</td>\n",
       "      <td>2</td>\n",
       "    </tr>\n",
       "    <tr>\n",
       "      <th>1</th>\n",
       "      <td>25</td>\n",
       "      <td>14</td>\n",
       "      <td>30</td>\n",
       "      <td>68</td>\n",
       "      <td>48</td>\n",
       "      <td>75</td>\n",
       "      <td>123</td>\n",
       "      <td>93</td>\n",
       "      <td>126</td>\n",
       "      <td>158</td>\n",
       "      <td>...</td>\n",
       "      <td>60</td>\n",
       "      <td>39</td>\n",
       "      <td>55</td>\n",
       "      <td>25</td>\n",
       "      <td>14</td>\n",
       "      <td>28</td>\n",
       "      <td>25</td>\n",
       "      <td>14</td>\n",
       "      <td>27</td>\n",
       "      <td>2</td>\n",
       "    </tr>\n",
       "    <tr>\n",
       "      <th>2</th>\n",
       "      <td>192</td>\n",
       "      <td>138</td>\n",
       "      <td>153</td>\n",
       "      <td>200</td>\n",
       "      <td>145</td>\n",
       "      <td>163</td>\n",
       "      <td>201</td>\n",
       "      <td>142</td>\n",
       "      <td>160</td>\n",
       "      <td>206</td>\n",
       "      <td>...</td>\n",
       "      <td>167</td>\n",
       "      <td>129</td>\n",
       "      <td>143</td>\n",
       "      <td>159</td>\n",
       "      <td>124</td>\n",
       "      <td>142</td>\n",
       "      <td>136</td>\n",
       "      <td>104</td>\n",
       "      <td>117</td>\n",
       "      <td>2</td>\n",
       "    </tr>\n",
       "    <tr>\n",
       "      <th>3</th>\n",
       "      <td>38</td>\n",
       "      <td>19</td>\n",
       "      <td>30</td>\n",
       "      <td>95</td>\n",
       "      <td>59</td>\n",
       "      <td>72</td>\n",
       "      <td>143</td>\n",
       "      <td>103</td>\n",
       "      <td>119</td>\n",
       "      <td>171</td>\n",
       "      <td>...</td>\n",
       "      <td>44</td>\n",
       "      <td>26</td>\n",
       "      <td>36</td>\n",
       "      <td>25</td>\n",
       "      <td>12</td>\n",
       "      <td>17</td>\n",
       "      <td>25</td>\n",
       "      <td>12</td>\n",
       "      <td>15</td>\n",
       "      <td>2</td>\n",
       "    </tr>\n",
       "    <tr>\n",
       "      <th>4</th>\n",
       "      <td>158</td>\n",
       "      <td>113</td>\n",
       "      <td>139</td>\n",
       "      <td>194</td>\n",
       "      <td>144</td>\n",
       "      <td>174</td>\n",
       "      <td>215</td>\n",
       "      <td>162</td>\n",
       "      <td>191</td>\n",
       "      <td>225</td>\n",
       "      <td>...</td>\n",
       "      <td>209</td>\n",
       "      <td>166</td>\n",
       "      <td>185</td>\n",
       "      <td>172</td>\n",
       "      <td>135</td>\n",
       "      <td>149</td>\n",
       "      <td>109</td>\n",
       "      <td>78</td>\n",
       "      <td>92</td>\n",
       "      <td>2</td>\n",
       "    </tr>\n",
       "  </tbody>\n",
       "</table>\n",
       "<p>5 rows × 2353 columns</p>\n",
       "</div>"
      ],
      "text/plain": [
       "   pixel0000  pixel0001  pixel0002  pixel0003  pixel0004  pixel0005  \\\n",
       "0        192        153        193        195        155        192   \n",
       "1         25         14         30         68         48         75   \n",
       "2        192        138        153        200        145        163   \n",
       "3         38         19         30         95         59         72   \n",
       "4        158        113        139        194        144        174   \n",
       "\n",
       "   pixel0006  pixel0007  pixel0008  pixel0009  ...  pixel2343  pixel2344  \\\n",
       "0        197        154        185        202  ...        173        124   \n",
       "1        123         93        126        158  ...         60         39   \n",
       "2        201        142        160        206  ...        167        129   \n",
       "3        143        103        119        171  ...         44         26   \n",
       "4        215        162        191        225  ...        209        166   \n",
       "\n",
       "   pixel2345  pixel2346  pixel2347  pixel2348  pixel2349  pixel2350  \\\n",
       "0        138        183        147        166        185        154   \n",
       "1         55         25         14         28         25         14   \n",
       "2        143        159        124        142        136        104   \n",
       "3         36         25         12         17         25         12   \n",
       "4        185        172        135        149        109         78   \n",
       "\n",
       "   pixel2351  label  \n",
       "0        177      2  \n",
       "1         27      2  \n",
       "2        117      2  \n",
       "3         15      2  \n",
       "4         92      2  \n",
       "\n",
       "[5 rows x 2353 columns]"
      ]
     },
     "execution_count": 3,
     "metadata": {},
     "output_type": "execute_result"
    }
   ],
   "source": [
    "data_dir = r'F:\\MV\\Dataset\\HAM1000\\hmnist_28_28_RGB.csv'\n",
    "data = pd.read_csv(data_dir)\n",
    "data.head()"
   ]
  },
  {
   "cell_type": "code",
   "execution_count": 4,
   "id": "2ac3419f-5789-457a-a995-50a807ea7aed",
   "metadata": {},
   "outputs": [
    {
     "name": "stdout",
     "output_type": "stream",
     "text": [
      "<class 'pandas.core.frame.DataFrame'>\n",
      "RangeIndex: 10015 entries, 0 to 10014\n",
      "Columns: 2353 entries, pixel0000 to label\n",
      "dtypes: int64(2353)\n",
      "memory usage: 179.8 MB\n"
     ]
    }
   ],
   "source": [
    "data.info()"
   ]
  },
  {
   "cell_type": "code",
   "execution_count": 5,
   "id": "b0adcb8d",
   "metadata": {
    "papermill": {
     "duration": 0.110948,
     "end_time": "2023-11-20T18:03:48.385458",
     "exception": false,
     "start_time": "2023-11-20T18:03:48.274510",
     "status": "completed"
    },
    "tags": []
   },
   "outputs": [],
   "source": [
    "Label = data[\"label\"]\n",
    "Data = data.drop(columns=[\"label\"])"
   ]
  },
  {
   "cell_type": "code",
   "execution_count": 6,
   "id": "c779c31b",
   "metadata": {
    "papermill": {
     "duration": 0.025722,
     "end_time": "2023-11-20T18:03:48.420456",
     "exception": false,
     "start_time": "2023-11-20T18:03:48.394734",
     "status": "completed"
    },
    "tags": []
   },
   "outputs": [
    {
     "data": {
      "text/plain": [
       "label\n",
       "4    6705\n",
       "6    1113\n",
       "2    1099\n",
       "1     514\n",
       "0     327\n",
       "5     142\n",
       "3     115\n",
       "Name: count, dtype: int64"
      ]
     },
     "execution_count": 6,
     "metadata": {},
     "output_type": "execute_result"
    }
   ],
   "source": [
    "data[\"label\"].value_counts()"
   ]
  },
  {
   "cell_type": "code",
   "execution_count": 7,
   "id": "7d4aeb34",
   "metadata": {
    "papermill": {
     "duration": 3.928484,
     "end_time": "2023-11-20T18:03:52.357791",
     "exception": false,
     "start_time": "2023-11-20T18:03:48.429307",
     "status": "completed"
    },
    "tags": []
   },
   "outputs": [
    {
     "name": "stdout",
     "output_type": "stream",
     "text": [
      "Shape of Data : (46935, 28, 28, 3)\n"
     ]
    }
   ],
   "source": [
    "from imblearn.over_sampling import RandomOverSampler \n",
    "\n",
    "oversample = RandomOverSampler()\n",
    "Data, Label  = oversample.fit_resample(Data, Label)\n",
    "Data = np.array(Data).reshape(-1, 28, 28, 3)\n",
    "print('Shape of Data :', Data.shape)"
   ]
  },
  {
   "cell_type": "code",
   "execution_count": 8,
   "id": "50e90ae8",
   "metadata": {
    "papermill": {
     "duration": 0.021587,
     "end_time": "2023-11-20T18:03:52.388539",
     "exception": false,
     "start_time": "2023-11-20T18:03:52.366952",
     "status": "completed"
    },
    "tags": []
   },
   "outputs": [
    {
     "data": {
      "text/plain": [
       "array([2, 2, 2, ..., 6, 6, 6], dtype=int64)"
      ]
     },
     "execution_count": 8,
     "metadata": {},
     "output_type": "execute_result"
    }
   ],
   "source": [
    "Label = np.array(Label)\n",
    "Label"
   ]
  },
  {
   "cell_type": "code",
   "execution_count": 9,
   "id": "8e518cb6",
   "metadata": {
    "papermill": {
     "duration": 0.020228,
     "end_time": "2023-11-20T18:03:52.418121",
     "exception": false,
     "start_time": "2023-11-20T18:03:52.397893",
     "status": "completed"
    },
    "tags": []
   },
   "outputs": [],
   "source": [
    "classes = {4: ('nv', ' melanocytic nevi'),\n",
    "           6: ('mel', 'melanoma'),\n",
    "           2: ('bkl', 'benign keratosis-like lesions'), \n",
    "           1:('bcc' , ' basal cell carcinoma'),\n",
    "           5: ('vasc', ' pyogenic granulomas and hemorrhage'),\n",
    "           0: ('akiec', 'Actinic keratoses and intraepithelial carcinomae'),\n",
    "           3: ('df', 'dermatofibroma')}"
   ]
  },
  {
   "cell_type": "code",
   "execution_count": 10,
   "id": "9f16b6f8",
   "metadata": {
    "papermill": {
     "duration": 1.926467,
     "end_time": "2023-11-20T18:03:54.353943",
     "exception": false,
     "start_time": "2023-11-20T18:03:52.427476",
     "status": "completed"
    },
    "tags": []
   },
   "outputs": [],
   "source": [
    "from sklearn.model_selection import train_test_split\n",
    "\n",
    "X_train , X_test , y_train , y_test = train_test_split(Data , Label , test_size = 0.25 , random_state = 49)"
   ]
  },
  {
   "cell_type": "code",
   "execution_count": 11,
   "id": "425987e9",
   "metadata": {
    "papermill": {
     "duration": 0.020381,
     "end_time": "2023-11-20T18:03:54.384326",
     "exception": false,
     "start_time": "2023-11-20T18:03:54.363945",
     "status": "completed"
    },
    "tags": []
   },
   "outputs": [
    {
     "name": "stdout",
     "output_type": "stream",
     "text": [
      "(35201, 28, 28, 3)\n",
      "(35201,)\n",
      "(11734, 28, 28, 3)\n",
      "(11734,)\n"
     ]
    }
   ],
   "source": [
    "print(X_train.shape)\n",
    "print(y_train.shape)\n",
    "print(X_test.shape)\n",
    "print(y_test.shape)"
   ]
  },
  {
   "cell_type": "code",
   "execution_count": 12,
   "id": "09ae56d1",
   "metadata": {
    "papermill": {
     "duration": 0.019608,
     "end_time": "2023-11-20T18:03:54.413572",
     "exception": false,
     "start_time": "2023-11-20T18:03:54.393964",
     "status": "completed"
    },
    "tags": []
   },
   "outputs": [],
   "source": [
    "from tensorflow.python.keras.utils.np_utils import to_categorical\n",
    "\n",
    "y_train = to_categorical(y_train)\n",
    "y_test = to_categorical(y_test)"
   ]
  },
  {
   "cell_type": "code",
   "execution_count": 13,
   "id": "a96f1f06",
   "metadata": {
    "papermill": {
     "duration": 0.020389,
     "end_time": "2023-11-20T18:03:54.443370",
     "exception": false,
     "start_time": "2023-11-20T18:03:54.422981",
     "status": "completed"
    },
    "tags": []
   },
   "outputs": [],
   "source": [
    "datagen = ImageDataGenerator(rescale=(1./255)\n",
    "                             ,rotation_range=10\n",
    "                             ,zoom_range = 0.1\n",
    "                             ,width_shift_range=0.1\n",
    "                             ,height_shift_range=0.1)\n",
    "\n",
    "testgen = ImageDataGenerator(rescale=(1./255))"
   ]
  },
  {
   "cell_type": "code",
   "execution_count": 14,
   "id": "41546902",
   "metadata": {
    "papermill": {
     "duration": 0.019312,
     "end_time": "2023-11-20T18:03:54.471883",
     "exception": false,
     "start_time": "2023-11-20T18:03:54.452571",
     "status": "completed"
    },
    "tags": []
   },
   "outputs": [],
   "source": [
    "from keras.callbacks import ReduceLROnPlateau\n",
    "\n",
    "learning_rate_reduction = ReduceLROnPlateau(monitor='val_accuracy'\n",
    "                                            , patience = 2\n",
    "                                            , verbose=1\n",
    "                                            ,factor=0.5\n",
    "                                            , min_lr=0.00001)"
   ]
  },
  {
   "cell_type": "code",
   "execution_count": null,
   "id": "bfcdd53b-c853-491c-9250-b8080aec99ce",
   "metadata": {},
   "outputs": [],
   "source": []
  },
  {
   "cell_type": "code",
   "execution_count": 15,
   "id": "cba3455b",
   "metadata": {
    "papermill": {
     "duration": 0.896561,
     "end_time": "2023-11-20T18:03:55.377689",
     "exception": false,
     "start_time": "2023-11-20T18:03:54.481128",
     "status": "completed"
    },
    "tags": []
   },
   "outputs": [],
   "source": [
    "import tensorflow as tf\n",
    "from tensorflow.keras.layers import Input, Conv2D, MaxPooling2D, AveragePooling2D, Concatenate, Flatten, Dense\n",
    "\n",
    "\n",
    "\n",
    "def inception_block(x, filters):\n",
    "    conv1x1 = Conv2D(filters[0], (1, 1), padding='same', activation='relu')(x)\n",
    "\n",
    "    conv3x3 = Conv2D(filters[1], (1, 1), padding='same', activation='relu')(x)\n",
    "    conv3x3 = Conv2D(filters[2], (3, 3), padding='same', activation='relu')(conv3x3)\n",
    "\n",
    "    conv5x5 = Conv2D(filters[3], (1, 1), padding='same', activation='relu')(x)\n",
    "    conv5x5 = Conv2D(filters[4], (5, 5), padding='same', activation='relu')(conv5x5)\n",
    "\n",
    "    maxpool = MaxPooling2D((3, 3), strides=(1, 1), padding='same')(x)\n",
    "    maxpool = Conv2D(filters[5], (1, 1), padding='same', activation='relu')(maxpool)\n",
    "\n",
    "    inception_block = Concatenate(axis=-1)([conv1x1, conv3x3, conv5x5, maxpool])\n",
    "    return inception_block\n",
    "\n",
    "def inception_net(input_shape, num_classes):\n",
    "    input_tensor = Input(shape=input_shape)\n",
    "\n",
    "    # Initial convolutional layer\n",
    "    x = Conv2D(64, (7, 7), strides=(2, 2), padding='same', activation='relu')(input_tensor)\n",
    "    x = MaxPooling2D((3, 3), strides=(2, 2), padding='same')(x)\n",
    "\n",
    "    # Inception blocks\n",
    "    x = inception_block(x, filters=[64, 128, 128, 32, 32, 32])\n",
    "    x = inception_block(x, filters=[128, 192, 192, 64, 64, 64])\n",
    "            # Attention mechanism\n",
    "    x = squeeze_excitation_block(x)\n",
    "\n",
    "    # MaxPooling and Fully Connected layers\n",
    "    x = MaxPooling2D((3, 3), strides=(2, 2), padding='same')(x)\n",
    "    x = Flatten()(x)\n",
    "    x = Dense(512, activation='relu')(x)\n",
    "    x = Dense(num_classes, activation='softmax')(x)\n",
    "\n",
    "    model = tf.keras.models.Model(inputs=input_tensor, outputs=x)\n",
    "\n",
    "    return model\n",
    "\n",
    "\n"
   ]
  },
  {
   "cell_type": "code",
   "execution_count": 16,
   "id": "103ebadf-f169-444a-bfd2-f1289503c726",
   "metadata": {},
   "outputs": [
    {
     "name": "stdout",
     "output_type": "stream",
     "text": [
      "Model: \"model\"\n",
      "__________________________________________________________________________________________________\n",
      " Layer (type)                   Output Shape         Param #     Connected to                     \n",
      "==================================================================================================\n",
      " input_1 (InputLayer)           [(None, 28, 28, 3)]  0           []                               \n",
      "                                                                                                  \n",
      " conv2d (Conv2D)                (None, 14, 14, 64)   9472        ['input_1[0][0]']                \n",
      "                                                                                                  \n",
      " max_pooling2d (MaxPooling2D)   (None, 7, 7, 64)     0           ['conv2d[0][0]']                 \n",
      "                                                                                                  \n",
      " conv2d_2 (Conv2D)              (None, 7, 7, 128)    8320        ['max_pooling2d[0][0]']          \n",
      "                                                                                                  \n",
      " conv2d_4 (Conv2D)              (None, 7, 7, 32)     2080        ['max_pooling2d[0][0]']          \n",
      "                                                                                                  \n",
      " max_pooling2d_1 (MaxPooling2D)  (None, 7, 7, 64)    0           ['max_pooling2d[0][0]']          \n",
      "                                                                                                  \n",
      " conv2d_1 (Conv2D)              (None, 7, 7, 64)     4160        ['max_pooling2d[0][0]']          \n",
      "                                                                                                  \n",
      " conv2d_3 (Conv2D)              (None, 7, 7, 128)    147584      ['conv2d_2[0][0]']               \n",
      "                                                                                                  \n",
      " conv2d_5 (Conv2D)              (None, 7, 7, 32)     25632       ['conv2d_4[0][0]']               \n",
      "                                                                                                  \n",
      " conv2d_6 (Conv2D)              (None, 7, 7, 32)     2080        ['max_pooling2d_1[0][0]']        \n",
      "                                                                                                  \n",
      " concatenate (Concatenate)      (None, 7, 7, 256)    0           ['conv2d_1[0][0]',               \n",
      "                                                                  'conv2d_3[0][0]',               \n",
      "                                                                  'conv2d_5[0][0]',               \n",
      "                                                                  'conv2d_6[0][0]']               \n",
      "                                                                                                  \n",
      " conv2d_8 (Conv2D)              (None, 7, 7, 192)    49344       ['concatenate[0][0]']            \n",
      "                                                                                                  \n",
      " conv2d_10 (Conv2D)             (None, 7, 7, 64)     16448       ['concatenate[0][0]']            \n",
      "                                                                                                  \n",
      " max_pooling2d_2 (MaxPooling2D)  (None, 7, 7, 256)   0           ['concatenate[0][0]']            \n",
      "                                                                                                  \n",
      " conv2d_7 (Conv2D)              (None, 7, 7, 128)    32896       ['concatenate[0][0]']            \n",
      "                                                                                                  \n",
      " conv2d_9 (Conv2D)              (None, 7, 7, 192)    331968      ['conv2d_8[0][0]']               \n",
      "                                                                                                  \n",
      " conv2d_11 (Conv2D)             (None, 7, 7, 64)     102464      ['conv2d_10[0][0]']              \n",
      "                                                                                                  \n",
      " conv2d_12 (Conv2D)             (None, 7, 7, 64)     16448       ['max_pooling2d_2[0][0]']        \n",
      "                                                                                                  \n",
      " concatenate_1 (Concatenate)    (None, 7, 7, 448)    0           ['conv2d_7[0][0]',               \n",
      "                                                                  'conv2d_9[0][0]',               \n",
      "                                                                  'conv2d_11[0][0]',              \n",
      "                                                                  'conv2d_12[0][0]']              \n",
      "                                                                                                  \n",
      " global_average_pooling2d (Glob  (None, 448)         0           ['concatenate_1[0][0]']          \n",
      " alAveragePooling2D)                                                                              \n",
      "                                                                                                  \n",
      " dense (Dense)                  (None, 56)           25144       ['global_average_pooling2d[0][0]'\n",
      "                                                                 ]                                \n",
      "                                                                                                  \n",
      " dense_1 (Dense)                (None, 448)          25536       ['dense[0][0]']                  \n",
      "                                                                                                  \n",
      " reshape (Reshape)              (None, 1, 1, 448)    0           ['dense_1[0][0]']                \n",
      "                                                                                                  \n",
      " multiply (Multiply)            (None, 7, 7, 448)    0           ['concatenate_1[0][0]',          \n",
      "                                                                  'reshape[0][0]']                \n",
      "                                                                                                  \n",
      " max_pooling2d_3 (MaxPooling2D)  (None, 4, 4, 448)   0           ['multiply[0][0]']               \n",
      "                                                                                                  \n",
      " flatten (Flatten)              (None, 7168)         0           ['max_pooling2d_3[0][0]']        \n",
      "                                                                                                  \n",
      " dense_2 (Dense)                (None, 512)          3670528     ['flatten[0][0]']                \n",
      "                                                                                                  \n",
      " dense_3 (Dense)                (None, 7)            3591        ['dense_2[0][0]']                \n",
      "                                                                                                  \n",
      "==================================================================================================\n",
      "Total params: 4,473,695\n",
      "Trainable params: 4,473,695\n",
      "Non-trainable params: 0\n",
      "__________________________________________________________________________________________________\n"
     ]
    }
   ],
   "source": [
    "# Set input shape and number of classes\n",
    "input_shape = (28, 28, 3)  # Example input shape, adjust based on your requirements\n",
    "num_classes = 7  # Adjust based on your classification task\n",
    "\n",
    "# Create the InceptionNet model\n",
    "model = inception_net(input_shape, num_classes)\n",
    "\n",
    "# Compile the model\n",
    "model.compile(optimizer=Adam(0.0001), loss='categorical_crossentropy', metrics=['accuracy'])\n",
    "\n",
    "# Display the model summary\n",
    "model.summary()"
   ]
  },
  {
   "cell_type": "code",
   "execution_count": 17,
   "id": "674dcbb6",
   "metadata": {
    "papermill": {
     "duration": 1306.438779,
     "end_time": "2023-11-20T18:25:41.833059",
     "exception": false,
     "start_time": "2023-11-20T18:03:55.394280",
     "status": "completed"
    },
    "tags": []
   },
   "outputs": [
    {
     "name": "stdout",
     "output_type": "stream",
     "text": [
      "Epoch 1/200\n",
      "276/276 [==============================] - 9s 18ms/step - loss: 3.0414 - accuracy: 0.4568 - val_loss: 1.8864 - val_accuracy: 0.3460 - lr: 1.0000e-04\n",
      "Epoch 2/200\n",
      "276/276 [==============================] - 4s 15ms/step - loss: 0.9703 - accuracy: 0.6524 - val_loss: 3.3629 - val_accuracy: 0.2514 - lr: 1.0000e-04\n",
      "Epoch 3/200\n",
      "273/276 [============================>.] - ETA: 0s - loss: 0.8438 - accuracy: 0.7089\n",
      "Epoch 3: ReduceLROnPlateau reducing learning rate to 4.999999873689376e-05.\n",
      "276/276 [==============================] - 4s 15ms/step - loss: 0.8423 - accuracy: 0.7092 - val_loss: 9.6277 - val_accuracy: 0.1431 - lr: 1.0000e-04\n",
      "Epoch 4/200\n",
      "276/276 [==============================] - 4s 15ms/step - loss: 0.9001 - accuracy: 0.7355 - val_loss: 1.2802 - val_accuracy: 0.5626 - lr: 5.0000e-05\n",
      "Epoch 5/200\n",
      "276/276 [==============================] - 4s 15ms/step - loss: 0.5864 - accuracy: 0.8067 - val_loss: 0.5742 - val_accuracy: 0.7979 - lr: 5.0000e-05\n",
      "Epoch 6/200\n",
      "276/276 [==============================] - 4s 15ms/step - loss: 0.4838 - accuracy: 0.8395 - val_loss: 1.7721 - val_accuracy: 0.4755 - lr: 5.0000e-05\n",
      "Epoch 7/200\n",
      "273/276 [============================>.] - ETA: 0s - loss: 0.5800 - accuracy: 0.8137\n",
      "Epoch 7: ReduceLROnPlateau reducing learning rate to 2.499999936844688e-05.\n",
      "276/276 [==============================] - 4s 15ms/step - loss: 0.5789 - accuracy: 0.8140 - val_loss: 1.5663 - val_accuracy: 0.5219 - lr: 5.0000e-05\n",
      "Epoch 8/200\n",
      "276/276 [==============================] - 4s 15ms/step - loss: 0.4669 - accuracy: 0.8530 - val_loss: 0.4925 - val_accuracy: 0.8343 - lr: 2.5000e-05\n",
      "Epoch 9/200\n",
      "276/276 [==============================] - 4s 15ms/step - loss: 0.3598 - accuracy: 0.8915 - val_loss: 0.3786 - val_accuracy: 0.8763 - lr: 2.5000e-05\n",
      "Epoch 10/200\n",
      "276/276 [==============================] - 4s 15ms/step - loss: 0.3222 - accuracy: 0.9048 - val_loss: 0.3767 - val_accuracy: 0.8724 - lr: 2.5000e-05\n",
      "Epoch 11/200\n",
      "274/276 [============================>.] - ETA: 0s - loss: 0.3066 - accuracy: 0.9102\n",
      "Epoch 11: ReduceLROnPlateau reducing learning rate to 1.249999968422344e-05.\n",
      "276/276 [==============================] - 4s 16ms/step - loss: 0.3063 - accuracy: 0.9103 - val_loss: 0.4277 - val_accuracy: 0.8447 - lr: 2.5000e-05\n",
      "Epoch 12/200\n",
      "276/276 [==============================] - 4s 15ms/step - loss: 0.2666 - accuracy: 0.9261 - val_loss: 0.3003 - val_accuracy: 0.9101 - lr: 1.2500e-05\n",
      "Epoch 13/200\n",
      "276/276 [==============================] - 4s 15ms/step - loss: 0.2492 - accuracy: 0.9327 - val_loss: 0.3079 - val_accuracy: 0.9021 - lr: 1.2500e-05\n",
      "Epoch 14/200\n",
      "276/276 [==============================] - 4s 16ms/step - loss: 0.2350 - accuracy: 0.9384 - val_loss: 0.2699 - val_accuracy: 0.9210 - lr: 1.2500e-05\n",
      "Epoch 15/200\n",
      "276/276 [==============================] - 4s 15ms/step - loss: 0.2221 - accuracy: 0.9429 - val_loss: 0.2860 - val_accuracy: 0.9147 - lr: 1.2500e-05\n",
      "Epoch 16/200\n",
      "276/276 [==============================] - 4s 16ms/step - loss: 0.2135 - accuracy: 0.9450 - val_loss: 0.2449 - val_accuracy: 0.9324 - lr: 1.2500e-05\n",
      "Epoch 17/200\n",
      "276/276 [==============================] - 4s 15ms/step - loss: 0.1998 - accuracy: 0.9506 - val_loss: 0.2420 - val_accuracy: 0.9320 - lr: 1.2500e-05\n",
      "Epoch 18/200\n",
      "276/276 [==============================] - 4s 16ms/step - loss: 0.1874 - accuracy: 0.9534 - val_loss: 0.2278 - val_accuracy: 0.9397 - lr: 1.2500e-05\n",
      "Epoch 19/200\n",
      "276/276 [==============================] - 4s 15ms/step - loss: 0.1793 - accuracy: 0.9565 - val_loss: 0.2146 - val_accuracy: 0.9424 - lr: 1.2500e-05\n",
      "Epoch 20/200\n",
      "276/276 [==============================] - 4s 16ms/step - loss: 0.1663 - accuracy: 0.9606 - val_loss: 0.2343 - val_accuracy: 0.9296 - lr: 1.2500e-05\n",
      "Epoch 21/200\n",
      "273/276 [============================>.] - ETA: 0s - loss: 0.1667 - accuracy: 0.9588\n",
      "Epoch 21: ReduceLROnPlateau reducing learning rate to 1e-05.\n",
      "276/276 [==============================] - 4s 15ms/step - loss: 0.1668 - accuracy: 0.9587 - val_loss: 1.4515 - val_accuracy: 0.5443 - lr: 1.2500e-05\n",
      "Epoch 22/200\n",
      "276/276 [==============================] - 4s 16ms/step - loss: 0.2588 - accuracy: 0.9361 - val_loss: 0.2254 - val_accuracy: 0.9299 - lr: 1.0000e-05\n",
      "Epoch 23/200\n",
      "276/276 [==============================] - 4s 16ms/step - loss: 0.1454 - accuracy: 0.9670 - val_loss: 0.1802 - val_accuracy: 0.9513 - lr: 1.0000e-05\n",
      "Epoch 24/200\n",
      "276/276 [==============================] - 4s 16ms/step - loss: 0.1345 - accuracy: 0.9697 - val_loss: 0.1873 - val_accuracy: 0.9461 - lr: 1.0000e-05\n",
      "Epoch 25/200\n",
      "276/276 [==============================] - 4s 16ms/step - loss: 0.1282 - accuracy: 0.9714 - val_loss: 0.1934 - val_accuracy: 0.9441 - lr: 1.0000e-05\n",
      "Epoch 26/200\n",
      "276/276 [==============================] - 4s 16ms/step - loss: 0.1262 - accuracy: 0.9709 - val_loss: 0.2543 - val_accuracy: 0.9296 - lr: 1.0000e-05\n",
      "Epoch 27/200\n",
      "276/276 [==============================] - 4s 16ms/step - loss: 0.1322 - accuracy: 0.9684 - val_loss: 0.1777 - val_accuracy: 0.9490 - lr: 1.0000e-05\n",
      "Epoch 28/200\n",
      "276/276 [==============================] - 4s 16ms/step - loss: 0.1128 - accuracy: 0.9761 - val_loss: 0.1589 - val_accuracy: 0.9578 - lr: 1.0000e-05\n",
      "Epoch 29/200\n",
      "276/276 [==============================] - 4s 16ms/step - loss: 0.1072 - accuracy: 0.9770 - val_loss: 0.1598 - val_accuracy: 0.9543 - lr: 1.0000e-05\n",
      "Epoch 30/200\n",
      "276/276 [==============================] - 4s 16ms/step - loss: 0.1035 - accuracy: 0.9781 - val_loss: 0.1514 - val_accuracy: 0.9579 - lr: 1.0000e-05\n",
      "Epoch 31/200\n",
      "276/276 [==============================] - 4s 16ms/step - loss: 0.0997 - accuracy: 0.9785 - val_loss: 0.1975 - val_accuracy: 0.9394 - lr: 1.0000e-05\n",
      "Epoch 32/200\n",
      "276/276 [==============================] - 4s 16ms/step - loss: 0.0955 - accuracy: 0.9799 - val_loss: 0.1476 - val_accuracy: 0.9582 - lr: 1.0000e-05\n",
      "Epoch 33/200\n",
      "276/276 [==============================] - 4s 16ms/step - loss: 0.0925 - accuracy: 0.9797 - val_loss: 0.1380 - val_accuracy: 0.9633 - lr: 1.0000e-05\n",
      "Epoch 34/200\n",
      "276/276 [==============================] - 4s 16ms/step - loss: 0.0879 - accuracy: 0.9811 - val_loss: 0.1543 - val_accuracy: 0.9575 - lr: 1.0000e-05\n",
      "Epoch 35/200\n",
      "276/276 [==============================] - 4s 16ms/step - loss: 0.0831 - accuracy: 0.9830 - val_loss: 0.4919 - val_accuracy: 0.8257 - lr: 1.0000e-05\n",
      "Epoch 36/200\n",
      "276/276 [==============================] - 4s 16ms/step - loss: 0.1342 - accuracy: 0.9661 - val_loss: 0.1276 - val_accuracy: 0.9640 - lr: 1.0000e-05\n",
      "Epoch 37/200\n",
      "276/276 [==============================] - 4s 16ms/step - loss: 0.0745 - accuracy: 0.9853 - val_loss: 0.1194 - val_accuracy: 0.9671 - lr: 1.0000e-05\n",
      "Epoch 38/200\n",
      "276/276 [==============================] - 4s 16ms/step - loss: 0.0695 - accuracy: 0.9868 - val_loss: 0.1163 - val_accuracy: 0.9683 - lr: 1.0000e-05\n",
      "Epoch 39/200\n",
      "276/276 [==============================] - 4s 16ms/step - loss: 0.0682 - accuracy: 0.9868 - val_loss: 0.1152 - val_accuracy: 0.9688 - lr: 1.0000e-05\n",
      "Epoch 40/200\n",
      "276/276 [==============================] - 4s 16ms/step - loss: 0.0655 - accuracy: 0.9877 - val_loss: 0.1091 - val_accuracy: 0.9691 - lr: 1.0000e-05\n",
      "Epoch 41/200\n",
      "276/276 [==============================] - 4s 16ms/step - loss: 0.0612 - accuracy: 0.9893 - val_loss: 0.1138 - val_accuracy: 0.9691 - lr: 1.0000e-05\n",
      "Epoch 42/200\n",
      "276/276 [==============================] - 4s 16ms/step - loss: 0.0603 - accuracy: 0.9891 - val_loss: 0.1189 - val_accuracy: 0.9646 - lr: 1.0000e-05\n",
      "Epoch 43/200\n",
      "276/276 [==============================] - 4s 16ms/step - loss: 0.0597 - accuracy: 0.9888 - val_loss: 0.1147 - val_accuracy: 0.9742 - lr: 1.0000e-05\n",
      "Epoch 44/200\n",
      "276/276 [==============================] - 4s 16ms/step - loss: 0.0557 - accuracy: 0.9904 - val_loss: 0.1180 - val_accuracy: 0.9670 - lr: 1.0000e-05\n",
      "Epoch 45/200\n",
      "276/276 [==============================] - 4s 16ms/step - loss: 0.0531 - accuracy: 0.9906 - val_loss: 0.1007 - val_accuracy: 0.9727 - lr: 1.0000e-05\n",
      "Epoch 46/200\n",
      "276/276 [==============================] - 4s 16ms/step - loss: 0.0529 - accuracy: 0.9906 - val_loss: 0.1213 - val_accuracy: 0.9634 - lr: 1.0000e-05\n",
      "Epoch 47/200\n",
      "276/276 [==============================] - 4s 16ms/step - loss: 0.0464 - accuracy: 0.9922 - val_loss: 0.1114 - val_accuracy: 0.9670 - lr: 1.0000e-05\n",
      "Epoch 48/200\n",
      "276/276 [==============================] - 4s 16ms/step - loss: 0.0452 - accuracy: 0.9923 - val_loss: 0.0877 - val_accuracy: 0.9765 - lr: 1.0000e-05\n",
      "Epoch 49/200\n",
      "276/276 [==============================] - 4s 16ms/step - loss: 0.0430 - accuracy: 0.9924 - val_loss: 0.0884 - val_accuracy: 0.9747 - lr: 1.0000e-05\n",
      "Epoch 50/200\n",
      "276/276 [==============================] - 4s 16ms/step - loss: 0.0402 - accuracy: 0.9936 - val_loss: 0.0870 - val_accuracy: 0.9761 - lr: 1.0000e-05\n",
      "Epoch 51/200\n",
      "276/276 [==============================] - 4s 16ms/step - loss: 0.0373 - accuracy: 0.9945 - val_loss: 0.1030 - val_accuracy: 0.9706 - lr: 1.0000e-05\n",
      "Epoch 52/200\n",
      "276/276 [==============================] - 4s 16ms/step - loss: 0.0388 - accuracy: 0.9935 - val_loss: 0.1019 - val_accuracy: 0.9704 - lr: 1.0000e-05\n",
      "Epoch 53/200\n",
      "276/276 [==============================] - 4s 16ms/step - loss: 0.0364 - accuracy: 0.9943 - val_loss: 0.0980 - val_accuracy: 0.9697 - lr: 1.0000e-05\n",
      "Epoch 54/200\n",
      "276/276 [==============================] - 4s 16ms/step - loss: 0.0316 - accuracy: 0.9957 - val_loss: 0.0782 - val_accuracy: 0.9817 - lr: 1.0000e-05\n",
      "Epoch 55/200\n",
      "276/276 [==============================] - 4s 16ms/step - loss: 0.0319 - accuracy: 0.9955 - val_loss: 0.0829 - val_accuracy: 0.9769 - lr: 1.0000e-05\n",
      "Epoch 56/200\n",
      "276/276 [==============================] - 5s 17ms/step - loss: 0.0304 - accuracy: 0.9953 - val_loss: 0.0864 - val_accuracy: 0.9735 - lr: 1.0000e-05\n",
      "Epoch 57/200\n",
      "276/276 [==============================] - 5s 17ms/step - loss: 0.0290 - accuracy: 0.9956 - val_loss: 0.0876 - val_accuracy: 0.9791 - lr: 1.0000e-05\n",
      "Epoch 58/200\n",
      "276/276 [==============================] - 4s 16ms/step - loss: 0.0263 - accuracy: 0.9968 - val_loss: 0.0781 - val_accuracy: 0.9773 - lr: 1.0000e-05\n",
      "Epoch 59/200\n",
      "276/276 [==============================] - 5s 16ms/step - loss: 0.0239 - accuracy: 0.9971 - val_loss: 0.0900 - val_accuracy: 0.9727 - lr: 1.0000e-05\n",
      "Epoch 60/200\n",
      "276/276 [==============================] - 4s 16ms/step - loss: 0.0252 - accuracy: 0.9967 - val_loss: 0.0735 - val_accuracy: 0.9828 - lr: 1.0000e-05\n",
      "Epoch 61/200\n",
      "276/276 [==============================] - 5s 17ms/step - loss: 0.0231 - accuracy: 0.9974 - val_loss: 0.0992 - val_accuracy: 0.9724 - lr: 1.0000e-05\n",
      "Epoch 62/200\n",
      "276/276 [==============================] - 5s 17ms/step - loss: 0.0219 - accuracy: 0.9970 - val_loss: 0.0680 - val_accuracy: 0.9816 - lr: 1.0000e-05\n",
      "Epoch 63/200\n",
      "276/276 [==============================] - 5s 17ms/step - loss: 0.0217 - accuracy: 0.9971 - val_loss: 0.0690 - val_accuracy: 0.9812 - lr: 1.0000e-05\n",
      "Epoch 64/200\n",
      "276/276 [==============================] - 5s 17ms/step - loss: 0.0188 - accuracy: 0.9982 - val_loss: 0.0869 - val_accuracy: 0.9733 - lr: 1.0000e-05\n",
      "Epoch 65/200\n",
      "276/276 [==============================] - 5s 16ms/step - loss: 0.0176 - accuracy: 0.9981 - val_loss: 0.0634 - val_accuracy: 0.9849 - lr: 1.0000e-05\n",
      "Epoch 66/200\n",
      "276/276 [==============================] - 4s 16ms/step - loss: 0.0188 - accuracy: 0.9976 - val_loss: 0.0773 - val_accuracy: 0.9772 - lr: 1.0000e-05\n",
      "Epoch 67/200\n",
      "276/276 [==============================] - 5s 16ms/step - loss: 0.0154 - accuracy: 0.9988 - val_loss: 0.5448 - val_accuracy: 0.8117 - lr: 1.0000e-05\n",
      "Epoch 68/200\n",
      "276/276 [==============================] - 5s 17ms/step - loss: 0.0519 - accuracy: 0.9878 - val_loss: 0.0927 - val_accuracy: 0.9720 - lr: 1.0000e-05\n",
      "Epoch 69/200\n",
      "276/276 [==============================] - 5s 17ms/step - loss: 0.0133 - accuracy: 0.9990 - val_loss: 0.0593 - val_accuracy: 0.9830 - lr: 1.0000e-05\n",
      "Epoch 70/200\n",
      "276/276 [==============================] - 5s 17ms/step - loss: 0.0118 - accuracy: 0.9994 - val_loss: 0.0633 - val_accuracy: 0.9801 - lr: 1.0000e-05\n",
      "Epoch 71/200\n",
      "276/276 [==============================] - 5s 17ms/step - loss: 0.0116 - accuracy: 0.9993 - val_loss: 0.0727 - val_accuracy: 0.9770 - lr: 1.0000e-05\n",
      "Epoch 72/200\n",
      "276/276 [==============================] - 5s 17ms/step - loss: 0.0104 - accuracy: 0.9995 - val_loss: 0.0616 - val_accuracy: 0.9824 - lr: 1.0000e-05\n",
      "Epoch 73/200\n",
      "276/276 [==============================] - 5s 17ms/step - loss: 0.0109 - accuracy: 0.9994 - val_loss: 0.0779 - val_accuracy: 0.9769 - lr: 1.0000e-05\n",
      "Epoch 74/200\n",
      "276/276 [==============================] - 5s 17ms/step - loss: 0.0109 - accuracy: 0.9993 - val_loss: 0.0653 - val_accuracy: 0.9818 - lr: 1.0000e-05\n",
      "Epoch 75/200\n",
      "276/276 [==============================] - 5s 17ms/step - loss: 0.0118 - accuracy: 0.9991 - val_loss: 0.0682 - val_accuracy: 0.9795 - lr: 1.0000e-05\n",
      "Epoch 76/200\n",
      "276/276 [==============================] - 5s 17ms/step - loss: 0.0103 - accuracy: 0.9994 - val_loss: 0.0640 - val_accuracy: 0.9798 - lr: 1.0000e-05\n",
      "Epoch 77/200\n",
      "276/276 [==============================] - 5s 17ms/step - loss: 0.0112 - accuracy: 0.9989 - val_loss: 0.0711 - val_accuracy: 0.9783 - lr: 1.0000e-05\n",
      "Epoch 78/200\n",
      "276/276 [==============================] - 5s 16ms/step - loss: 0.0088 - accuracy: 0.9996 - val_loss: 0.0625 - val_accuracy: 0.9828 - lr: 1.0000e-05\n",
      "Epoch 79/200\n",
      "276/276 [==============================] - 5s 17ms/step - loss: 0.0083 - accuracy: 0.9997 - val_loss: 0.0521 - val_accuracy: 0.9859 - lr: 1.0000e-05\n",
      "Epoch 80/200\n",
      "276/276 [==============================] - 5s 18ms/step - loss: 0.0084 - accuracy: 0.9996 - val_loss: 0.4967 - val_accuracy: 0.8550 - lr: 1.0000e-05\n",
      "Epoch 81/200\n",
      "276/276 [==============================] - 5s 17ms/step - loss: 0.0411 - accuracy: 0.9902 - val_loss: 0.0697 - val_accuracy: 0.9786 - lr: 1.0000e-05\n",
      "Epoch 82/200\n",
      "276/276 [==============================] - 5s 17ms/step - loss: 0.0070 - accuracy: 0.9999 - val_loss: 0.0566 - val_accuracy: 0.9828 - lr: 1.0000e-05\n",
      "Epoch 83/200\n",
      "276/276 [==============================] - 5s 17ms/step - loss: 0.0063 - accuracy: 0.9999 - val_loss: 0.0672 - val_accuracy: 0.9790 - lr: 1.0000e-05\n",
      "Epoch 84/200\n",
      "276/276 [==============================] - 5s 17ms/step - loss: 0.0060 - accuracy: 0.9999 - val_loss: 0.0694 - val_accuracy: 0.9785 - lr: 1.0000e-05\n",
      "Epoch 85/200\n",
      "276/276 [==============================] - 5s 17ms/step - loss: 0.0054 - accuracy: 0.9999 - val_loss: 0.0778 - val_accuracy: 0.9762 - lr: 1.0000e-05\n",
      "Epoch 86/200\n",
      "276/276 [==============================] - 5s 17ms/step - loss: 0.0056 - accuracy: 0.9999 - val_loss: 0.0985 - val_accuracy: 0.9736 - lr: 1.0000e-05\n",
      "Epoch 87/200\n",
      "276/276 [==============================] - 5s 17ms/step - loss: 0.0069 - accuracy: 0.9996 - val_loss: 0.0557 - val_accuracy: 0.9839 - lr: 1.0000e-05\n",
      "Epoch 88/200\n",
      "276/276 [==============================] - 5s 17ms/step - loss: 0.0048 - accuracy: 0.9999 - val_loss: 0.0800 - val_accuracy: 0.9760 - lr: 1.0000e-05\n",
      "Epoch 89/200\n",
      "276/276 [==============================] - 5s 17ms/step - loss: 0.0050 - accuracy: 0.9999 - val_loss: 0.0568 - val_accuracy: 0.9833 - lr: 1.0000e-05\n",
      "Epoch 90/200\n",
      "276/276 [==============================] - 5s 17ms/step - loss: 0.0093 - accuracy: 0.9987 - val_loss: 0.0574 - val_accuracy: 0.9839 - lr: 1.0000e-05\n",
      "Epoch 91/200\n",
      "276/276 [==============================] - 5s 17ms/step - loss: 0.0050 - accuracy: 0.9999 - val_loss: 0.0571 - val_accuracy: 0.9833 - lr: 1.0000e-05\n",
      "Epoch 92/200\n",
      "276/276 [==============================] - 5s 17ms/step - loss: 0.0041 - accuracy: 1.0000 - val_loss: 0.0737 - val_accuracy: 0.9778 - lr: 1.0000e-05\n",
      "Epoch 93/200\n",
      "276/276 [==============================] - 5s 17ms/step - loss: 0.0042 - accuracy: 1.0000 - val_loss: 0.0583 - val_accuracy: 0.9823 - lr: 1.0000e-05\n",
      "Epoch 94/200\n",
      "276/276 [==============================] - 5s 17ms/step - loss: 0.0041 - accuracy: 1.0000 - val_loss: 0.0549 - val_accuracy: 0.9853 - lr: 1.0000e-05\n",
      "Epoch 95/200\n",
      "276/276 [==============================] - 5s 17ms/step - loss: 0.0062 - accuracy: 0.9996 - val_loss: 0.0636 - val_accuracy: 0.9817 - lr: 1.0000e-05\n",
      "Epoch 96/200\n",
      "276/276 [==============================] - 5s 17ms/step - loss: 0.0034 - accuracy: 1.0000 - val_loss: 0.0646 - val_accuracy: 0.9801 - lr: 1.0000e-05\n",
      "Epoch 97/200\n",
      "276/276 [==============================] - 5s 16ms/step - loss: 0.0035 - accuracy: 0.9999 - val_loss: 0.0778 - val_accuracy: 0.9768 - lr: 1.0000e-05\n",
      "Epoch 98/200\n",
      "276/276 [==============================] - 5s 17ms/step - loss: 0.0132 - accuracy: 0.9972 - val_loss: 0.0671 - val_accuracy: 0.9813 - lr: 1.0000e-05\n",
      "Epoch 99/200\n",
      "276/276 [==============================] - 5s 17ms/step - loss: 0.0029 - accuracy: 1.0000 - val_loss: 0.0585 - val_accuracy: 0.9836 - lr: 1.0000e-05\n",
      "Epoch 100/200\n",
      "276/276 [==============================] - 5s 17ms/step - loss: 0.0026 - accuracy: 1.0000 - val_loss: 0.0813 - val_accuracy: 0.9758 - lr: 1.0000e-05\n",
      "Epoch 101/200\n",
      "276/276 [==============================] - 5s 17ms/step - loss: 0.0024 - accuracy: 1.0000 - val_loss: 0.0676 - val_accuracy: 0.9798 - lr: 1.0000e-05\n",
      "Epoch 102/200\n",
      "276/276 [==============================] - 5s 16ms/step - loss: 0.0025 - accuracy: 1.0000 - val_loss: 0.0593 - val_accuracy: 0.9834 - lr: 1.0000e-05\n",
      "Epoch 103/200\n",
      "276/276 [==============================] - 5s 17ms/step - loss: 0.0023 - accuracy: 1.0000 - val_loss: 0.0803 - val_accuracy: 0.9771 - lr: 1.0000e-05\n",
      "Epoch 104/200\n",
      "276/276 [==============================] - 5s 17ms/step - loss: 0.0023 - accuracy: 1.0000 - val_loss: 0.0681 - val_accuracy: 0.9803 - lr: 1.0000e-05\n",
      "Epoch 105/200\n",
      "276/276 [==============================] - 4s 16ms/step - loss: 0.0244 - accuracy: 0.9924 - val_loss: 0.0598 - val_accuracy: 0.9838 - lr: 1.0000e-05\n",
      "Epoch 106/200\n",
      "276/276 [==============================] - 4s 16ms/step - loss: 0.0030 - accuracy: 1.0000 - val_loss: 0.0653 - val_accuracy: 0.9813 - lr: 1.0000e-05\n",
      "Epoch 107/200\n",
      "276/276 [==============================] - 4s 16ms/step - loss: 0.0022 - accuracy: 1.0000 - val_loss: 0.0574 - val_accuracy: 0.9836 - lr: 1.0000e-05\n",
      "Epoch 108/200\n",
      "276/276 [==============================] - 4s 16ms/step - loss: 0.0020 - accuracy: 1.0000 - val_loss: 0.0516 - val_accuracy: 0.9852 - lr: 1.0000e-05\n",
      "Epoch 109/200\n",
      "276/276 [==============================] - 4s 16ms/step - loss: 0.0018 - accuracy: 1.0000 - val_loss: 0.0636 - val_accuracy: 0.9822 - lr: 1.0000e-05\n",
      "Epoch 110/200\n",
      "276/276 [==============================] - 4s 16ms/step - loss: 0.0017 - accuracy: 1.0000 - val_loss: 0.0612 - val_accuracy: 0.9828 - lr: 1.0000e-05\n",
      "Epoch 111/200\n",
      "276/276 [==============================] - 4s 16ms/step - loss: 0.0017 - accuracy: 1.0000 - val_loss: 0.0617 - val_accuracy: 0.9833 - lr: 1.0000e-05\n",
      "Epoch 112/200\n",
      "276/276 [==============================] - 4s 16ms/step - loss: 0.0016 - accuracy: 1.0000 - val_loss: 0.0674 - val_accuracy: 0.9808 - lr: 1.0000e-05\n",
      "Epoch 113/200\n",
      "276/276 [==============================] - 4s 16ms/step - loss: 0.0016 - accuracy: 1.0000 - val_loss: 0.0517 - val_accuracy: 0.9861 - lr: 1.0000e-05\n",
      "Epoch 114/200\n",
      "276/276 [==============================] - 4s 16ms/step - loss: 0.0016 - accuracy: 1.0000 - val_loss: 0.0642 - val_accuracy: 0.9830 - lr: 1.0000e-05\n",
      "Epoch 115/200\n",
      "276/276 [==============================] - 4s 16ms/step - loss: 0.0015 - accuracy: 1.0000 - val_loss: 0.0707 - val_accuracy: 0.9801 - lr: 1.0000e-05\n",
      "Epoch 116/200\n",
      "276/276 [==============================] - 4s 16ms/step - loss: 0.0016 - accuracy: 1.0000 - val_loss: 0.0548 - val_accuracy: 0.9849 - lr: 1.0000e-05\n",
      "Epoch 117/200\n",
      "276/276 [==============================] - 4s 16ms/step - loss: 0.0018 - accuracy: 1.0000 - val_loss: 0.0655 - val_accuracy: 0.9824 - lr: 1.0000e-05\n",
      "Epoch 118/200\n",
      "276/276 [==============================] - 4s 16ms/step - loss: 0.0015 - accuracy: 1.0000 - val_loss: 0.1026 - val_accuracy: 0.9738 - lr: 1.0000e-05\n",
      "Epoch 119/200\n",
      "276/276 [==============================] - 4s 16ms/step - loss: 0.0182 - accuracy: 0.9949 - val_loss: 0.0608 - val_accuracy: 0.9831 - lr: 1.0000e-05\n",
      "Epoch 120/200\n",
      "276/276 [==============================] - 4s 16ms/step - loss: 0.0016 - accuracy: 1.0000 - val_loss: 0.0577 - val_accuracy: 0.9841 - lr: 1.0000e-05\n",
      "Epoch 121/200\n",
      "276/276 [==============================] - 4s 16ms/step - loss: 0.0014 - accuracy: 1.0000 - val_loss: 0.0653 - val_accuracy: 0.9823 - lr: 1.0000e-05\n",
      "Epoch 122/200\n",
      "276/276 [==============================] - 4s 16ms/step - loss: 0.0012 - accuracy: 1.0000 - val_loss: 0.0586 - val_accuracy: 0.9842 - lr: 1.0000e-05\n",
      "Epoch 123/200\n",
      "276/276 [==============================] - 4s 16ms/step - loss: 0.0011 - accuracy: 1.0000 - val_loss: 0.0638 - val_accuracy: 0.9828 - lr: 1.0000e-05\n",
      "Epoch 124/200\n",
      "276/276 [==============================] - 4s 16ms/step - loss: 0.0011 - accuracy: 1.0000 - val_loss: 0.0759 - val_accuracy: 0.9788 - lr: 1.0000e-05\n",
      "Epoch 125/200\n",
      "276/276 [==============================] - 4s 16ms/step - loss: 0.0010 - accuracy: 1.0000 - val_loss: 0.0503 - val_accuracy: 0.9864 - lr: 1.0000e-05\n",
      "Epoch 126/200\n",
      "276/276 [==============================] - 4s 16ms/step - loss: 9.8533e-04 - accuracy: 1.0000 - val_loss: 0.0641 - val_accuracy: 0.9827 - lr: 1.0000e-05\n",
      "Epoch 127/200\n",
      "276/276 [==============================] - 4s 16ms/step - loss: 9.6038e-04 - accuracy: 1.0000 - val_loss: 0.0703 - val_accuracy: 0.9817 - lr: 1.0000e-05\n",
      "Epoch 128/200\n",
      "276/276 [==============================] - 4s 16ms/step - loss: 9.4562e-04 - accuracy: 1.0000 - val_loss: 0.0472 - val_accuracy: 0.9875 - lr: 1.0000e-05\n",
      "Epoch 129/200\n",
      "276/276 [==============================] - 4s 16ms/step - loss: 0.0011 - accuracy: 1.0000 - val_loss: 0.0578 - val_accuracy: 0.9847 - lr: 1.0000e-05\n",
      "Epoch 130/200\n",
      "276/276 [==============================] - 4s 16ms/step - loss: 9.1919e-04 - accuracy: 1.0000 - val_loss: 0.0495 - val_accuracy: 0.9870 - lr: 1.0000e-05\n",
      "Epoch 131/200\n",
      "276/276 [==============================] - 4s 16ms/step - loss: 0.0010 - accuracy: 1.0000 - val_loss: 0.0569 - val_accuracy: 0.9853 - lr: 1.0000e-05\n",
      "Epoch 132/200\n",
      "276/276 [==============================] - 4s 16ms/step - loss: 8.3356e-04 - accuracy: 1.0000 - val_loss: 0.0566 - val_accuracy: 0.9853 - lr: 1.0000e-05\n",
      "Epoch 133/200\n",
      "276/276 [==============================] - 5s 17ms/step - loss: 8.9318e-04 - accuracy: 1.0000 - val_loss: 0.0618 - val_accuracy: 0.9841 - lr: 1.0000e-05\n",
      "Epoch 134/200\n",
      "276/276 [==============================] - 4s 16ms/step - loss: 8.8089e-04 - accuracy: 1.0000 - val_loss: 0.0635 - val_accuracy: 0.9832 - lr: 1.0000e-05\n",
      "Epoch 135/200\n",
      "276/276 [==============================] - 5s 16ms/step - loss: 0.0202 - accuracy: 0.9943 - val_loss: 0.0600 - val_accuracy: 0.9833 - lr: 1.0000e-05\n",
      "Epoch 136/200\n",
      "276/276 [==============================] - 4s 16ms/step - loss: 0.0011 - accuracy: 1.0000 - val_loss: 0.0572 - val_accuracy: 0.9844 - lr: 1.0000e-05\n",
      "Epoch 137/200\n",
      "276/276 [==============================] - 5s 17ms/step - loss: 8.6657e-04 - accuracy: 1.0000 - val_loss: 0.0596 - val_accuracy: 0.9842 - lr: 1.0000e-05\n",
      "Epoch 138/200\n",
      "276/276 [==============================] - 4s 16ms/step - loss: 7.9035e-04 - accuracy: 1.0000 - val_loss: 0.0656 - val_accuracy: 0.9826 - lr: 1.0000e-05\n",
      "Epoch 139/200\n",
      "276/276 [==============================] - 5s 16ms/step - loss: 7.0939e-04 - accuracy: 1.0000 - val_loss: 0.0626 - val_accuracy: 0.9834 - lr: 1.0000e-05\n",
      "Epoch 140/200\n",
      "276/276 [==============================] - 5s 16ms/step - loss: 6.6289e-04 - accuracy: 1.0000 - val_loss: 0.0671 - val_accuracy: 0.9826 - lr: 1.0000e-05\n",
      "Epoch 141/200\n",
      "276/276 [==============================] - 4s 16ms/step - loss: 6.3976e-04 - accuracy: 1.0000 - val_loss: 0.0666 - val_accuracy: 0.9827 - lr: 1.0000e-05\n",
      "Epoch 142/200\n",
      "276/276 [==============================] - 4s 16ms/step - loss: 6.1038e-04 - accuracy: 1.0000 - val_loss: 0.0641 - val_accuracy: 0.9831 - lr: 1.0000e-05\n",
      "Epoch 143/200\n",
      "276/276 [==============================] - 4s 16ms/step - loss: 5.8793e-04 - accuracy: 1.0000 - val_loss: 0.0601 - val_accuracy: 0.9845 - lr: 1.0000e-05\n",
      "Epoch 144/200\n",
      "276/276 [==============================] - 4s 16ms/step - loss: 5.8336e-04 - accuracy: 1.0000 - val_loss: 0.0629 - val_accuracy: 0.9839 - lr: 1.0000e-05\n",
      "Epoch 145/200\n",
      "276/276 [==============================] - 4s 16ms/step - loss: 5.6004e-04 - accuracy: 1.0000 - val_loss: 0.0695 - val_accuracy: 0.9826 - lr: 1.0000e-05\n",
      "Epoch 146/200\n",
      "276/276 [==============================] - 4s 16ms/step - loss: 5.7634e-04 - accuracy: 1.0000 - val_loss: 0.0650 - val_accuracy: 0.9833 - lr: 1.0000e-05\n",
      "Epoch 147/200\n",
      "276/276 [==============================] - 4s 16ms/step - loss: 5.3455e-04 - accuracy: 1.0000 - val_loss: 0.0497 - val_accuracy: 0.9870 - lr: 1.0000e-05\n",
      "Epoch 148/200\n",
      "276/276 [==============================] - 4s 16ms/step - loss: 5.2845e-04 - accuracy: 1.0000 - val_loss: 0.1074 - val_accuracy: 0.9743 - lr: 1.0000e-05\n",
      "Epoch 149/200\n",
      "276/276 [==============================] - 4s 16ms/step - loss: 0.0212 - accuracy: 0.9942 - val_loss: 0.0540 - val_accuracy: 0.9861 - lr: 1.0000e-05\n",
      "Epoch 150/200\n",
      "276/276 [==============================] - 4s 16ms/step - loss: 8.7432e-04 - accuracy: 1.0000 - val_loss: 0.0645 - val_accuracy: 0.9830 - lr: 1.0000e-05\n",
      "Epoch 151/200\n",
      "276/276 [==============================] - 4s 16ms/step - loss: 7.0308e-04 - accuracy: 1.0000 - val_loss: 0.0608 - val_accuracy: 0.9842 - lr: 1.0000e-05\n",
      "Epoch 152/200\n",
      "276/276 [==============================] - 4s 16ms/step - loss: 6.3384e-04 - accuracy: 1.0000 - val_loss: 0.0635 - val_accuracy: 0.9838 - lr: 1.0000e-05\n",
      "Epoch 153/200\n",
      "276/276 [==============================] - 4s 16ms/step - loss: 5.8095e-04 - accuracy: 1.0000 - val_loss: 0.0656 - val_accuracy: 0.9834 - lr: 1.0000e-05\n",
      "Epoch 154/200\n",
      "276/276 [==============================] - 4s 16ms/step - loss: 5.4690e-04 - accuracy: 1.0000 - val_loss: 0.0637 - val_accuracy: 0.9837 - lr: 1.0000e-05\n",
      "Epoch 155/200\n",
      "276/276 [==============================] - 4s 16ms/step - loss: 5.1306e-04 - accuracy: 1.0000 - val_loss: 0.0689 - val_accuracy: 0.9821 - lr: 1.0000e-05\n",
      "Epoch 156/200\n",
      "276/276 [==============================] - 5s 17ms/step - loss: 4.9187e-04 - accuracy: 1.0000 - val_loss: 0.0651 - val_accuracy: 0.9837 - lr: 1.0000e-05\n",
      "Epoch 157/200\n",
      "276/276 [==============================] - 4s 16ms/step - loss: 4.6840e-04 - accuracy: 1.0000 - val_loss: 0.0647 - val_accuracy: 0.9835 - lr: 1.0000e-05\n",
      "Epoch 158/200\n",
      "276/276 [==============================] - 4s 16ms/step - loss: 4.5988e-04 - accuracy: 1.0000 - val_loss: 0.0678 - val_accuracy: 0.9826 - lr: 1.0000e-05\n",
      "Epoch 159/200\n",
      "276/276 [==============================] - 4s 16ms/step - loss: 4.4506e-04 - accuracy: 1.0000 - val_loss: 0.0611 - val_accuracy: 0.9841 - lr: 1.0000e-05\n",
      "Epoch 160/200\n",
      "276/276 [==============================] - 4s 16ms/step - loss: 4.2756e-04 - accuracy: 1.0000 - val_loss: 0.0707 - val_accuracy: 0.9823 - lr: 1.0000e-05\n",
      "Epoch 161/200\n",
      "276/276 [==============================] - 4s 16ms/step - loss: 4.2091e-04 - accuracy: 1.0000 - val_loss: 0.0709 - val_accuracy: 0.9824 - lr: 1.0000e-05\n",
      "Epoch 162/200\n",
      "276/276 [==============================] - 5s 17ms/step - loss: 4.0862e-04 - accuracy: 1.0000 - val_loss: 0.0617 - val_accuracy: 0.9843 - lr: 1.0000e-05\n",
      "Epoch 163/200\n",
      "276/276 [==============================] - 5s 18ms/step - loss: 4.0844e-04 - accuracy: 1.0000 - val_loss: 0.0591 - val_accuracy: 0.9848 - lr: 1.0000e-05\n",
      "Epoch 164/200\n",
      "276/276 [==============================] - 4s 16ms/step - loss: 3.9809e-04 - accuracy: 1.0000 - val_loss: 0.0731 - val_accuracy: 0.9813 - lr: 1.0000e-05\n",
      "Epoch 165/200\n",
      "276/276 [==============================] - 4s 16ms/step - loss: 3.9779e-04 - accuracy: 1.0000 - val_loss: 0.0961 - val_accuracy: 0.9784 - lr: 1.0000e-05\n",
      "Epoch 166/200\n",
      "276/276 [==============================] - 4s 16ms/step - loss: 4.5157e-04 - accuracy: 1.0000 - val_loss: 0.0694 - val_accuracy: 0.9823 - lr: 1.0000e-05\n",
      "Epoch 167/200\n",
      "276/276 [==============================] - 4s 16ms/step - loss: 3.5906e-04 - accuracy: 1.0000 - val_loss: 0.0683 - val_accuracy: 0.9830 - lr: 1.0000e-05\n",
      "Epoch 168/200\n",
      "276/276 [==============================] - 4s 16ms/step - loss: 3.5057e-04 - accuracy: 1.0000 - val_loss: 0.0665 - val_accuracy: 0.9838 - lr: 1.0000e-05\n",
      "Epoch 169/200\n",
      "276/276 [==============================] - 4s 16ms/step - loss: 3.5835e-04 - accuracy: 1.0000 - val_loss: 0.0829 - val_accuracy: 0.9806 - lr: 1.0000e-05\n",
      "Epoch 170/200\n",
      "276/276 [==============================] - 4s 16ms/step - loss: 0.0307 - accuracy: 0.9907 - val_loss: 0.0634 - val_accuracy: 0.9833 - lr: 1.0000e-05\n",
      "Epoch 171/200\n",
      "276/276 [==============================] - 4s 16ms/step - loss: 8.2735e-04 - accuracy: 1.0000 - val_loss: 0.0662 - val_accuracy: 0.9825 - lr: 1.0000e-05\n",
      "Epoch 172/200\n",
      "276/276 [==============================] - 4s 16ms/step - loss: 6.3478e-04 - accuracy: 1.0000 - val_loss: 0.0651 - val_accuracy: 0.9830 - lr: 1.0000e-05\n",
      "Epoch 173/200\n",
      "276/276 [==============================] - 5s 17ms/step - loss: 5.4139e-04 - accuracy: 1.0000 - val_loss: 0.0675 - val_accuracy: 0.9825 - lr: 1.0000e-05\n",
      "Epoch 174/200\n",
      "276/276 [==============================] - 5s 17ms/step - loss: 4.7895e-04 - accuracy: 1.0000 - val_loss: 0.0685 - val_accuracy: 0.9827 - lr: 1.0000e-05\n",
      "Epoch 175/200\n",
      "276/276 [==============================] - 5s 16ms/step - loss: 4.4624e-04 - accuracy: 1.0000 - val_loss: 0.0648 - val_accuracy: 0.9833 - lr: 1.0000e-05\n",
      "Epoch 176/200\n",
      "276/276 [==============================] - 4s 16ms/step - loss: 4.0064e-04 - accuracy: 1.0000 - val_loss: 0.0665 - val_accuracy: 0.9831 - lr: 1.0000e-05\n",
      "Epoch 177/200\n",
      "276/276 [==============================] - 4s 16ms/step - loss: 3.7248e-04 - accuracy: 1.0000 - val_loss: 0.0655 - val_accuracy: 0.9832 - lr: 1.0000e-05\n",
      "Epoch 178/200\n",
      "276/276 [==============================] - 4s 16ms/step - loss: 3.5148e-04 - accuracy: 1.0000 - val_loss: 0.0634 - val_accuracy: 0.9839 - lr: 1.0000e-05\n"
     ]
    }
   ],
   "source": [
    "from tensorflow.keras.callbacks import EarlyStopping\n",
    "history = model.fit(X_train ,\n",
    "                    y_train ,\n",
    "                    epochs=200 ,\n",
    "                    batch_size=128,\n",
    "                    validation_data=(X_test , y_test) ,\n",
    "                    callbacks=[learning_rate_reduction,EarlyStopping(monitor='loss', patience=10, restore_best_weights = True)])"
   ]
  },
  {
   "cell_type": "code",
   "execution_count": 18,
   "id": "e9acc699-b027-4aa4-a23d-05645b3d3557",
   "metadata": {},
   "outputs": [],
   "source": [
    "import tensorflow as tf\n",
    "model.save_weights('weights\\ResnetAttention.h5')"
   ]
  },
  {
   "cell_type": "code",
   "execution_count": 19,
   "id": "8a9c5503",
   "metadata": {
    "papermill": {
     "duration": 0.293671,
     "end_time": "2023-11-20T18:25:42.393925",
     "exception": false,
     "start_time": "2023-11-20T18:25:42.100254",
     "status": "completed"
    },
    "tags": []
   },
   "outputs": [],
   "source": [
    "def plot_training(hist):\n",
    "    tr_acc = hist.history['accuracy']\n",
    "    tr_loss = hist.history['loss']\n",
    "    val_acc = hist.history['val_accuracy']\n",
    "    val_loss = hist.history['val_loss']\n",
    "    index_loss = np.argmin(val_loss)\n",
    "    val_lowest = val_loss[index_loss]\n",
    "    index_acc = np.argmax(val_acc)\n",
    "    acc_highest = val_acc[index_acc]\n",
    "\n",
    "    plt.figure(figsize= (20, 8))\n",
    "    plt.style.use('fivethirtyeight')\n",
    "    Epochs = [i+1 for i in range(len(tr_acc))]\n",
    "    loss_label = f'best epoch= {str(index_loss + 1)}'\n",
    "    acc_label = f'best epoch= {str(index_acc + 1)}'\n",
    "    \n",
    "    plt.subplot(1, 2, 1)\n",
    "    plt.plot(Epochs, tr_loss, 'r', label= 'Training loss')\n",
    "    plt.plot(Epochs, val_loss, 'g', label= 'Validation loss')\n",
    "    plt.scatter(index_loss + 1, val_lowest, s= 150, c= 'blue', label= loss_label)\n",
    "    plt.title('Training and Validation Loss')\n",
    "    plt.xlabel('Epochs')\n",
    "    plt.ylabel('Loss')\n",
    "    plt.legend()\n",
    "    \n",
    "    plt.subplot(1, 2, 2)\n",
    "    plt.plot(Epochs, tr_acc, 'r', label= 'Training Accuracy')\n",
    "    plt.plot(Epochs, val_acc, 'g', label= 'Validation Accuracy')\n",
    "    plt.scatter(index_acc + 1 , acc_highest, s= 150, c= 'blue', label= acc_label)\n",
    "    plt.title('Training and Validation Accuracy')\n",
    "    plt.xlabel('Epochs')\n",
    "    plt.ylabel('Accuracy')\n",
    "    plt.legend()\n",
    "    \n",
    "    plt.tight_layout\n",
    "    plt.show()"
   ]
  },
  {
   "cell_type": "code",
   "execution_count": 20,
   "id": "0dba96f3",
   "metadata": {
    "papermill": {
     "duration": 1.187868,
     "end_time": "2023-11-20T18:25:43.847692",
     "exception": false,
     "start_time": "2023-11-20T18:25:42.659824",
     "status": "completed"
    },
    "tags": []
   },
   "outputs": [
    {
     "data": {
      "image/png": "[encoded data removed]",
      "text/plain": [
       "<Figure size 2000x800 with 2 Axes>"
      ]
     },
     "metadata": {},
     "output_type": "display_data"
    }
   ],
   "source": [
    "plot_training(history)"
   ]
  },
  {
   "cell_type": "code",
   "execution_count": 21,
   "id": "da07c753",
   "metadata": {
    "papermill": {
     "duration": 41.464997,
     "end_time": "2023-11-20T18:26:25.656002",
     "exception": false,
     "start_time": "2023-11-20T18:25:44.191005",
     "status": "completed"
    },
    "tags": []
   },
   "outputs": [
    {
     "name": "stdout",
     "output_type": "stream",
     "text": [
      "1101/1101 [==============================] - 4s 4ms/step - loss: 3.2641e-04 - accuracy: 1.0000\n",
      "367/367 [==============================] - 1s 4ms/step - loss: 0.0665 - accuracy: 0.9838\n",
      "Train Loss:  0.00032641427242197096\n",
      "Train Accuracy:  1.0\n",
      "--------------------\n",
      "Test Loss:  0.0664614662528038\n",
      "Test Accuracy:  0.9838077425956726\n"
     ]
    }
   ],
   "source": [
    "train_score = model.evaluate(X_train, y_train, verbose= 1)\n",
    "test_score = model.evaluate(X_test, y_test, verbose= 1)\n",
    "\n",
    "print(\"Train Loss: \", train_score[0])\n",
    "print(\"Train Accuracy: \", train_score[1])\n",
    "print('-' * 20)\n",
    "print(\"Test Loss: \", test_score[0])\n",
    "print(\"Test Accuracy: \", test_score[1])"
   ]
  },
  {
   "cell_type": "code",
   "execution_count": 22,
   "id": "7fa5e0da",
   "metadata": {
    "papermill": {
     "duration": 11.319973,
     "end_time": "2023-11-20T18:26:37.315854",
     "exception": false,
     "start_time": "2023-11-20T18:26:25.995881",
     "status": "completed"
    },
    "tags": []
   },
   "outputs": [
    {
     "name": "stdout",
     "output_type": "stream",
     "text": [
      "367/367 [==============================] - 1s 3ms/step\n"
     ]
    }
   ],
   "source": [
    "y_true = np.array(y_test)\n",
    "y_pred = model.predict(X_test)\n",
    "\n",
    "y_pred = np.argmax(y_pred , axis=1)\n",
    "y_true = np.argmax(y_true , axis=1)"
   ]
  },
  {
   "cell_type": "code",
   "execution_count": 23,
   "id": "2b21ad8c",
   "metadata": {
    "papermill": {
     "duration": 0.371808,
     "end_time": "2023-11-20T18:26:38.052179",
     "exception": false,
     "start_time": "2023-11-20T18:26:37.680371",
     "status": "completed"
    },
    "tags": []
   },
   "outputs": [
    {
     "name": "stdout",
     "output_type": "stream",
     "text": [
      "[4, 6, 2, 1, 5, 0, 3]\n"
     ]
    }
   ],
   "source": [
    "classes_labels = []\n",
    "for key in classes.keys():\n",
    "    classes_labels.append(key)\n",
    "\n",
    "print(classes_labels)"
   ]
  },
  {
   "cell_type": "code",
   "execution_count": 24,
   "id": "142a04b7",
   "metadata": {
    "papermill": {
     "duration": 1.150624,
     "end_time": "2023-11-20T18:26:39.559413",
     "exception": false,
     "start_time": "2023-11-20T18:26:38.408789",
     "status": "completed"
    },
    "tags": []
   },
   "outputs": [
    {
     "data": {
      "image/png": "[encoded data removed]",
      "text/plain": [
       "<Figure size 1000x1000 with 2 Axes>"
      ]
     },
     "metadata": {},
     "output_type": "display_data"
    }
   ],
   "source": [
    "cm = cm = confusion_matrix(y_true, y_pred, labels=classes_labels)\n",
    "\n",
    "plt.figure(figsize= (10, 10))\n",
    "plt.imshow(cm, interpolation= 'nearest', cmap= plt.cm.Blues)\n",
    "plt.title('Confusion Matrix')\n",
    "plt.colorbar()\n",
    "\n",
    "tick_marks = np.arange(len(classes))\n",
    "plt.xticks(tick_marks, classes, rotation= 45)\n",
    "plt.yticks(tick_marks, classes)\n",
    "\n",
    "\n",
    "thresh = cm.max() / 2.\n",
    "for i, j in itertools.product(range(cm.shape[0]), range(cm.shape[1])):\n",
    "    plt.text(j, i, cm[i, j], horizontalalignment= 'center', color= 'white' if cm[i, j] > thresh else 'black')\n",
    "\n",
    "plt.tight_layout()\n",
    "plt.ylabel('True Label')\n",
    "plt.xlabel('Predicted Label')\n",
    "\n",
    "plt.show()"
   ]
  },
  {
   "cell_type": "code",
   "execution_count": 25,
   "id": "3060744f",
   "metadata": {
    "papermill": {
     "duration": 0.596684,
     "end_time": "2023-11-20T18:26:40.514687",
     "exception": false,
     "start_time": "2023-11-20T18:26:39.918003",
     "status": "completed"
    },
    "tags": []
   },
   "outputs": [],
   "source": [
    "#model.save('Skin Cancer.h5')"
   ]
  },
  {
   "cell_type": "code",
   "execution_count": 28,
   "id": "ccb32b2b",
   "metadata": {
    "papermill": {
     "duration": 0.364649,
     "end_time": "2023-11-20T18:26:41.240370",
     "exception": false,
     "start_time": "2023-11-20T18:26:40.875721",
     "status": "completed"
    },
    "tags": []
   },
   "outputs": [
    {
     "data": {
      "text/plain": [
       "19111"
      ]
     },
     "execution_count": 28,
     "metadata": {},
     "output_type": "execute_result"
    }
   ],
   "source": [
    "from keras import backend as K\n",
    "import gc\n",
    "\n",
    "del model\n",
    "\n",
    "K.clear_session()\n",
    "gc.collect()"
   ]
  },
  {
   "cell_type": "code",
   "execution_count": 29,
   "id": "04cc4884-c06f-41bd-bea0-935698240a66",
   "metadata": {},
   "outputs": [],
   "source": [
    "#You need to install numba using 'pip install numba'\n",
    "\n",
    "from numba import cuda\n",
    "\n",
    "cuda.select_device(0)\n",
    "cuda.close()"
   ]
  },
  {
   "cell_type": "code",
   "execution_count": null,
   "id": "259d3e46-4649-406f-b759-d7e827542fa0",
   "metadata": {},
   "outputs": [],
   "source": []
  }
 ],
 "metadata": {
  "kaggle": {
   "accelerator": "none",
   "dataSources": [
    {
     "datasetId": 54339,
     "sourceId": 104884,
     "sourceType": "datasetVersion"
    }
   ],
   "dockerImageVersionId": 30558,
   "isGpuEnabled": false,
   "isInternetEnabled": true,
   "language": "python",
   "sourceType": "notebook"
  },
  "kernelspec": {
   "display_name": "Python 3 (ipykernel)",
   "language": "python",
   "name": "python3"
  },
  "language_info": {
   "codemirror_mode": {
    "name": "ipython",
    "version": 3
   },
   "file_extension": ".py",
   "mimetype": "text/x-python",
   "name": "python",
   "nbconvert_exporter": "python",
   "pygments_lexer": "ipython3",
   "version": "3.10.13"
  },
  "papermill": {
   "default_parameters": {},
   "duration": 1400.093646,
   "end_time": "2023-11-20T18:26:44.411951",
   "environment_variables": {},
   "exception": null,
   "input_path": "__notebook__.ipynb",
   "output_path": "__notebook__.ipynb",
   "parameters": {},
   "start_time": "2023-11-20T18:03:24.318305",
   "version": "2.4.0"
  }
 },
 "nbformat": 4,
 "nbformat_minor": 5
}
