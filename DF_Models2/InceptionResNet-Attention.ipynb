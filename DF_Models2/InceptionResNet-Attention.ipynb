{
 "cells": [
  {
   "cell_type": "code",
   "execution_count": 1,
   "id": "59dc3f32",
   "metadata": {
    "_cell_guid": "b1076dfc-b9ad-4769-8c92-a6c4dae69d19",
    "_uuid": "8f2839f25d086af736a60e9eeb907d3b93b6e0e5",
    "papermill": {
     "duration": 0.019523,
     "end_time": "2023-11-20T18:03:28.972064",
     "exception": false,
     "start_time": "2023-11-20T18:03:28.952541",
     "status": "completed"
    },
    "tags": []
   },
   "outputs": [],
   "source": [
    "# # This Python 3 environment comes with many helpful analytics libraries installed\n",
    "# # It is defined by the kaggle/python Docker image: https://github.com/kaggle/docker-python\n",
    "# # For example, here's several helpful packages to load\n",
    "\n",
    "# import numpy as np # linear algebra\n",
    "# import pandas as pd # data processing, CSV file I/O (e.g. pd.read_csv)\n",
    "\n",
    "# # Input data files are available in the read-only \"../input/\" directory\n",
    "# # For example, running this (by clicking run or pressing Shift+Enter) will list all files under the input directory\n",
    "\n",
    "# import os\n",
    "# for dirname, _, filenames in os.walk('/kaggle/input'):\n",
    "#     for filename in filenames:\n",
    "#         print(os.path.join(dirname, filename))\n",
    "\n",
    "# # You can write up to 20GB to the current directory (/kaggle/working/) that gets preserved as output when you create a version using \"Save & Run All\" \n",
    "# # You can also write temporary files to /kaggle/temp/, but they won't be saved outside of the current session"
   ]
  },
  {
   "cell_type": "code",
   "execution_count": 2,
   "id": "52f0cc78",
   "metadata": {
    "papermill": {
     "duration": 13.777656,
     "end_time": "2023-11-20T18:03:42.758467",
     "exception": false,
     "start_time": "2023-11-20T18:03:28.980811",
     "status": "completed"
    },
    "tags": []
   },
   "outputs": [
    {
     "name": "stdout",
     "output_type": "stream",
     "text": [
      "modules loaded\n"
     ]
    }
   ],
   "source": [
    "import os\n",
    "import time\n",
    "import shutil\n",
    "import itertools\n",
    "\n",
    "# import data handling tools \n",
    "import cv2\n",
    "import numpy as np\n",
    "import pandas as pd\n",
    "import seaborn as sns\n",
    "sns.set_style('darkgrid')\n",
    "import matplotlib.pyplot as plt\n",
    "# import Deep learning Libraries\n",
    "import tensorflow as tf\n",
    "from tensorflow import keras\n",
    "from tensorflow.keras.layers import Conv2D, MaxPooling2D, Flatten, Dense, Activation, Dropout, BatchNormalization,GlobalAveragePooling2D, Add, Multiply\n",
    "from tensorflow.keras.models import Model, load_model, Sequential\n",
    "from tensorflow.keras.models import Model, load_model, Sequential\n",
    "from tensorflow.keras.preprocessing.image import ImageDataGenerator\n",
    "from sklearn.metrics import confusion_matrix, classification_report\n",
    "from sklearn.model_selection import train_test_split\n",
    "from tensorflow.keras.optimizers import Adam, Adamax\n",
    "from tensorflow.keras import regularizers\n",
    "from tensorflow.keras.metrics import categorical_crossentropy\n",
    "\n",
    "# Ignore Warnings\n",
    "import warnings\n",
    "warnings.filterwarnings(\"ignore\")\n",
    "\n",
    "print ('modules loaded')"
   ]
  },
  {
   "cell_type": "code",
   "execution_count": 3,
   "id": "f796a06c",
   "metadata": {
    "papermill": {
     "duration": 5.498143,
     "end_time": "2023-11-20T18:03:48.265269",
     "exception": false,
     "start_time": "2023-11-20T18:03:42.767126",
     "status": "completed"
    },
    "tags": []
   },
   "outputs": [
    {
     "data": {
      "text/html": [
       "<div>\n",
       "<style scoped>\n",
       "    .dataframe tbody tr th:only-of-type {\n",
       "        vertical-align: middle;\n",
       "    }\n",
       "\n",
       "    .dataframe tbody tr th {\n",
       "        vertical-align: top;\n",
       "    }\n",
       "\n",
       "    .dataframe thead th {\n",
       "        text-align: right;\n",
       "    }\n",
       "</style>\n",
       "<table border=\"1\" class=\"dataframe\">\n",
       "  <thead>\n",
       "    <tr style=\"text-align: right;\">\n",
       "      <th></th>\n",
       "      <th>pixel0000</th>\n",
       "      <th>pixel0001</th>\n",
       "      <th>pixel0002</th>\n",
       "      <th>pixel0003</th>\n",
       "      <th>pixel0004</th>\n",
       "      <th>pixel0005</th>\n",
       "      <th>pixel0006</th>\n",
       "      <th>pixel0007</th>\n",
       "      <th>pixel0008</th>\n",
       "      <th>pixel0009</th>\n",
       "      <th>...</th>\n",
       "      <th>pixel2343</th>\n",
       "      <th>pixel2344</th>\n",
       "      <th>pixel2345</th>\n",
       "      <th>pixel2346</th>\n",
       "      <th>pixel2347</th>\n",
       "      <th>pixel2348</th>\n",
       "      <th>pixel2349</th>\n",
       "      <th>pixel2350</th>\n",
       "      <th>pixel2351</th>\n",
       "      <th>label</th>\n",
       "    </tr>\n",
       "  </thead>\n",
       "  <tbody>\n",
       "    <tr>\n",
       "      <th>0</th>\n",
       "      <td>192</td>\n",
       "      <td>153</td>\n",
       "      <td>193</td>\n",
       "      <td>195</td>\n",
       "      <td>155</td>\n",
       "      <td>192</td>\n",
       "      <td>197</td>\n",
       "      <td>154</td>\n",
       "      <td>185</td>\n",
       "      <td>202</td>\n",
       "      <td>...</td>\n",
       "      <td>173</td>\n",
       "      <td>124</td>\n",
       "      <td>138</td>\n",
       "      <td>183</td>\n",
       "      <td>147</td>\n",
       "      <td>166</td>\n",
       "      <td>185</td>\n",
       "      <td>154</td>\n",
       "      <td>177</td>\n",
       "      <td>2</td>\n",
       "    </tr>\n",
       "    <tr>\n",
       "      <th>1</th>\n",
       "      <td>25</td>\n",
       "      <td>14</td>\n",
       "      <td>30</td>\n",
       "      <td>68</td>\n",
       "      <td>48</td>\n",
       "      <td>75</td>\n",
       "      <td>123</td>\n",
       "      <td>93</td>\n",
       "      <td>126</td>\n",
       "      <td>158</td>\n",
       "      <td>...</td>\n",
       "      <td>60</td>\n",
       "      <td>39</td>\n",
       "      <td>55</td>\n",
       "      <td>25</td>\n",
       "      <td>14</td>\n",
       "      <td>28</td>\n",
       "      <td>25</td>\n",
       "      <td>14</td>\n",
       "      <td>27</td>\n",
       "      <td>2</td>\n",
       "    </tr>\n",
       "    <tr>\n",
       "      <th>2</th>\n",
       "      <td>192</td>\n",
       "      <td>138</td>\n",
       "      <td>153</td>\n",
       "      <td>200</td>\n",
       "      <td>145</td>\n",
       "      <td>163</td>\n",
       "      <td>201</td>\n",
       "      <td>142</td>\n",
       "      <td>160</td>\n",
       "      <td>206</td>\n",
       "      <td>...</td>\n",
       "      <td>167</td>\n",
       "      <td>129</td>\n",
       "      <td>143</td>\n",
       "      <td>159</td>\n",
       "      <td>124</td>\n",
       "      <td>142</td>\n",
       "      <td>136</td>\n",
       "      <td>104</td>\n",
       "      <td>117</td>\n",
       "      <td>2</td>\n",
       "    </tr>\n",
       "    <tr>\n",
       "      <th>3</th>\n",
       "      <td>38</td>\n",
       "      <td>19</td>\n",
       "      <td>30</td>\n",
       "      <td>95</td>\n",
       "      <td>59</td>\n",
       "      <td>72</td>\n",
       "      <td>143</td>\n",
       "      <td>103</td>\n",
       "      <td>119</td>\n",
       "      <td>171</td>\n",
       "      <td>...</td>\n",
       "      <td>44</td>\n",
       "      <td>26</td>\n",
       "      <td>36</td>\n",
       "      <td>25</td>\n",
       "      <td>12</td>\n",
       "      <td>17</td>\n",
       "      <td>25</td>\n",
       "      <td>12</td>\n",
       "      <td>15</td>\n",
       "      <td>2</td>\n",
       "    </tr>\n",
       "    <tr>\n",
       "      <th>4</th>\n",
       "      <td>158</td>\n",
       "      <td>113</td>\n",
       "      <td>139</td>\n",
       "      <td>194</td>\n",
       "      <td>144</td>\n",
       "      <td>174</td>\n",
       "      <td>215</td>\n",
       "      <td>162</td>\n",
       "      <td>191</td>\n",
       "      <td>225</td>\n",
       "      <td>...</td>\n",
       "      <td>209</td>\n",
       "      <td>166</td>\n",
       "      <td>185</td>\n",
       "      <td>172</td>\n",
       "      <td>135</td>\n",
       "      <td>149</td>\n",
       "      <td>109</td>\n",
       "      <td>78</td>\n",
       "      <td>92</td>\n",
       "      <td>2</td>\n",
       "    </tr>\n",
       "  </tbody>\n",
       "</table>\n",
       "<p>5 rows × 2353 columns</p>\n",
       "</div>"
      ],
      "text/plain": [
       "   pixel0000  pixel0001  pixel0002  pixel0003  pixel0004  pixel0005  \\\n",
       "0        192        153        193        195        155        192   \n",
       "1         25         14         30         68         48         75   \n",
       "2        192        138        153        200        145        163   \n",
       "3         38         19         30         95         59         72   \n",
       "4        158        113        139        194        144        174   \n",
       "\n",
       "   pixel0006  pixel0007  pixel0008  pixel0009  ...  pixel2343  pixel2344  \\\n",
       "0        197        154        185        202  ...        173        124   \n",
       "1        123         93        126        158  ...         60         39   \n",
       "2        201        142        160        206  ...        167        129   \n",
       "3        143        103        119        171  ...         44         26   \n",
       "4        215        162        191        225  ...        209        166   \n",
       "\n",
       "   pixel2345  pixel2346  pixel2347  pixel2348  pixel2349  pixel2350  \\\n",
       "0        138        183        147        166        185        154   \n",
       "1         55         25         14         28         25         14   \n",
       "2        143        159        124        142        136        104   \n",
       "3         36         25         12         17         25         12   \n",
       "4        185        172        135        149        109         78   \n",
       "\n",
       "   pixel2351  label  \n",
       "0        177      2  \n",
       "1         27      2  \n",
       "2        117      2  \n",
       "3         15      2  \n",
       "4         92      2  \n",
       "\n",
       "[5 rows x 2353 columns]"
      ]
     },
     "execution_count": 3,
     "metadata": {},
     "output_type": "execute_result"
    }
   ],
   "source": [
    "data_dir = r'F:\\MV\\Dataset\\HAM1000\\hmnist_28_28_RGB.csv'\n",
    "data = pd.read_csv(data_dir)\n",
    "data.head()"
   ]
  },
  {
   "cell_type": "code",
   "execution_count": 4,
   "id": "2ac3419f-5789-457a-a995-50a807ea7aed",
   "metadata": {},
   "outputs": [
    {
     "name": "stdout",
     "output_type": "stream",
     "text": [
      "<class 'pandas.core.frame.DataFrame'>\n",
      "RangeIndex: 10015 entries, 0 to 10014\n",
      "Columns: 2353 entries, pixel0000 to label\n",
      "dtypes: int64(2353)\n",
      "memory usage: 179.8 MB\n"
     ]
    }
   ],
   "source": [
    "data.info()"
   ]
  },
  {
   "cell_type": "code",
   "execution_count": 5,
   "id": "b0adcb8d",
   "metadata": {
    "papermill": {
     "duration": 0.110948,
     "end_time": "2023-11-20T18:03:48.385458",
     "exception": false,
     "start_time": "2023-11-20T18:03:48.274510",
     "status": "completed"
    },
    "tags": []
   },
   "outputs": [],
   "source": [
    "Label = data[\"label\"]\n",
    "Data = data.drop(columns=[\"label\"])"
   ]
  },
  {
   "cell_type": "code",
   "execution_count": 6,
   "id": "c779c31b",
   "metadata": {
    "papermill": {
     "duration": 0.025722,
     "end_time": "2023-11-20T18:03:48.420456",
     "exception": false,
     "start_time": "2023-11-20T18:03:48.394734",
     "status": "completed"
    },
    "tags": []
   },
   "outputs": [
    {
     "data": {
      "text/plain": [
       "label\n",
       "4    6705\n",
       "6    1113\n",
       "2    1099\n",
       "1     514\n",
       "0     327\n",
       "5     142\n",
       "3     115\n",
       "Name: count, dtype: int64"
      ]
     },
     "execution_count": 6,
     "metadata": {},
     "output_type": "execute_result"
    }
   ],
   "source": [
    "data[\"label\"].value_counts()"
   ]
  },
  {
   "cell_type": "code",
   "execution_count": 7,
   "id": "7d4aeb34",
   "metadata": {
    "papermill": {
     "duration": 3.928484,
     "end_time": "2023-11-20T18:03:52.357791",
     "exception": false,
     "start_time": "2023-11-20T18:03:48.429307",
     "status": "completed"
    },
    "tags": []
   },
   "outputs": [
    {
     "name": "stdout",
     "output_type": "stream",
     "text": [
      "Shape of Data : (46935, 28, 28, 3)\n"
     ]
    }
   ],
   "source": [
    "from imblearn.over_sampling import RandomOverSampler \n",
    "\n",
    "oversample = RandomOverSampler()\n",
    "Data, Label  = oversample.fit_resample(Data, Label)\n",
    "Data = np.array(Data).reshape(-1, 28, 28, 3)\n",
    "print('Shape of Data :', Data.shape)"
   ]
  },
  {
   "cell_type": "code",
   "execution_count": 8,
   "id": "50e90ae8",
   "metadata": {
    "papermill": {
     "duration": 0.021587,
     "end_time": "2023-11-20T18:03:52.388539",
     "exception": false,
     "start_time": "2023-11-20T18:03:52.366952",
     "status": "completed"
    },
    "tags": []
   },
   "outputs": [
    {
     "data": {
      "text/plain": [
       "array([2, 2, 2, ..., 6, 6, 6], dtype=int64)"
      ]
     },
     "execution_count": 8,
     "metadata": {},
     "output_type": "execute_result"
    }
   ],
   "source": [
    "Label = np.array(Label)\n",
    "Label"
   ]
  },
  {
   "cell_type": "code",
   "execution_count": 9,
   "id": "8e518cb6",
   "metadata": {
    "papermill": {
     "duration": 0.020228,
     "end_time": "2023-11-20T18:03:52.418121",
     "exception": false,
     "start_time": "2023-11-20T18:03:52.397893",
     "status": "completed"
    },
    "tags": []
   },
   "outputs": [],
   "source": [
    "classes = {4: ('nv', ' melanocytic nevi'),\n",
    "           6: ('mel', 'melanoma'),\n",
    "           2: ('bkl', 'benign keratosis-like lesions'), \n",
    "           1:('bcc' , ' basal cell carcinoma'),\n",
    "           5: ('vasc', ' pyogenic granulomas and hemorrhage'),\n",
    "           0: ('akiec', 'Actinic keratoses and intraepithelial carcinomae'),\n",
    "           3: ('df', 'dermatofibroma')}"
   ]
  },
  {
   "cell_type": "code",
   "execution_count": 10,
   "id": "9f16b6f8",
   "metadata": {
    "papermill": {
     "duration": 1.926467,
     "end_time": "2023-11-20T18:03:54.353943",
     "exception": false,
     "start_time": "2023-11-20T18:03:52.427476",
     "status": "completed"
    },
    "tags": []
   },
   "outputs": [],
   "source": [
    "from sklearn.model_selection import train_test_split\n",
    "\n",
    "X_train , X_test , y_train , y_test = train_test_split(Data , Label , test_size = 0.25 , random_state = 49)"
   ]
  },
  {
   "cell_type": "code",
   "execution_count": 11,
   "id": "425987e9",
   "metadata": {
    "papermill": {
     "duration": 0.020381,
     "end_time": "2023-11-20T18:03:54.384326",
     "exception": false,
     "start_time": "2023-11-20T18:03:54.363945",
     "status": "completed"
    },
    "tags": []
   },
   "outputs": [
    {
     "name": "stdout",
     "output_type": "stream",
     "text": [
      "(35201, 28, 28, 3)\n",
      "(35201,)\n",
      "(11734, 28, 28, 3)\n",
      "(11734,)\n"
     ]
    }
   ],
   "source": [
    "print(X_train.shape)\n",
    "print(y_train.shape)\n",
    "print(X_test.shape)\n",
    "print(y_test.shape)"
   ]
  },
  {
   "cell_type": "code",
   "execution_count": 12,
   "id": "09ae56d1",
   "metadata": {
    "papermill": {
     "duration": 0.019608,
     "end_time": "2023-11-20T18:03:54.413572",
     "exception": false,
     "start_time": "2023-11-20T18:03:54.393964",
     "status": "completed"
    },
    "tags": []
   },
   "outputs": [],
   "source": [
    "from tensorflow.python.keras.utils.np_utils import to_categorical\n",
    "\n",
    "y_train = to_categorical(y_train)\n",
    "y_test = to_categorical(y_test)"
   ]
  },
  {
   "cell_type": "code",
   "execution_count": 13,
   "id": "a96f1f06",
   "metadata": {
    "papermill": {
     "duration": 0.020389,
     "end_time": "2023-11-20T18:03:54.443370",
     "exception": false,
     "start_time": "2023-11-20T18:03:54.422981",
     "status": "completed"
    },
    "tags": []
   },
   "outputs": [],
   "source": [
    "datagen = ImageDataGenerator(rescale=(1./255)\n",
    "                             ,rotation_range=10\n",
    "                             ,zoom_range = 0.1\n",
    "                             ,width_shift_range=0.1\n",
    "                             ,height_shift_range=0.1)\n",
    "\n",
    "testgen = ImageDataGenerator(rescale=(1./255))"
   ]
  },
  {
   "cell_type": "code",
   "execution_count": 14,
   "id": "41546902",
   "metadata": {
    "papermill": {
     "duration": 0.019312,
     "end_time": "2023-11-20T18:03:54.471883",
     "exception": false,
     "start_time": "2023-11-20T18:03:54.452571",
     "status": "completed"
    },
    "tags": []
   },
   "outputs": [],
   "source": [
    "from keras.callbacks import ReduceLROnPlateau\n",
    "\n",
    "learning_rate_reduction = ReduceLROnPlateau(monitor='val_accuracy'\n",
    "                                            , patience = 2\n",
    "                                            , verbose=1\n",
    "                                            ,factor=0.5\n",
    "                                            , min_lr=0.00001)"
   ]
  },
  {
   "cell_type": "code",
   "execution_count": 15,
   "id": "cba3455b",
   "metadata": {
    "papermill": {
     "duration": 0.896561,
     "end_time": "2023-11-20T18:03:55.377689",
     "exception": false,
     "start_time": "2023-11-20T18:03:54.481128",
     "status": "completed"
    },
    "tags": []
   },
   "outputs": [],
   "source": [
    "import tensorflow as tf\n",
    "from tensorflow.keras.layers import Input, Conv2D, BatchNormalization, ReLU, Concatenate, AveragePooling2D, GlobalAveragePooling2D, Dense\n",
    "\n",
    "def squeeze_excitation_block(x, ratio=8):\n",
    "    channels = int(x.shape[-1])\n",
    "    se = GlobalAveragePooling2D()(x)\n",
    "    se = Dense(channels // ratio, activation='relu')(se)\n",
    "    se = Dense(channels, activation='sigmoid')(se)\n",
    "    se = tf.keras.layers.Reshape((1, 1, channels))(se)\n",
    "    scaled = Multiply()([x, se])\n",
    "    return scaled\n",
    "    \n",
    "def inception_resnet_block(x, scale=0.1):\n",
    "    conv1 = Conv2D(32, (1, 1), padding='same', activation='relu')(x)\n",
    "\n",
    "    conv2_1 = Conv2D(32, (1, 1), padding='same', activation='relu')(x)\n",
    "    conv2_1 = Conv2D(32, (3, 3), padding='same', activation='relu')(conv2_1)\n",
    "\n",
    "    conv3_1 = Conv2D(32, (1, 1), padding='same', activation='relu')(x)\n",
    "    conv3_1 = Conv2D(32, (5, 5), padding='same', activation='relu')(conv3_1)\n",
    "\n",
    "    inception_block = Concatenate(axis=-1)([conv1, conv2_1, conv3_1])\n",
    "\n",
    "    # Residual connection\n",
    "    scaled_block = Conv2D(int(x.shape[-1]), (1, 1), padding='same', activation='linear')(inception_block)\n",
    "    scaled_block = BatchNormalization()(scaled_block)\n",
    "\n",
    "    out = Concatenate(axis=-1)([x, scaled_block])\n",
    "    out = ReLU()(out * scale)\n",
    "\n",
    "    return out\n",
    "\n",
    "def inception_resnet(input_shape, num_classes):\n",
    "    input_tensor = Input(shape=input_shape)\n",
    "\n",
    "    # Initial convolutional layer\n",
    "    x = Conv2D(64, (3, 3), padding='same', activation='relu')(input_tensor)\n",
    "\n",
    "    # Inception-ResNet blocks\n",
    "    for _ in range(4):  # You can adjust the number of blocks as needed\n",
    "        x = inception_resnet_block(x)\n",
    "\n",
    "    # Global average pooling and dense layer\n",
    "    x = squeeze_excitation_block(x)\n",
    "    x = GlobalAveragePooling2D()(x)\n",
    "    output_tensor = Dense(num_classes, activation='softmax')(x)\n",
    "\n",
    "    model = tf.keras.models.Model(inputs=input_tensor, outputs=output_tensor)\n",
    "\n",
    "    return model\n",
    "\n"
   ]
  },
  {
   "cell_type": "code",
   "execution_count": 16,
   "id": "103ebadf-f169-444a-bfd2-f1289503c726",
   "metadata": {},
   "outputs": [
    {
     "name": "stdout",
     "output_type": "stream",
     "text": [
      "Model: \"model\"\n",
      "__________________________________________________________________________________________________\n",
      " Layer (type)                   Output Shape         Param #     Connected to                     \n",
      "==================================================================================================\n",
      " input_1 (InputLayer)           [(None, 28, 28, 3)]  0           []                               \n",
      "                                                                                                  \n",
      " conv2d (Conv2D)                (None, 28, 28, 64)   1792        ['input_1[0][0]']                \n",
      "                                                                                                  \n",
      " conv2d_2 (Conv2D)              (None, 28, 28, 32)   2080        ['conv2d[0][0]']                 \n",
      "                                                                                                  \n",
      " conv2d_4 (Conv2D)              (None, 28, 28, 32)   2080        ['conv2d[0][0]']                 \n",
      "                                                                                                  \n",
      " conv2d_1 (Conv2D)              (None, 28, 28, 32)   2080        ['conv2d[0][0]']                 \n",
      "                                                                                                  \n",
      " conv2d_3 (Conv2D)              (None, 28, 28, 32)   9248        ['conv2d_2[0][0]']               \n",
      "                                                                                                  \n",
      " conv2d_5 (Conv2D)              (None, 28, 28, 32)   25632       ['conv2d_4[0][0]']               \n",
      "                                                                                                  \n",
      " concatenate (Concatenate)      (None, 28, 28, 96)   0           ['conv2d_1[0][0]',               \n",
      "                                                                  'conv2d_3[0][0]',               \n",
      "                                                                  'conv2d_5[0][0]']               \n",
      "                                                                                                  \n",
      " conv2d_6 (Conv2D)              (None, 28, 28, 64)   6208        ['concatenate[0][0]']            \n",
      "                                                                                                  \n",
      " batch_normalization (BatchNorm  (None, 28, 28, 64)  256         ['conv2d_6[0][0]']               \n",
      " alization)                                                                                       \n",
      "                                                                                                  \n",
      " concatenate_1 (Concatenate)    (None, 28, 28, 128)  0           ['conv2d[0][0]',                 \n",
      "                                                                  'batch_normalization[0][0]']    \n",
      "                                                                                                  \n",
      " tf.math.multiply (TFOpLambda)  (None, 28, 28, 128)  0           ['concatenate_1[0][0]']          \n",
      "                                                                                                  \n",
      " re_lu (ReLU)                   (None, 28, 28, 128)  0           ['tf.math.multiply[0][0]']       \n",
      "                                                                                                  \n",
      " conv2d_8 (Conv2D)              (None, 28, 28, 32)   4128        ['re_lu[0][0]']                  \n",
      "                                                                                                  \n",
      " conv2d_10 (Conv2D)             (None, 28, 28, 32)   4128        ['re_lu[0][0]']                  \n",
      "                                                                                                  \n",
      " conv2d_7 (Conv2D)              (None, 28, 28, 32)   4128        ['re_lu[0][0]']                  \n",
      "                                                                                                  \n",
      " conv2d_9 (Conv2D)              (None, 28, 28, 32)   9248        ['conv2d_8[0][0]']               \n",
      "                                                                                                  \n",
      " conv2d_11 (Conv2D)             (None, 28, 28, 32)   25632       ['conv2d_10[0][0]']              \n",
      "                                                                                                  \n",
      " concatenate_2 (Concatenate)    (None, 28, 28, 96)   0           ['conv2d_7[0][0]',               \n",
      "                                                                  'conv2d_9[0][0]',               \n",
      "                                                                  'conv2d_11[0][0]']              \n",
      "                                                                                                  \n",
      " conv2d_12 (Conv2D)             (None, 28, 28, 128)  12416       ['concatenate_2[0][0]']          \n",
      "                                                                                                  \n",
      " batch_normalization_1 (BatchNo  (None, 28, 28, 128)  512        ['conv2d_12[0][0]']              \n",
      " rmalization)                                                                                     \n",
      "                                                                                                  \n",
      " concatenate_3 (Concatenate)    (None, 28, 28, 256)  0           ['re_lu[0][0]',                  \n",
      "                                                                  'batch_normalization_1[0][0]']  \n",
      "                                                                                                  \n",
      " tf.math.multiply_1 (TFOpLambda  (None, 28, 28, 256)  0          ['concatenate_3[0][0]']          \n",
      " )                                                                                                \n",
      "                                                                                                  \n",
      " re_lu_1 (ReLU)                 (None, 28, 28, 256)  0           ['tf.math.multiply_1[0][0]']     \n",
      "                                                                                                  \n",
      " conv2d_14 (Conv2D)             (None, 28, 28, 32)   8224        ['re_lu_1[0][0]']                \n",
      "                                                                                                  \n",
      " conv2d_16 (Conv2D)             (None, 28, 28, 32)   8224        ['re_lu_1[0][0]']                \n",
      "                                                                                                  \n",
      " conv2d_13 (Conv2D)             (None, 28, 28, 32)   8224        ['re_lu_1[0][0]']                \n",
      "                                                                                                  \n",
      " conv2d_15 (Conv2D)             (None, 28, 28, 32)   9248        ['conv2d_14[0][0]']              \n",
      "                                                                                                  \n",
      " conv2d_17 (Conv2D)             (None, 28, 28, 32)   25632       ['conv2d_16[0][0]']              \n",
      "                                                                                                  \n",
      " concatenate_4 (Concatenate)    (None, 28, 28, 96)   0           ['conv2d_13[0][0]',              \n",
      "                                                                  'conv2d_15[0][0]',              \n",
      "                                                                  'conv2d_17[0][0]']              \n",
      "                                                                                                  \n",
      " conv2d_18 (Conv2D)             (None, 28, 28, 256)  24832       ['concatenate_4[0][0]']          \n",
      "                                                                                                  \n",
      " batch_normalization_2 (BatchNo  (None, 28, 28, 256)  1024       ['conv2d_18[0][0]']              \n",
      " rmalization)                                                                                     \n",
      "                                                                                                  \n",
      " concatenate_5 (Concatenate)    (None, 28, 28, 512)  0           ['re_lu_1[0][0]',                \n",
      "                                                                  'batch_normalization_2[0][0]']  \n",
      "                                                                                                  \n",
      " tf.math.multiply_2 (TFOpLambda  (None, 28, 28, 512)  0          ['concatenate_5[0][0]']          \n",
      " )                                                                                                \n",
      "                                                                                                  \n",
      " re_lu_2 (ReLU)                 (None, 28, 28, 512)  0           ['tf.math.multiply_2[0][0]']     \n",
      "                                                                                                  \n",
      " conv2d_20 (Conv2D)             (None, 28, 28, 32)   16416       ['re_lu_2[0][0]']                \n",
      "                                                                                                  \n",
      " conv2d_22 (Conv2D)             (None, 28, 28, 32)   16416       ['re_lu_2[0][0]']                \n",
      "                                                                                                  \n",
      " conv2d_19 (Conv2D)             (None, 28, 28, 32)   16416       ['re_lu_2[0][0]']                \n",
      "                                                                                                  \n",
      " conv2d_21 (Conv2D)             (None, 28, 28, 32)   9248        ['conv2d_20[0][0]']              \n",
      "                                                                                                  \n",
      " conv2d_23 (Conv2D)             (None, 28, 28, 32)   25632       ['conv2d_22[0][0]']              \n",
      "                                                                                                  \n",
      " concatenate_6 (Concatenate)    (None, 28, 28, 96)   0           ['conv2d_19[0][0]',              \n",
      "                                                                  'conv2d_21[0][0]',              \n",
      "                                                                  'conv2d_23[0][0]']              \n",
      "                                                                                                  \n",
      " conv2d_24 (Conv2D)             (None, 28, 28, 512)  49664       ['concatenate_6[0][0]']          \n",
      "                                                                                                  \n",
      " batch_normalization_3 (BatchNo  (None, 28, 28, 512)  2048       ['conv2d_24[0][0]']              \n",
      " rmalization)                                                                                     \n",
      "                                                                                                  \n",
      " concatenate_7 (Concatenate)    (None, 28, 28, 1024  0           ['re_lu_2[0][0]',                \n",
      "                                )                                 'batch_normalization_3[0][0]']  \n",
      "                                                                                                  \n",
      " tf.math.multiply_3 (TFOpLambda  (None, 28, 28, 1024  0          ['concatenate_7[0][0]']          \n",
      " )                              )                                                                 \n",
      "                                                                                                  \n",
      " re_lu_3 (ReLU)                 (None, 28, 28, 1024  0           ['tf.math.multiply_3[0][0]']     \n",
      "                                )                                                                 \n",
      "                                                                                                  \n",
      " global_average_pooling2d (Glob  (None, 1024)        0           ['re_lu_3[0][0]']                \n",
      " alAveragePooling2D)                                                                              \n",
      "                                                                                                  \n",
      " dense (Dense)                  (None, 128)          131200      ['global_average_pooling2d[0][0]'\n",
      "                                                                 ]                                \n",
      "                                                                                                  \n",
      " dense_1 (Dense)                (None, 1024)         132096      ['dense[0][0]']                  \n",
      "                                                                                                  \n",
      " reshape (Reshape)              (None, 1, 1, 1024)   0           ['dense_1[0][0]']                \n",
      "                                                                                                  \n",
      " multiply (Multiply)            (None, 28, 28, 1024  0           ['re_lu_3[0][0]',                \n",
      "                                )                                 'reshape[0][0]']                \n",
      "                                                                                                  \n",
      " global_average_pooling2d_1 (Gl  (None, 1024)        0           ['multiply[0][0]']               \n",
      " obalAveragePooling2D)                                                                            \n",
      "                                                                                                  \n",
      " dense_2 (Dense)                (None, 7)            7175        ['global_average_pooling2d_1[0][0\n",
      "                                                                 ]']                              \n",
      "                                                                                                  \n",
      "==================================================================================================\n",
      "Total params: 601,287\n",
      "Trainable params: 599,367\n",
      "Non-trainable params: 1,920\n",
      "__________________________________________________________________________________________________\n"
     ]
    }
   ],
   "source": [
    "# Set input shape and number of classes\n",
    "input_shape = (28, 28, 3)  # Example input shape, adjust based on your requirements\n",
    "num_classes = 7  # Adjust based on your classification task\n",
    "\n",
    "# Create the Inception-ResNet model\n",
    "model = inception_resnet(input_shape, num_classes)\n",
    "\n",
    "# Compile the model\n",
    "model.compile(optimizer='adam', loss='categorical_crossentropy', metrics=['accuracy'])\n",
    "\n",
    "# Display the model summary\n",
    "model.summary()\n"
   ]
  },
  {
   "cell_type": "code",
   "execution_count": 17,
   "id": "49a2cf21-df32-437f-b0ce-1899088c3bad",
   "metadata": {},
   "outputs": [],
   "source": [
    "tf.keras.backend.clear_session()"
   ]
  },
  {
   "cell_type": "code",
   "execution_count": 18,
   "id": "674dcbb6",
   "metadata": {
    "papermill": {
     "duration": 1306.438779,
     "end_time": "2023-11-20T18:25:41.833059",
     "exception": false,
     "start_time": "2023-11-20T18:03:55.394280",
     "status": "completed"
    },
    "tags": []
   },
   "outputs": [
    {
     "name": "stdout",
     "output_type": "stream",
     "text": [
      "Epoch 1/250\n",
      "276/276 [==============================] - 55s 180ms/step - loss: 1.3519 - accuracy: 0.4957 - val_loss: 2.2161 - val_accuracy: 0.1594 - lr: 0.0010\n",
      "Epoch 2/250\n",
      "276/276 [==============================] - 49s 179ms/step - loss: 0.9533 - accuracy: 0.6490 - val_loss: 1.6684 - val_accuracy: 0.3706 - lr: 0.0010\n",
      "Epoch 3/250\n",
      "276/276 [==============================] - 50s 180ms/step - loss: 0.7596 - accuracy: 0.7237 - val_loss: 1.2325 - val_accuracy: 0.5545 - lr: 0.0010\n",
      "Epoch 4/250\n",
      "276/276 [==============================] - 50s 180ms/step - loss: 0.6274 - accuracy: 0.7712 - val_loss: 1.4056 - val_accuracy: 0.6058 - lr: 0.0010\n",
      "Epoch 5/250\n",
      "276/276 [==============================] - 50s 181ms/step - loss: 0.5207 - accuracy: 0.8104 - val_loss: 2.2542 - val_accuracy: 0.4872 - lr: 0.0010\n",
      "Epoch 6/250\n",
      "276/276 [==============================] - 50s 181ms/step - loss: 0.4544 - accuracy: 0.8367 - val_loss: 0.9506 - val_accuracy: 0.6445 - lr: 0.0010\n",
      "Epoch 7/250\n",
      "276/276 [==============================] - 51s 183ms/step - loss: 0.3739 - accuracy: 0.8655 - val_loss: 0.8967 - val_accuracy: 0.6918 - lr: 0.0010\n",
      "Epoch 8/250\n",
      "276/276 [==============================] - 52s 187ms/step - loss: 0.3165 - accuracy: 0.8870 - val_loss: 1.0327 - val_accuracy: 0.6562 - lr: 0.0010\n",
      "Epoch 9/250\n",
      "275/276 [============================>.] - ETA: 0s - loss: 0.3005 - accuracy: 0.8927\n",
      "Epoch 9: ReduceLROnPlateau reducing learning rate to 0.0005000000237487257.\n",
      "276/276 [==============================] - 52s 187ms/step - loss: 0.3006 - accuracy: 0.8927 - val_loss: 1.6198 - val_accuracy: 0.5582 - lr: 0.0010\n",
      "Epoch 10/250\n",
      "276/276 [==============================] - 52s 187ms/step - loss: 0.1894 - accuracy: 0.9366 - val_loss: 0.4120 - val_accuracy: 0.8507 - lr: 5.0000e-04\n",
      "Epoch 11/250\n",
      "276/276 [==============================] - 52s 187ms/step - loss: 0.1543 - accuracy: 0.9480 - val_loss: 0.9046 - val_accuracy: 0.7240 - lr: 5.0000e-04\n",
      "Epoch 12/250\n",
      "276/276 [==============================] - 52s 187ms/step - loss: 0.1446 - accuracy: 0.9524 - val_loss: 0.2200 - val_accuracy: 0.9214 - lr: 5.0000e-04\n",
      "Epoch 13/250\n",
      "276/276 [==============================] - 52s 188ms/step - loss: 0.1210 - accuracy: 0.9604 - val_loss: 0.6314 - val_accuracy: 0.8111 - lr: 5.0000e-04\n",
      "Epoch 14/250\n",
      "275/276 [============================>.] - ETA: 0s - loss: 0.1301 - accuracy: 0.9575\n",
      "Epoch 14: ReduceLROnPlateau reducing learning rate to 0.0002500000118743628.\n",
      "276/276 [==============================] - 52s 188ms/step - loss: 0.1302 - accuracy: 0.9575 - val_loss: 0.9742 - val_accuracy: 0.7527 - lr: 5.0000e-04\n",
      "Epoch 15/250\n",
      "276/276 [==============================] - 52s 188ms/step - loss: 0.0764 - accuracy: 0.9771 - val_loss: 0.1305 - val_accuracy: 0.9612 - lr: 2.5000e-04\n",
      "Epoch 16/250\n",
      "276/276 [==============================] - 52s 188ms/step - loss: 0.0693 - accuracy: 0.9806 - val_loss: 0.1548 - val_accuracy: 0.9541 - lr: 2.5000e-04\n",
      "Epoch 17/250\n",
      "275/276 [============================>.] - ETA: 0s - loss: 0.0551 - accuracy: 0.9852\n",
      "Epoch 17: ReduceLROnPlateau reducing learning rate to 0.0001250000059371814.\n",
      "276/276 [==============================] - 52s 188ms/step - loss: 0.0552 - accuracy: 0.9851 - val_loss: 0.1291 - val_accuracy: 0.9565 - lr: 2.5000e-04\n",
      "Epoch 18/250\n",
      "276/276 [==============================] - 52s 188ms/step - loss: 0.0454 - accuracy: 0.9895 - val_loss: 0.0845 - val_accuracy: 0.9734 - lr: 1.2500e-04\n",
      "Epoch 19/250\n",
      "276/276 [==============================] - 52s 188ms/step - loss: 0.0402 - accuracy: 0.9908 - val_loss: 0.0811 - val_accuracy: 0.9792 - lr: 1.2500e-04\n",
      "Epoch 20/250\n",
      "276/276 [==============================] - 52s 188ms/step - loss: 0.0372 - accuracy: 0.9921 - val_loss: 0.0818 - val_accuracy: 0.9768 - lr: 1.2500e-04\n",
      "Epoch 21/250\n",
      "276/276 [==============================] - 52s 188ms/step - loss: 0.0317 - accuracy: 0.9939 - val_loss: 0.0704 - val_accuracy: 0.9803 - lr: 1.2500e-04\n",
      "Epoch 22/250\n",
      "276/276 [==============================] - 52s 188ms/step - loss: 0.0314 - accuracy: 0.9941 - val_loss: 0.0714 - val_accuracy: 0.9807 - lr: 1.2500e-04\n",
      "Epoch 23/250\n",
      "276/276 [==============================] - 52s 188ms/step - loss: 0.0296 - accuracy: 0.9941 - val_loss: 0.1367 - val_accuracy: 0.9542 - lr: 1.2500e-04\n",
      "Epoch 24/250\n",
      "275/276 [============================>.] - ETA: 0s - loss: 0.0302 - accuracy: 0.9938\n",
      "Epoch 24: ReduceLROnPlateau reducing learning rate to 6.25000029685907e-05.\n",
      "276/276 [==============================] - 52s 188ms/step - loss: 0.0303 - accuracy: 0.9938 - val_loss: 0.0771 - val_accuracy: 0.9787 - lr: 1.2500e-04\n",
      "Epoch 25/250\n",
      "276/276 [==============================] - 52s 188ms/step - loss: 0.0213 - accuracy: 0.9970 - val_loss: 0.0625 - val_accuracy: 0.9852 - lr: 6.2500e-05\n",
      "Epoch 26/250\n",
      "276/276 [==============================] - 52s 188ms/step - loss: 0.0202 - accuracy: 0.9972 - val_loss: 0.0573 - val_accuracy: 0.9853 - lr: 6.2500e-05\n",
      "Epoch 27/250\n",
      "276/276 [==============================] - 52s 188ms/step - loss: 0.0185 - accuracy: 0.9975 - val_loss: 0.0591 - val_accuracy: 0.9861 - lr: 6.2500e-05\n",
      "Epoch 28/250\n",
      "276/276 [==============================] - 52s 188ms/step - loss: 0.0158 - accuracy: 0.9981 - val_loss: 0.0735 - val_accuracy: 0.9810 - lr: 6.2500e-05\n",
      "Epoch 29/250\n",
      "275/276 [============================>.] - ETA: 0s - loss: 0.0171 - accuracy: 0.9979\n",
      "Epoch 29: ReduceLROnPlateau reducing learning rate to 3.125000148429535e-05.\n",
      "276/276 [==============================] - 52s 188ms/step - loss: 0.0172 - accuracy: 0.9979 - val_loss: 0.0575 - val_accuracy: 0.9853 - lr: 6.2500e-05\n",
      "Epoch 30/250\n",
      "276/276 [==============================] - 52s 188ms/step - loss: 0.0147 - accuracy: 0.9984 - val_loss: 0.0569 - val_accuracy: 0.9854 - lr: 3.1250e-05\n",
      "Epoch 31/250\n",
      "275/276 [============================>.] - ETA: 0s - loss: 0.0136 - accuracy: 0.9986\n",
      "Epoch 31: ReduceLROnPlateau reducing learning rate to 1.5625000742147677e-05.\n",
      "276/276 [==============================] - 52s 188ms/step - loss: 0.0137 - accuracy: 0.9986 - val_loss: 0.0547 - val_accuracy: 0.9859 - lr: 3.1250e-05\n",
      "Epoch 32/250\n",
      "276/276 [==============================] - 52s 188ms/step - loss: 0.0130 - accuracy: 0.9989 - val_loss: 0.0576 - val_accuracy: 0.9851 - lr: 1.5625e-05\n",
      "Epoch 33/250\n",
      "276/276 [==============================] - 52s 188ms/step - loss: 0.0128 - accuracy: 0.9989 - val_loss: 0.0546 - val_accuracy: 0.9865 - lr: 1.5625e-05\n",
      "Epoch 34/250\n",
      "276/276 [==============================] - 52s 188ms/step - loss: 0.0119 - accuracy: 0.9990 - val_loss: 0.0563 - val_accuracy: 0.9855 - lr: 1.5625e-05\n",
      "Epoch 35/250\n",
      "275/276 [============================>.] - ETA: 0s - loss: 0.0118 - accuracy: 0.9993\n",
      "Epoch 35: ReduceLROnPlateau reducing learning rate to 1e-05.\n",
      "276/276 [==============================] - 52s 188ms/step - loss: 0.0119 - accuracy: 0.9993 - val_loss: 0.0568 - val_accuracy: 0.9853 - lr: 1.5625e-05\n",
      "Epoch 36/250\n",
      "276/276 [==============================] - 52s 189ms/step - loss: 0.0117 - accuracy: 0.9992 - val_loss: 0.0556 - val_accuracy: 0.9857 - lr: 1.0000e-05\n",
      "Epoch 37/250\n",
      "276/276 [==============================] - 52s 188ms/step - loss: 0.0112 - accuracy: 0.9993 - val_loss: 0.0555 - val_accuracy: 0.9861 - lr: 1.0000e-05\n",
      "Epoch 38/250\n",
      "276/276 [==============================] - 52s 188ms/step - loss: 0.0111 - accuracy: 0.9992 - val_loss: 0.0551 - val_accuracy: 0.9860 - lr: 1.0000e-05\n",
      "Epoch 39/250\n",
      "276/276 [==============================] - 52s 188ms/step - loss: 0.0114 - accuracy: 0.9991 - val_loss: 0.0560 - val_accuracy: 0.9859 - lr: 1.0000e-05\n",
      "Epoch 40/250\n",
      "276/276 [==============================] - 52s 188ms/step - loss: 0.0110 - accuracy: 0.9991 - val_loss: 0.0540 - val_accuracy: 0.9866 - lr: 1.0000e-05\n",
      "Epoch 41/250\n",
      "276/276 [==============================] - 52s 189ms/step - loss: 0.0110 - accuracy: 0.9990 - val_loss: 0.0546 - val_accuracy: 0.9860 - lr: 1.0000e-05\n",
      "Epoch 42/250\n",
      "276/276 [==============================] - 52s 189ms/step - loss: 0.0109 - accuracy: 0.9992 - val_loss: 0.0541 - val_accuracy: 0.9870 - lr: 1.0000e-05\n",
      "Epoch 43/250\n",
      "276/276 [==============================] - 52s 188ms/step - loss: 0.0111 - accuracy: 0.9993 - val_loss: 0.0570 - val_accuracy: 0.9854 - lr: 1.0000e-05\n",
      "Epoch 44/250\n",
      "276/276 [==============================] - 52s 189ms/step - loss: 0.0106 - accuracy: 0.9992 - val_loss: 0.0561 - val_accuracy: 0.9860 - lr: 1.0000e-05\n",
      "Epoch 45/250\n",
      "276/276 [==============================] - 52s 188ms/step - loss: 0.0105 - accuracy: 0.9993 - val_loss: 0.0541 - val_accuracy: 0.9867 - lr: 1.0000e-05\n",
      "Epoch 46/250\n",
      "276/276 [==============================] - 52s 189ms/step - loss: 0.0102 - accuracy: 0.9995 - val_loss: 0.0565 - val_accuracy: 0.9858 - lr: 1.0000e-05\n",
      "Epoch 47/250\n",
      "276/276 [==============================] - 52s 189ms/step - loss: 0.0102 - accuracy: 0.9993 - val_loss: 0.0554 - val_accuracy: 0.9859 - lr: 1.0000e-05\n",
      "Epoch 48/250\n",
      "276/276 [==============================] - 52s 189ms/step - loss: 0.0103 - accuracy: 0.9993 - val_loss: 0.0565 - val_accuracy: 0.9855 - lr: 1.0000e-05\n",
      "Epoch 49/250\n",
      "276/276 [==============================] - 52s 188ms/step - loss: 0.0101 - accuracy: 0.9993 - val_loss: 0.0558 - val_accuracy: 0.9862 - lr: 1.0000e-05\n",
      "Epoch 50/250\n",
      "276/276 [==============================] - 52s 189ms/step - loss: 0.0100 - accuracy: 0.9994 - val_loss: 0.0577 - val_accuracy: 0.9851 - lr: 1.0000e-05\n",
      "Epoch 51/250\n",
      "276/276 [==============================] - 52s 189ms/step - loss: 0.0101 - accuracy: 0.9994 - val_loss: 0.0561 - val_accuracy: 0.9859 - lr: 1.0000e-05\n",
      "Epoch 52/250\n",
      "276/276 [==============================] - 52s 189ms/step - loss: 0.0097 - accuracy: 0.9992 - val_loss: 0.0543 - val_accuracy: 0.9864 - lr: 1.0000e-05\n",
      "Epoch 53/250\n",
      "276/276 [==============================] - 52s 189ms/step - loss: 0.0097 - accuracy: 0.9993 - val_loss: 0.0549 - val_accuracy: 0.9862 - lr: 1.0000e-05\n",
      "Epoch 54/250\n",
      "276/276 [==============================] - 52s 189ms/step - loss: 0.0094 - accuracy: 0.9997 - val_loss: 0.0554 - val_accuracy: 0.9859 - lr: 1.0000e-05\n",
      "Epoch 55/250\n",
      "276/276 [==============================] - 52s 189ms/step - loss: 0.0094 - accuracy: 0.9994 - val_loss: 0.0552 - val_accuracy: 0.9863 - lr: 1.0000e-05\n",
      "Epoch 56/250\n",
      "276/276 [==============================] - 52s 189ms/step - loss: 0.0093 - accuracy: 0.9995 - val_loss: 0.0553 - val_accuracy: 0.9862 - lr: 1.0000e-05\n",
      "Epoch 57/250\n",
      "276/276 [==============================] - 52s 189ms/step - loss: 0.0091 - accuracy: 0.9994 - val_loss: 0.0573 - val_accuracy: 0.9851 - lr: 1.0000e-05\n",
      "Epoch 58/250\n",
      "276/276 [==============================] - 52s 189ms/step - loss: 0.0089 - accuracy: 0.9994 - val_loss: 0.0572 - val_accuracy: 0.9855 - lr: 1.0000e-05\n",
      "Epoch 59/250\n",
      "276/276 [==============================] - 52s 189ms/step - loss: 0.0089 - accuracy: 0.9995 - val_loss: 0.0557 - val_accuracy: 0.9858 - lr: 1.0000e-05\n",
      "Epoch 60/250\n",
      "276/276 [==============================] - 52s 189ms/step - loss: 0.0086 - accuracy: 0.9995 - val_loss: 0.0557 - val_accuracy: 0.9861 - lr: 1.0000e-05\n",
      "Epoch 61/250\n",
      "276/276 [==============================] - 52s 189ms/step - loss: 0.0085 - accuracy: 0.9996 - val_loss: 0.0553 - val_accuracy: 0.9863 - lr: 1.0000e-05\n",
      "Epoch 62/250\n",
      "276/276 [==============================] - 52s 189ms/step - loss: 0.0085 - accuracy: 0.9996 - val_loss: 0.0558 - val_accuracy: 0.9857 - lr: 1.0000e-05\n",
      "Epoch 63/250\n",
      "276/276 [==============================] - 52s 189ms/step - loss: 0.0086 - accuracy: 0.9995 - val_loss: 0.0552 - val_accuracy: 0.9863 - lr: 1.0000e-05\n",
      "Epoch 64/250\n",
      "276/276 [==============================] - 52s 189ms/step - loss: 0.0084 - accuracy: 0.9996 - val_loss: 0.0542 - val_accuracy: 0.9867 - lr: 1.0000e-05\n",
      "Epoch 65/250\n",
      "276/276 [==============================] - 52s 189ms/step - loss: 0.0088 - accuracy: 0.9994 - val_loss: 0.0523 - val_accuracy: 0.9873 - lr: 1.0000e-05\n",
      "Epoch 66/250\n",
      "276/276 [==============================] - 52s 189ms/step - loss: 0.0082 - accuracy: 0.9996 - val_loss: 0.0553 - val_accuracy: 0.9859 - lr: 1.0000e-05\n",
      "Epoch 67/250\n",
      "276/276 [==============================] - 52s 189ms/step - loss: 0.0082 - accuracy: 0.9995 - val_loss: 0.0559 - val_accuracy: 0.9857 - lr: 1.0000e-05\n",
      "Epoch 68/250\n",
      "276/276 [==============================] - 52s 188ms/step - loss: 0.0082 - accuracy: 0.9997 - val_loss: 0.0553 - val_accuracy: 0.9867 - lr: 1.0000e-05\n",
      "Epoch 69/250\n",
      "276/276 [==============================] - 52s 189ms/step - loss: 0.0080 - accuracy: 0.9997 - val_loss: 0.0576 - val_accuracy: 0.9854 - lr: 1.0000e-05\n",
      "Epoch 70/250\n",
      "276/276 [==============================] - 52s 189ms/step - loss: 0.0083 - accuracy: 0.9995 - val_loss: 0.0565 - val_accuracy: 0.9859 - lr: 1.0000e-05\n",
      "Epoch 71/250\n",
      "276/276 [==============================] - 52s 189ms/step - loss: 0.0081 - accuracy: 0.9995 - val_loss: 0.0570 - val_accuracy: 0.9859 - lr: 1.0000e-05\n",
      "Epoch 72/250\n",
      "276/276 [==============================] - 52s 189ms/step - loss: 0.0078 - accuracy: 0.9997 - val_loss: 0.0571 - val_accuracy: 0.9856 - lr: 1.0000e-05\n",
      "Epoch 73/250\n",
      "276/276 [==============================] - 52s 189ms/step - loss: 0.0075 - accuracy: 0.9996 - val_loss: 0.0557 - val_accuracy: 0.9863 - lr: 1.0000e-05\n",
      "Epoch 74/250\n",
      "276/276 [==============================] - 52s 189ms/step - loss: 0.0080 - accuracy: 0.9995 - val_loss: 0.0571 - val_accuracy: 0.9856 - lr: 1.0000e-05\n",
      "Epoch 75/250\n",
      "276/276 [==============================] - 52s 189ms/step - loss: 0.0074 - accuracy: 0.9997 - val_loss: 0.0565 - val_accuracy: 0.9864 - lr: 1.0000e-05\n",
      "Epoch 76/250\n",
      "276/276 [==============================] - 52s 189ms/step - loss: 0.0072 - accuracy: 0.9997 - val_loss: 0.0552 - val_accuracy: 0.9864 - lr: 1.0000e-05\n",
      "Epoch 77/250\n",
      "276/276 [==============================] - 52s 189ms/step - loss: 0.0072 - accuracy: 0.9997 - val_loss: 0.0537 - val_accuracy: 0.9867 - lr: 1.0000e-05\n",
      "Epoch 78/250\n",
      "276/276 [==============================] - 52s 189ms/step - loss: 0.0072 - accuracy: 0.9997 - val_loss: 0.0546 - val_accuracy: 0.9869 - lr: 1.0000e-05\n",
      "Epoch 79/250\n",
      "276/276 [==============================] - 52s 189ms/step - loss: 0.0073 - accuracy: 0.9997 - val_loss: 0.0564 - val_accuracy: 0.9859 - lr: 1.0000e-05\n",
      "Epoch 80/250\n",
      "276/276 [==============================] - 52s 189ms/step - loss: 0.0072 - accuracy: 0.9997 - val_loss: 0.0572 - val_accuracy: 0.9857 - lr: 1.0000e-05\n",
      "Epoch 81/250\n",
      "276/276 [==============================] - 52s 189ms/step - loss: 0.0069 - accuracy: 0.9997 - val_loss: 0.0557 - val_accuracy: 0.9861 - lr: 1.0000e-05\n",
      "Epoch 82/250\n",
      "276/276 [==============================] - 52s 189ms/step - loss: 0.0070 - accuracy: 0.9997 - val_loss: 0.0550 - val_accuracy: 0.9863 - lr: 1.0000e-05\n",
      "Epoch 83/250\n",
      "276/276 [==============================] - 52s 189ms/step - loss: 0.0066 - accuracy: 0.9998 - val_loss: 0.0558 - val_accuracy: 0.9859 - lr: 1.0000e-05\n",
      "Epoch 84/250\n",
      "276/276 [==============================] - 52s 189ms/step - loss: 0.0067 - accuracy: 0.9997 - val_loss: 0.0563 - val_accuracy: 0.9861 - lr: 1.0000e-05\n",
      "Epoch 85/250\n",
      "276/276 [==============================] - 52s 189ms/step - loss: 0.0067 - accuracy: 0.9996 - val_loss: 0.0576 - val_accuracy: 0.9856 - lr: 1.0000e-05\n",
      "Epoch 86/250\n",
      "276/276 [==============================] - 52s 189ms/step - loss: 0.0066 - accuracy: 0.9997 - val_loss: 0.0547 - val_accuracy: 0.9870 - lr: 1.0000e-05\n",
      "Epoch 87/250\n",
      "276/276 [==============================] - 52s 189ms/step - loss: 0.0067 - accuracy: 0.9998 - val_loss: 0.0549 - val_accuracy: 0.9864 - lr: 1.0000e-05\n",
      "Epoch 88/250\n",
      "276/276 [==============================] - 52s 189ms/step - loss: 0.0066 - accuracy: 0.9997 - val_loss: 0.0559 - val_accuracy: 0.9859 - lr: 1.0000e-05\n",
      "Epoch 89/250\n",
      "276/276 [==============================] - 52s 189ms/step - loss: 0.0064 - accuracy: 0.9998 - val_loss: 0.0546 - val_accuracy: 0.9865 - lr: 1.0000e-05\n",
      "Epoch 90/250\n",
      "276/276 [==============================] - 52s 189ms/step - loss: 0.0062 - accuracy: 0.9999 - val_loss: 0.0574 - val_accuracy: 0.9856 - lr: 1.0000e-05\n",
      "Epoch 91/250\n",
      "276/276 [==============================] - 52s 189ms/step - loss: 0.0064 - accuracy: 0.9998 - val_loss: 0.0557 - val_accuracy: 0.9863 - lr: 1.0000e-05\n",
      "Epoch 92/250\n",
      "276/276 [==============================] - 52s 189ms/step - loss: 0.0067 - accuracy: 0.9997 - val_loss: 0.0562 - val_accuracy: 0.9855 - lr: 1.0000e-05\n",
      "Epoch 93/250\n",
      "276/276 [==============================] - 52s 189ms/step - loss: 0.0063 - accuracy: 0.9997 - val_loss: 0.0564 - val_accuracy: 0.9866 - lr: 1.0000e-05\n",
      "Epoch 94/250\n",
      "276/276 [==============================] - 52s 189ms/step - loss: 0.0063 - accuracy: 0.9997 - val_loss: 0.0547 - val_accuracy: 0.9864 - lr: 1.0000e-05\n",
      "Epoch 95/250\n",
      "276/276 [==============================] - 52s 189ms/step - loss: 0.0065 - accuracy: 0.9999 - val_loss: 0.0580 - val_accuracy: 0.9858 - lr: 1.0000e-05\n",
      "Epoch 96/250\n",
      "276/276 [==============================] - 52s 189ms/step - loss: 0.0062 - accuracy: 0.9998 - val_loss: 0.0543 - val_accuracy: 0.9867 - lr: 1.0000e-05\n",
      "Epoch 97/250\n",
      "276/276 [==============================] - 52s 189ms/step - loss: 0.0059 - accuracy: 0.9999 - val_loss: 0.0576 - val_accuracy: 0.9855 - lr: 1.0000e-05\n",
      "Epoch 98/250\n",
      "276/276 [==============================] - 52s 189ms/step - loss: 0.0060 - accuracy: 0.9998 - val_loss: 0.0570 - val_accuracy: 0.9860 - lr: 1.0000e-05\n",
      "Epoch 99/250\n",
      "276/276 [==============================] - 52s 189ms/step - loss: 0.0060 - accuracy: 0.9998 - val_loss: 0.0561 - val_accuracy: 0.9859 - lr: 1.0000e-05\n",
      "Epoch 100/250\n",
      "276/276 [==============================] - 52s 189ms/step - loss: 0.0057 - accuracy: 0.9999 - val_loss: 0.0561 - val_accuracy: 0.9864 - lr: 1.0000e-05\n",
      "Epoch 101/250\n",
      "276/276 [==============================] - 52s 189ms/step - loss: 0.0057 - accuracy: 0.9999 - val_loss: 0.0541 - val_accuracy: 0.9872 - lr: 1.0000e-05\n",
      "Epoch 102/250\n",
      "276/276 [==============================] - 52s 189ms/step - loss: 0.0058 - accuracy: 0.9997 - val_loss: 0.0574 - val_accuracy: 0.9862 - lr: 1.0000e-05\n",
      "Epoch 103/250\n",
      "276/276 [==============================] - 52s 189ms/step - loss: 0.0059 - accuracy: 0.9997 - val_loss: 0.0571 - val_accuracy: 0.9862 - lr: 1.0000e-05\n",
      "Epoch 104/250\n",
      "276/276 [==============================] - 52s 189ms/step - loss: 0.0057 - accuracy: 0.9998 - val_loss: 0.0574 - val_accuracy: 0.9863 - lr: 1.0000e-05\n",
      "Epoch 105/250\n",
      "276/276 [==============================] - 52s 189ms/step - loss: 0.0058 - accuracy: 0.9998 - val_loss: 0.0553 - val_accuracy: 0.9866 - lr: 1.0000e-05\n",
      "Epoch 106/250\n",
      "276/276 [==============================] - 52s 189ms/step - loss: 0.0058 - accuracy: 0.9998 - val_loss: 0.0580 - val_accuracy: 0.9859 - lr: 1.0000e-05\n",
      "Epoch 107/250\n",
      "276/276 [==============================] - 52s 189ms/step - loss: 0.0056 - accuracy: 0.9998 - val_loss: 0.0570 - val_accuracy: 0.9861 - lr: 1.0000e-05\n",
      "Epoch 108/250\n",
      "276/276 [==============================] - 52s 189ms/step - loss: 0.0056 - accuracy: 0.9999 - val_loss: 0.0563 - val_accuracy: 0.9860 - lr: 1.0000e-05\n",
      "Epoch 109/250\n",
      "276/276 [==============================] - 52s 189ms/step - loss: 0.0057 - accuracy: 0.9998 - val_loss: 0.0563 - val_accuracy: 0.9863 - lr: 1.0000e-05\n",
      "Epoch 110/250\n",
      "276/276 [==============================] - 52s 189ms/step - loss: 0.0054 - accuracy: 0.9999 - val_loss: 0.0560 - val_accuracy: 0.9861 - lr: 1.0000e-05\n",
      "Epoch 111/250\n",
      "276/276 [==============================] - 52s 189ms/step - loss: 0.0054 - accuracy: 0.9999 - val_loss: 0.0570 - val_accuracy: 0.9864 - lr: 1.0000e-05\n",
      "Epoch 112/250\n",
      "276/276 [==============================] - 52s 189ms/step - loss: 0.0056 - accuracy: 0.9998 - val_loss: 0.0553 - val_accuracy: 0.9868 - lr: 1.0000e-05\n",
      "Epoch 113/250\n",
      "276/276 [==============================] - 52s 189ms/step - loss: 0.0055 - accuracy: 0.9998 - val_loss: 0.0565 - val_accuracy: 0.9868 - lr: 1.0000e-05\n",
      "Epoch 114/250\n",
      "276/276 [==============================] - 52s 189ms/step - loss: 0.0053 - accuracy: 0.9998 - val_loss: 0.0554 - val_accuracy: 0.9867 - lr: 1.0000e-05\n",
      "Epoch 115/250\n",
      "276/276 [==============================] - 52s 189ms/step - loss: 0.0052 - accuracy: 0.9999 - val_loss: 0.0543 - val_accuracy: 0.9868 - lr: 1.0000e-05\n",
      "Epoch 116/250\n",
      "276/276 [==============================] - 52s 189ms/step - loss: 0.0051 - accuracy: 0.9999 - val_loss: 0.0587 - val_accuracy: 0.9859 - lr: 1.0000e-05\n",
      "Epoch 117/250\n",
      "276/276 [==============================] - 52s 189ms/step - loss: 0.0051 - accuracy: 0.9999 - val_loss: 0.0590 - val_accuracy: 0.9857 - lr: 1.0000e-05\n",
      "Epoch 118/250\n",
      "276/276 [==============================] - 52s 189ms/step - loss: 0.0051 - accuracy: 0.9999 - val_loss: 0.0549 - val_accuracy: 0.9867 - lr: 1.0000e-05\n",
      "Epoch 119/250\n",
      "276/276 [==============================] - 52s 189ms/step - loss: 0.0051 - accuracy: 0.9998 - val_loss: 0.0568 - val_accuracy: 0.9861 - lr: 1.0000e-05\n",
      "Epoch 120/250\n",
      "276/276 [==============================] - 52s 189ms/step - loss: 0.0050 - accuracy: 0.9999 - val_loss: 0.0586 - val_accuracy: 0.9853 - lr: 1.0000e-05\n",
      "Epoch 121/250\n",
      "276/276 [==============================] - 52s 189ms/step - loss: 0.0049 - accuracy: 0.9999 - val_loss: 0.0550 - val_accuracy: 0.9870 - lr: 1.0000e-05\n",
      "Epoch 122/250\n",
      "276/276 [==============================] - 52s 189ms/step - loss: 0.0051 - accuracy: 0.9999 - val_loss: 0.0608 - val_accuracy: 0.9847 - lr: 1.0000e-05\n",
      "Epoch 123/250\n",
      "276/276 [==============================] - 52s 189ms/step - loss: 0.0049 - accuracy: 0.9999 - val_loss: 0.0595 - val_accuracy: 0.9855 - lr: 1.0000e-05\n",
      "Epoch 124/250\n",
      "276/276 [==============================] - 52s 189ms/step - loss: 0.0047 - accuracy: 0.9999 - val_loss: 0.0534 - val_accuracy: 0.9867 - lr: 1.0000e-05\n",
      "Epoch 125/250\n",
      "276/276 [==============================] - 52s 189ms/step - loss: 0.0050 - accuracy: 0.9999 - val_loss: 0.0586 - val_accuracy: 0.9855 - lr: 1.0000e-05\n",
      "Epoch 126/250\n",
      "276/276 [==============================] - 52s 189ms/step - loss: 0.0048 - accuracy: 0.9999 - val_loss: 0.0569 - val_accuracy: 0.9861 - lr: 1.0000e-05\n",
      "Epoch 127/250\n",
      "276/276 [==============================] - 52s 189ms/step - loss: 0.0049 - accuracy: 0.9998 - val_loss: 0.0567 - val_accuracy: 0.9868 - lr: 1.0000e-05\n",
      "Epoch 128/250\n",
      "276/276 [==============================] - 52s 189ms/step - loss: 0.0049 - accuracy: 0.9999 - val_loss: 0.0590 - val_accuracy: 0.9858 - lr: 1.0000e-05\n",
      "Epoch 129/250\n",
      "276/276 [==============================] - 52s 189ms/step - loss: 0.0049 - accuracy: 0.9998 - val_loss: 0.0579 - val_accuracy: 0.9862 - lr: 1.0000e-05\n",
      "Epoch 130/250\n",
      "276/276 [==============================] - 52s 189ms/step - loss: 0.0051 - accuracy: 0.9999 - val_loss: 0.0574 - val_accuracy: 0.9864 - lr: 1.0000e-05\n",
      "Epoch 131/250\n",
      "276/276 [==============================] - 52s 189ms/step - loss: 0.0049 - accuracy: 0.9999 - val_loss: 0.0559 - val_accuracy: 0.9870 - lr: 1.0000e-05\n",
      "Epoch 132/250\n",
      "276/276 [==============================] - 52s 189ms/step - loss: 0.0045 - accuracy: 1.0000 - val_loss: 0.0562 - val_accuracy: 0.9866 - lr: 1.0000e-05\n",
      "Epoch 133/250\n",
      "276/276 [==============================] - 52s 189ms/step - loss: 0.0045 - accuracy: 0.9999 - val_loss: 0.0584 - val_accuracy: 0.9858 - lr: 1.0000e-05\n",
      "Epoch 134/250\n",
      "276/276 [==============================] - 52s 189ms/step - loss: 0.0045 - accuracy: 0.9999 - val_loss: 0.0589 - val_accuracy: 0.9857 - lr: 1.0000e-05\n",
      "Epoch 135/250\n",
      "276/276 [==============================] - 52s 189ms/step - loss: 0.0043 - accuracy: 0.9999 - val_loss: 0.0559 - val_accuracy: 0.9867 - lr: 1.0000e-05\n",
      "Epoch 136/250\n",
      "276/276 [==============================] - 52s 189ms/step - loss: 0.0042 - accuracy: 0.9999 - val_loss: 0.0562 - val_accuracy: 0.9866 - lr: 1.0000e-05\n",
      "Epoch 137/250\n",
      "276/276 [==============================] - 52s 189ms/step - loss: 0.0046 - accuracy: 0.9998 - val_loss: 0.0581 - val_accuracy: 0.9863 - lr: 1.0000e-05\n",
      "Epoch 138/250\n",
      "276/276 [==============================] - 52s 189ms/step - loss: 0.0046 - accuracy: 0.9999 - val_loss: 0.0596 - val_accuracy: 0.9855 - lr: 1.0000e-05\n",
      "Epoch 139/250\n",
      "276/276 [==============================] - 52s 189ms/step - loss: 0.0043 - accuracy: 0.9999 - val_loss: 0.0580 - val_accuracy: 0.9864 - lr: 1.0000e-05\n",
      "Epoch 140/250\n",
      "276/276 [==============================] - 52s 189ms/step - loss: 0.0043 - accuracy: 0.9999 - val_loss: 0.0565 - val_accuracy: 0.9867 - lr: 1.0000e-05\n",
      "Epoch 141/250\n",
      "276/276 [==============================] - 52s 189ms/step - loss: 0.0044 - accuracy: 0.9999 - val_loss: 0.0575 - val_accuracy: 0.9867 - lr: 1.0000e-05\n",
      "Epoch 142/250\n",
      "276/276 [==============================] - 52s 189ms/step - loss: 0.0040 - accuracy: 0.9999 - val_loss: 0.0576 - val_accuracy: 0.9866 - lr: 1.0000e-05\n",
      "Epoch 143/250\n",
      "276/276 [==============================] - 52s 189ms/step - loss: 0.0039 - accuracy: 1.0000 - val_loss: 0.0602 - val_accuracy: 0.9853 - lr: 1.0000e-05\n",
      "Epoch 144/250\n",
      "276/276 [==============================] - 52s 189ms/step - loss: 0.0043 - accuracy: 0.9999 - val_loss: 0.0571 - val_accuracy: 0.9866 - lr: 1.0000e-05\n",
      "Epoch 145/250\n",
      "276/276 [==============================] - 52s 189ms/step - loss: 0.0040 - accuracy: 0.9999 - val_loss: 0.0571 - val_accuracy: 0.9864 - lr: 1.0000e-05\n",
      "Epoch 146/250\n",
      "276/276 [==============================] - 52s 189ms/step - loss: 0.0042 - accuracy: 0.9999 - val_loss: 0.0587 - val_accuracy: 0.9859 - lr: 1.0000e-05\n",
      "Epoch 147/250\n",
      "276/276 [==============================] - 52s 189ms/step - loss: 0.0042 - accuracy: 0.9999 - val_loss: 0.0573 - val_accuracy: 0.9865 - lr: 1.0000e-05\n",
      "Epoch 148/250\n",
      "276/276 [==============================] - 52s 189ms/step - loss: 0.0041 - accuracy: 0.9999 - val_loss: 0.0605 - val_accuracy: 0.9856 - lr: 1.0000e-05\n",
      "Epoch 149/250\n",
      "276/276 [==============================] - 52s 189ms/step - loss: 0.0039 - accuracy: 0.9999 - val_loss: 0.0589 - val_accuracy: 0.9861 - lr: 1.0000e-05\n",
      "Epoch 150/250\n",
      "276/276 [==============================] - 52s 189ms/step - loss: 0.0040 - accuracy: 0.9999 - val_loss: 0.0573 - val_accuracy: 0.9869 - lr: 1.0000e-05\n",
      "Epoch 151/250\n",
      "276/276 [==============================] - 52s 189ms/step - loss: 0.0036 - accuracy: 1.0000 - val_loss: 0.0567 - val_accuracy: 0.9866 - lr: 1.0000e-05\n",
      "Epoch 152/250\n",
      "276/276 [==============================] - 52s 189ms/step - loss: 0.0038 - accuracy: 0.9999 - val_loss: 0.0577 - val_accuracy: 0.9864 - lr: 1.0000e-05\n",
      "Epoch 153/250\n",
      "276/276 [==============================] - 52s 189ms/step - loss: 0.0040 - accuracy: 0.9998 - val_loss: 0.0601 - val_accuracy: 0.9860 - lr: 1.0000e-05\n",
      "Epoch 154/250\n",
      "276/276 [==============================] - 52s 189ms/step - loss: 0.0038 - accuracy: 0.9999 - val_loss: 0.0613 - val_accuracy: 0.9853 - lr: 1.0000e-05\n",
      "Epoch 155/250\n",
      "276/276 [==============================] - 52s 189ms/step - loss: 0.0038 - accuracy: 1.0000 - val_loss: 0.0572 - val_accuracy: 0.9863 - lr: 1.0000e-05\n",
      "Epoch 156/250\n",
      "276/276 [==============================] - 52s 189ms/step - loss: 0.0040 - accuracy: 0.9999 - val_loss: 0.0613 - val_accuracy: 0.9854 - lr: 1.0000e-05\n",
      "Epoch 157/250\n",
      "276/276 [==============================] - 52s 189ms/step - loss: 0.0038 - accuracy: 0.9999 - val_loss: 0.0619 - val_accuracy: 0.9855 - lr: 1.0000e-05\n",
      "Epoch 158/250\n",
      "276/276 [==============================] - 52s 189ms/step - loss: 0.0038 - accuracy: 0.9999 - val_loss: 0.0573 - val_accuracy: 0.9863 - lr: 1.0000e-05\n",
      "Epoch 159/250\n",
      "276/276 [==============================] - 52s 189ms/step - loss: 0.0037 - accuracy: 0.9999 - val_loss: 0.0587 - val_accuracy: 0.9858 - lr: 1.0000e-05\n",
      "Epoch 160/250\n",
      "276/276 [==============================] - 52s 189ms/step - loss: 0.0037 - accuracy: 0.9999 - val_loss: 0.0603 - val_accuracy: 0.9855 - lr: 1.0000e-05\n",
      "Epoch 161/250\n",
      "276/276 [==============================] - 52s 189ms/step - loss: 0.0039 - accuracy: 1.0000 - val_loss: 0.0588 - val_accuracy: 0.9864 - lr: 1.0000e-05\n"
     ]
    }
   ],
   "source": [
    "from tensorflow.keras.callbacks import EarlyStopping\n",
    "history = model.fit(X_train ,\n",
    "                    y_train ,\n",
    "                    epochs=250 ,\n",
    "                    batch_size=128,\n",
    "                    validation_data=(X_test , y_test) ,\n",
    "                    callbacks=[learning_rate_reduction,EarlyStopping(monitor='loss', patience=10, restore_best_weights = True)])"
   ]
  },
  {
   "cell_type": "code",
   "execution_count": 20,
   "id": "70ab42d4-d8bf-4f8d-af80-e2ae2bfa5cc0",
   "metadata": {},
   "outputs": [],
   "source": [
    "import tensorflow as tf\n",
    "model.save_weights('weights\\InceptionResNetAttention.h5')"
   ]
  },
  {
   "cell_type": "code",
   "execution_count": 30,
   "id": "8a9c5503",
   "metadata": {
    "papermill": {
     "duration": 0.293671,
     "end_time": "2023-11-20T18:25:42.393925",
     "exception": false,
     "start_time": "2023-11-20T18:25:42.100254",
     "status": "completed"
    },
    "tags": []
   },
   "outputs": [],
   "source": [
    "def plot_training(hist):\n",
    "    tr_acc = hist.history['accuracy']\n",
    "    tr_loss = hist.history['loss']\n",
    "    val_acc = hist.history['val_accuracy']\n",
    "    val_loss = hist.history['val_loss']\n",
    "    index_loss = np.argmin(val_loss)\n",
    "    val_lowest = val_loss[index_loss]\n",
    "    index_acc = np.argmax(val_acc)\n",
    "    acc_highest = val_acc[index_acc]\n",
    "\n",
    "    plt.figure(figsize= (20, 8))\n",
    "    plt.style.use('fivethirtyeight')\n",
    "    Epochs = [i+1 for i in range(len(tr_acc))]\n",
    "    loss_label = f'best epoch= {str(index_loss + 1)}'\n",
    "    acc_label = f'best epoch= {str(index_acc + 1)}'\n",
    "    \n",
    "    plt.subplot(1, 2, 1)\n",
    "    plt.plot(Epochs, tr_loss, 'r', label= 'Training loss')\n",
    "    plt.plot(Epochs, val_loss, 'g', label= 'Validation loss')\n",
    "    plt.scatter(index_loss + 1, val_lowest, s= 150, c= 'blue', label= loss_label)\n",
    "    plt.title('Training and Validation Loss')\n",
    "    plt.xlabel('Epochs')\n",
    "    plt.ylabel('Loss')\n",
    "    plt.legend()\n",
    "    \n",
    "    plt.subplot(1, 2, 2)\n",
    "    plt.plot(Epochs, tr_acc, 'r', label= 'Training Accuracy')\n",
    "    plt.plot(Epochs, val_acc, 'g', label= 'Validation Accuracy')\n",
    "    plt.scatter(index_acc + 1 , acc_highest, s= 150, c= 'blue', label= acc_label)\n",
    "    plt.title('Training and Validation Accuracy')\n",
    "    plt.xlabel('Epochs')\n",
    "    plt.ylabel('Accuracy')\n",
    "    plt.legend()\n",
    "    \n",
    "    plt.tight_layout\n",
    "    plt.show()"
   ]
  },
  {
   "cell_type": "code",
   "execution_count": 22,
   "id": "0dba96f3",
   "metadata": {
    "papermill": {
     "duration": 1.187868,
     "end_time": "2023-11-20T18:25:43.847692",
     "exception": false,
     "start_time": "2023-11-20T18:25:42.659824",
     "status": "completed"
    },
    "tags": []
   },
   "outputs": [
    {
     "data": {
      "image/png": "[encoded data removed]",
      "text/plain": [
       "<Figure size 2000x800 with 2 Axes>"
      ]
     },
     "metadata": {},
     "output_type": "display_data"
    }
   ],
   "source": [
    "plot_training(history)"
   ]
  },
  {
   "cell_type": "code",
   "execution_count": 23,
   "id": "da07c753",
   "metadata": {
    "papermill": {
     "duration": 41.464997,
     "end_time": "2023-11-20T18:26:25.656002",
     "exception": false,
     "start_time": "2023-11-20T18:25:44.191005",
     "status": "completed"
    },
    "tags": []
   },
   "outputs": [
    {
     "name": "stdout",
     "output_type": "stream",
     "text": [
      "1101/1101 [==============================] - 15s 14ms/step - loss: 0.0024 - accuracy: 1.0000\n",
      "367/367 [==============================] - 5s 14ms/step - loss: 0.0577 - accuracy: 0.9863\n",
      "Train Loss:  0.002433724468573928\n",
      "Train Accuracy:  1.0\n",
      "--------------------\n",
      "Test Loss:  0.05771225690841675\n",
      "Test Accuracy:  0.9862791895866394\n"
     ]
    }
   ],
   "source": [
    "train_score = model.evaluate(X_train, y_train, verbose= 1)\n",
    "test_score = model.evaluate(X_test, y_test, verbose= 1)\n",
    "\n",
    "print(\"Train Loss: \", train_score[0])\n",
    "print(\"Train Accuracy: \", train_score[1])\n",
    "print('-' * 20)\n",
    "print(\"Test Loss: \", test_score[0])\n",
    "print(\"Test Accuracy: \", test_score[1])"
   ]
  },
  {
   "cell_type": "code",
   "execution_count": 24,
   "id": "7fa5e0da",
   "metadata": {
    "papermill": {
     "duration": 11.319973,
     "end_time": "2023-11-20T18:26:37.315854",
     "exception": false,
     "start_time": "2023-11-20T18:26:25.995881",
     "status": "completed"
    },
    "tags": []
   },
   "outputs": [
    {
     "name": "stdout",
     "output_type": "stream",
     "text": [
      "367/367 [==============================] - 5s 13ms/step\n"
     ]
    }
   ],
   "source": [
    "y_true = np.array(y_test)\n",
    "y_pred = model.predict(X_test)\n",
    "\n",
    "y_pred = np.argmax(y_pred , axis=1)\n",
    "y_true = np.argmax(y_true , axis=1)"
   ]
  },
  {
   "cell_type": "code",
   "execution_count": 25,
   "id": "2b21ad8c",
   "metadata": {
    "papermill": {
     "duration": 0.371808,
     "end_time": "2023-11-20T18:26:38.052179",
     "exception": false,
     "start_time": "2023-11-20T18:26:37.680371",
     "status": "completed"
    },
    "tags": []
   },
   "outputs": [
    {
     "name": "stdout",
     "output_type": "stream",
     "text": [
      "[4, 6, 2, 1, 5, 0, 3]\n"
     ]
    }
   ],
   "source": [
    "classes_labels = []\n",
    "for key in classes.keys():\n",
    "    classes_labels.append(key)\n",
    "\n",
    "print(classes_labels)"
   ]
  },
  {
   "cell_type": "code",
   "execution_count": 26,
   "id": "142a04b7",
   "metadata": {
    "papermill": {
     "duration": 1.150624,
     "end_time": "2023-11-20T18:26:39.559413",
     "exception": false,
     "start_time": "2023-11-20T18:26:38.408789",
     "status": "completed"
    },
    "tags": []
   },
   "outputs": [
    {
     "data": {
      "image/png": "[encoded data removed]",
      "text/plain": [
       "<Figure size 1000x1000 with 2 Axes>"
      ]
     },
     "metadata": {},
     "output_type": "display_data"
    }
   ],
   "source": [
    "cm = cm = confusion_matrix(y_true, y_pred, labels=classes_labels)\n",
    "\n",
    "plt.figure(figsize= (10, 10))\n",
    "plt.imshow(cm, interpolation= 'nearest', cmap= plt.cm.Blues)\n",
    "plt.title('Confusion Matrix')\n",
    "plt.colorbar()\n",
    "\n",
    "tick_marks = np.arange(len(classes))\n",
    "plt.xticks(tick_marks, classes, rotation= 45)\n",
    "plt.yticks(tick_marks, classes)\n",
    "\n",
    "\n",
    "thresh = cm.max() / 2.\n",
    "for i, j in itertools.product(range(cm.shape[0]), range(cm.shape[1])):\n",
    "    plt.text(j, i, cm[i, j], horizontalalignment= 'center', color= 'white' if cm[i, j] > thresh else 'black')\n",
    "\n",
    "plt.tight_layout()\n",
    "plt.ylabel('True Label')\n",
    "plt.xlabel('Predicted Label')\n",
    "\n",
    "plt.show()"
   ]
  },
  {
   "cell_type": "code",
   "execution_count": 27,
   "id": "3060744f",
   "metadata": {
    "papermill": {
     "duration": 0.596684,
     "end_time": "2023-11-20T18:26:40.514687",
     "exception": false,
     "start_time": "2023-11-20T18:26:39.918003",
     "status": "completed"
    },
    "tags": []
   },
   "outputs": [],
   "source": [
    "#model.save('Skin Cancer.h5')"
   ]
  },
  {
   "cell_type": "code",
   "execution_count": 28,
   "id": "ccb32b2b",
   "metadata": {
    "papermill": {
     "duration": 0.364649,
     "end_time": "2023-11-20T18:26:41.240370",
     "exception": false,
     "start_time": "2023-11-20T18:26:40.875721",
     "status": "completed"
    },
    "tags": []
   },
   "outputs": [
    {
     "data": {
      "text/plain": [
       "20554"
      ]
     },
     "execution_count": 28,
     "metadata": {},
     "output_type": "execute_result"
    }
   ],
   "source": [
    "from keras import backend as K\n",
    "import gc\n",
    "\n",
    "del model\n",
    "\n",
    "K.clear_session()\n",
    "gc.collect()"
   ]
  },
  {
   "cell_type": "code",
   "execution_count": 29,
   "id": "b6f1ffe3-b012-4db6-95de-3d9acea1e40c",
   "metadata": {},
   "outputs": [],
   "source": [
    "#You need to install numba using 'pip install numba'\n",
    "\n",
    "from numba import cuda\n",
    "\n",
    "cuda.select_device(0)\n",
    "cuda.close()"
   ]
  },
  {
   "cell_type": "code",
   "execution_count": null,
   "id": "1f716416-8ba4-4821-9336-fe2f2f39f1d0",
   "metadata": {},
   "outputs": [],
   "source": []
  }
 ],
 "metadata": {
  "kaggle": {
   "accelerator": "none",
   "dataSources": [
    {
     "datasetId": 54339,
     "sourceId": 104884,
     "sourceType": "datasetVersion"
    }
   ],
   "dockerImageVersionId": 30558,
   "isGpuEnabled": false,
   "isInternetEnabled": true,
   "language": "python",
   "sourceType": "notebook"
  },
  "kernelspec": {
   "display_name": "Python 3 (ipykernel)",
   "language": "python",
   "name": "python3"
  },
  "language_info": {
   "codemirror_mode": {
    "name": "ipython",
    "version": 3
   },
   "file_extension": ".py",
   "mimetype": "text/x-python",
   "name": "python",
   "nbconvert_exporter": "python",
   "pygments_lexer": "ipython3",
   "version": "3.10.13"
  },
  "papermill": {
   "default_parameters": {},
   "duration": 1400.093646,
   "end_time": "2023-11-20T18:26:44.411951",
   "environment_variables": {},
   "exception": null,
   "input_path": "__notebook__.ipynb",
   "output_path": "__notebook__.ipynb",
   "parameters": {},
   "start_time": "2023-11-20T18:03:24.318305",
   "version": "2.4.0"
  }
 },
 "nbformat": 4,
 "nbformat_minor": 5
}
