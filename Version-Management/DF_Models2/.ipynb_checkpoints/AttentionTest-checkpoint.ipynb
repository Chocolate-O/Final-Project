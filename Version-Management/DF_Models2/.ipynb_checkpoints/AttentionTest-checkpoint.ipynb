{
 "cells": [
  {
   "cell_type": "code",
   "execution_count": 1,
   "id": "59dc3f32",
   "metadata": {
    "_cell_guid": "b1076dfc-b9ad-4769-8c92-a6c4dae69d19",
    "_uuid": "8f2839f25d086af736a60e9eeb907d3b93b6e0e5",
    "papermill": {
     "duration": 0.019523,
     "end_time": "2023-11-20T18:03:28.972064",
     "exception": false,
     "start_time": "2023-11-20T18:03:28.952541",
     "status": "completed"
    },
    "tags": []
   },
   "outputs": [],
   "source": [
    "# # This Python 3 environment comes with many helpful analytics libraries installed\n",
    "# # It is defined by the kaggle/python Docker image: https://github.com/kaggle/docker-python\n",
    "# # For example, here's several helpful packages to load\n",
    "\n",
    "# import numpy as np # linear algebra\n",
    "# import pandas as pd # data processing, CSV file I/O (e.g. pd.read_csv)\n",
    "\n",
    "# # Input data files are available in the read-only \"../input/\" directory\n",
    "# # For example, running this (by clicking run or pressing Shift+Enter) will list all files under the input directory\n",
    "\n",
    "# import os\n",
    "# for dirname, _, filenames in os.walk('/kaggle/input'):\n",
    "#     for filename in filenames:\n",
    "#         print(os.path.join(dirname, filename))\n",
    "\n",
    "# # You can write up to 20GB to the current directory (/kaggle/working/) that gets preserved as output when you create a version using \"Save & Run All\" \n",
    "# # You can also write temporary files to /kaggle/temp/, but they won't be saved outside of the current session"
   ]
  },
  {
   "cell_type": "code",
   "execution_count": 2,
   "id": "52f0cc78",
   "metadata": {
    "papermill": {
     "duration": 13.777656,
     "end_time": "2023-11-20T18:03:42.758467",
     "exception": false,
     "start_time": "2023-11-20T18:03:28.980811",
     "status": "completed"
    },
    "tags": []
   },
   "outputs": [
    {
     "name": "stdout",
     "output_type": "stream",
     "text": [
      "modules loaded\n"
     ]
    }
   ],
   "source": [
    "import os\n",
    "import time\n",
    "import shutil\n",
    "import itertools\n",
    "\n",
    "# import data handling tools \n",
    "import cv2\n",
    "import numpy as np\n",
    "import pandas as pd\n",
    "import seaborn as sns\n",
    "sns.set_style('darkgrid')\n",
    "import matplotlib.pyplot as plt\n",
    "# import Deep learning Libraries\n",
    "import tensorflow as tf\n",
    "from tensorflow import keras\n",
    "from tensorflow.keras.layers import Conv2D, MaxPooling2D, Flatten, Dense, Activation, Dropout, BatchNormalization,GlobalAveragePooling2D, Add, Multiply\n",
    "from tensorflow.keras.models import Model, load_model, Sequential\n",
    "from tensorflow.keras.preprocessing.image import ImageDataGenerator\n",
    "from sklearn.metrics import confusion_matrix, classification_report\n",
    "from sklearn.model_selection import train_test_split\n",
    "from tensorflow.keras.optimizers import Adam, Adamax\n",
    "from tensorflow.keras import regularizers\n",
    "from tensorflow.keras.metrics import categorical_crossentropy\n",
    "\n",
    "# Ignore Warnings\n",
    "import warnings\n",
    "warnings.filterwarnings(\"ignore\")\n",
    "\n",
    "print ('modules loaded')"
   ]
  },
  {
   "cell_type": "code",
   "execution_count": 3,
   "id": "f796a06c",
   "metadata": {
    "papermill": {
     "duration": 5.498143,
     "end_time": "2023-11-20T18:03:48.265269",
     "exception": false,
     "start_time": "2023-11-20T18:03:42.767126",
     "status": "completed"
    },
    "tags": []
   },
   "outputs": [
    {
     "data": {
      "text/html": [
       "<div>\n",
       "<style scoped>\n",
       "    .dataframe tbody tr th:only-of-type {\n",
       "        vertical-align: middle;\n",
       "    }\n",
       "\n",
       "    .dataframe tbody tr th {\n",
       "        vertical-align: top;\n",
       "    }\n",
       "\n",
       "    .dataframe thead th {\n",
       "        text-align: right;\n",
       "    }\n",
       "</style>\n",
       "<table border=\"1\" class=\"dataframe\">\n",
       "  <thead>\n",
       "    <tr style=\"text-align: right;\">\n",
       "      <th></th>\n",
       "      <th>pixel0000</th>\n",
       "      <th>pixel0001</th>\n",
       "      <th>pixel0002</th>\n",
       "      <th>pixel0003</th>\n",
       "      <th>pixel0004</th>\n",
       "      <th>pixel0005</th>\n",
       "      <th>pixel0006</th>\n",
       "      <th>pixel0007</th>\n",
       "      <th>pixel0008</th>\n",
       "      <th>pixel0009</th>\n",
       "      <th>...</th>\n",
       "      <th>pixel2343</th>\n",
       "      <th>pixel2344</th>\n",
       "      <th>pixel2345</th>\n",
       "      <th>pixel2346</th>\n",
       "      <th>pixel2347</th>\n",
       "      <th>pixel2348</th>\n",
       "      <th>pixel2349</th>\n",
       "      <th>pixel2350</th>\n",
       "      <th>pixel2351</th>\n",
       "      <th>label</th>\n",
       "    </tr>\n",
       "  </thead>\n",
       "  <tbody>\n",
       "    <tr>\n",
       "      <th>0</th>\n",
       "      <td>192</td>\n",
       "      <td>153</td>\n",
       "      <td>193</td>\n",
       "      <td>195</td>\n",
       "      <td>155</td>\n",
       "      <td>192</td>\n",
       "      <td>197</td>\n",
       "      <td>154</td>\n",
       "      <td>185</td>\n",
       "      <td>202</td>\n",
       "      <td>...</td>\n",
       "      <td>173</td>\n",
       "      <td>124</td>\n",
       "      <td>138</td>\n",
       "      <td>183</td>\n",
       "      <td>147</td>\n",
       "      <td>166</td>\n",
       "      <td>185</td>\n",
       "      <td>154</td>\n",
       "      <td>177</td>\n",
       "      <td>2</td>\n",
       "    </tr>\n",
       "    <tr>\n",
       "      <th>1</th>\n",
       "      <td>25</td>\n",
       "      <td>14</td>\n",
       "      <td>30</td>\n",
       "      <td>68</td>\n",
       "      <td>48</td>\n",
       "      <td>75</td>\n",
       "      <td>123</td>\n",
       "      <td>93</td>\n",
       "      <td>126</td>\n",
       "      <td>158</td>\n",
       "      <td>...</td>\n",
       "      <td>60</td>\n",
       "      <td>39</td>\n",
       "      <td>55</td>\n",
       "      <td>25</td>\n",
       "      <td>14</td>\n",
       "      <td>28</td>\n",
       "      <td>25</td>\n",
       "      <td>14</td>\n",
       "      <td>27</td>\n",
       "      <td>2</td>\n",
       "    </tr>\n",
       "    <tr>\n",
       "      <th>2</th>\n",
       "      <td>192</td>\n",
       "      <td>138</td>\n",
       "      <td>153</td>\n",
       "      <td>200</td>\n",
       "      <td>145</td>\n",
       "      <td>163</td>\n",
       "      <td>201</td>\n",
       "      <td>142</td>\n",
       "      <td>160</td>\n",
       "      <td>206</td>\n",
       "      <td>...</td>\n",
       "      <td>167</td>\n",
       "      <td>129</td>\n",
       "      <td>143</td>\n",
       "      <td>159</td>\n",
       "      <td>124</td>\n",
       "      <td>142</td>\n",
       "      <td>136</td>\n",
       "      <td>104</td>\n",
       "      <td>117</td>\n",
       "      <td>2</td>\n",
       "    </tr>\n",
       "    <tr>\n",
       "      <th>3</th>\n",
       "      <td>38</td>\n",
       "      <td>19</td>\n",
       "      <td>30</td>\n",
       "      <td>95</td>\n",
       "      <td>59</td>\n",
       "      <td>72</td>\n",
       "      <td>143</td>\n",
       "      <td>103</td>\n",
       "      <td>119</td>\n",
       "      <td>171</td>\n",
       "      <td>...</td>\n",
       "      <td>44</td>\n",
       "      <td>26</td>\n",
       "      <td>36</td>\n",
       "      <td>25</td>\n",
       "      <td>12</td>\n",
       "      <td>17</td>\n",
       "      <td>25</td>\n",
       "      <td>12</td>\n",
       "      <td>15</td>\n",
       "      <td>2</td>\n",
       "    </tr>\n",
       "    <tr>\n",
       "      <th>4</th>\n",
       "      <td>158</td>\n",
       "      <td>113</td>\n",
       "      <td>139</td>\n",
       "      <td>194</td>\n",
       "      <td>144</td>\n",
       "      <td>174</td>\n",
       "      <td>215</td>\n",
       "      <td>162</td>\n",
       "      <td>191</td>\n",
       "      <td>225</td>\n",
       "      <td>...</td>\n",
       "      <td>209</td>\n",
       "      <td>166</td>\n",
       "      <td>185</td>\n",
       "      <td>172</td>\n",
       "      <td>135</td>\n",
       "      <td>149</td>\n",
       "      <td>109</td>\n",
       "      <td>78</td>\n",
       "      <td>92</td>\n",
       "      <td>2</td>\n",
       "    </tr>\n",
       "  </tbody>\n",
       "</table>\n",
       "<p>5 rows × 2353 columns</p>\n",
       "</div>"
      ],
      "text/plain": [
       "   pixel0000  pixel0001  pixel0002  pixel0003  pixel0004  pixel0005  \\\n",
       "0        192        153        193        195        155        192   \n",
       "1         25         14         30         68         48         75   \n",
       "2        192        138        153        200        145        163   \n",
       "3         38         19         30         95         59         72   \n",
       "4        158        113        139        194        144        174   \n",
       "\n",
       "   pixel0006  pixel0007  pixel0008  pixel0009  ...  pixel2343  pixel2344  \\\n",
       "0        197        154        185        202  ...        173        124   \n",
       "1        123         93        126        158  ...         60         39   \n",
       "2        201        142        160        206  ...        167        129   \n",
       "3        143        103        119        171  ...         44         26   \n",
       "4        215        162        191        225  ...        209        166   \n",
       "\n",
       "   pixel2345  pixel2346  pixel2347  pixel2348  pixel2349  pixel2350  \\\n",
       "0        138        183        147        166        185        154   \n",
       "1         55         25         14         28         25         14   \n",
       "2        143        159        124        142        136        104   \n",
       "3         36         25         12         17         25         12   \n",
       "4        185        172        135        149        109         78   \n",
       "\n",
       "   pixel2351  label  \n",
       "0        177      2  \n",
       "1         27      2  \n",
       "2        117      2  \n",
       "3         15      2  \n",
       "4         92      2  \n",
       "\n",
       "[5 rows x 2353 columns]"
      ]
     },
     "execution_count": 3,
     "metadata": {},
     "output_type": "execute_result"
    }
   ],
   "source": [
    "data_dir = r'F:\\MV\\Dataset\\HAM1000\\hmnist_28_28_RGB.csv'\n",
    "data = pd.read_csv(data_dir)\n",
    "data.head()"
   ]
  },
  {
   "cell_type": "code",
   "execution_count": 4,
   "id": "2ac3419f-5789-457a-a995-50a807ea7aed",
   "metadata": {},
   "outputs": [
    {
     "name": "stdout",
     "output_type": "stream",
     "text": [
      "<class 'pandas.core.frame.DataFrame'>\n",
      "RangeIndex: 10015 entries, 0 to 10014\n",
      "Columns: 2353 entries, pixel0000 to label\n",
      "dtypes: int64(2353)\n",
      "memory usage: 179.8 MB\n"
     ]
    }
   ],
   "source": [
    "data.info()"
   ]
  },
  {
   "cell_type": "code",
   "execution_count": 5,
   "id": "b0adcb8d",
   "metadata": {
    "papermill": {
     "duration": 0.110948,
     "end_time": "2023-11-20T18:03:48.385458",
     "exception": false,
     "start_time": "2023-11-20T18:03:48.274510",
     "status": "completed"
    },
    "tags": []
   },
   "outputs": [],
   "source": [
    "Label = data[\"label\"]\n",
    "Data = data.drop(columns=[\"label\"])"
   ]
  },
  {
   "cell_type": "code",
   "execution_count": 6,
   "id": "c779c31b",
   "metadata": {
    "papermill": {
     "duration": 0.025722,
     "end_time": "2023-11-20T18:03:48.420456",
     "exception": false,
     "start_time": "2023-11-20T18:03:48.394734",
     "status": "completed"
    },
    "tags": []
   },
   "outputs": [
    {
     "data": {
      "text/plain": [
       "label\n",
       "4    6705\n",
       "6    1113\n",
       "2    1099\n",
       "1     514\n",
       "0     327\n",
       "5     142\n",
       "3     115\n",
       "Name: count, dtype: int64"
      ]
     },
     "execution_count": 6,
     "metadata": {},
     "output_type": "execute_result"
    }
   ],
   "source": [
    "data[\"label\"].value_counts()"
   ]
  },
  {
   "cell_type": "code",
   "execution_count": 7,
   "id": "7d4aeb34",
   "metadata": {
    "papermill": {
     "duration": 3.928484,
     "end_time": "2023-11-20T18:03:52.357791",
     "exception": false,
     "start_time": "2023-11-20T18:03:48.429307",
     "status": "completed"
    },
    "tags": []
   },
   "outputs": [
    {
     "name": "stdout",
     "output_type": "stream",
     "text": [
      "Shape of Data : (46935, 28, 28, 3)\n"
     ]
    }
   ],
   "source": [
    "from imblearn.over_sampling import RandomOverSampler \n",
    "\n",
    "oversample = RandomOverSampler()\n",
    "Data, Label  = oversample.fit_resample(Data, Label)\n",
    "Data = np.array(Data).reshape(-1, 28, 28, 3)\n",
    "print('Shape of Data :', Data.shape)"
   ]
  },
  {
   "cell_type": "code",
   "execution_count": 8,
   "id": "50e90ae8",
   "metadata": {
    "papermill": {
     "duration": 0.021587,
     "end_time": "2023-11-20T18:03:52.388539",
     "exception": false,
     "start_time": "2023-11-20T18:03:52.366952",
     "status": "completed"
    },
    "tags": []
   },
   "outputs": [
    {
     "data": {
      "text/plain": [
       "array([2, 2, 2, ..., 6, 6, 6], dtype=int64)"
      ]
     },
     "execution_count": 8,
     "metadata": {},
     "output_type": "execute_result"
    }
   ],
   "source": [
    "Label = np.array(Label)\n",
    "Label"
   ]
  },
  {
   "cell_type": "code",
   "execution_count": 9,
   "id": "8e518cb6",
   "metadata": {
    "papermill": {
     "duration": 0.020228,
     "end_time": "2023-11-20T18:03:52.418121",
     "exception": false,
     "start_time": "2023-11-20T18:03:52.397893",
     "status": "completed"
    },
    "tags": []
   },
   "outputs": [],
   "source": [
    "classes = {4: ('nv', ' melanocytic nevi'),\n",
    "           6: ('mel', 'melanoma'),\n",
    "           2: ('bkl', 'benign keratosis-like lesions'), \n",
    "           1:('bcc' , ' basal cell carcinoma'),\n",
    "           5: ('vasc', ' pyogenic granulomas and hemorrhage'),\n",
    "           0: ('akiec', 'Actinic keratoses and intraepithelial carcinomae'),\n",
    "           3: ('df', 'dermatofibroma')}"
   ]
  },
  {
   "cell_type": "code",
   "execution_count": 10,
   "id": "9f16b6f8",
   "metadata": {
    "papermill": {
     "duration": 1.926467,
     "end_time": "2023-11-20T18:03:54.353943",
     "exception": false,
     "start_time": "2023-11-20T18:03:52.427476",
     "status": "completed"
    },
    "tags": []
   },
   "outputs": [],
   "source": [
    "from sklearn.model_selection import train_test_split\n",
    "\n",
    "X_train , X_test , y_train , y_test = train_test_split(Data , Label , test_size = 0.25 , random_state = 49)"
   ]
  },
  {
   "cell_type": "code",
   "execution_count": 11,
   "id": "425987e9",
   "metadata": {
    "papermill": {
     "duration": 0.020381,
     "end_time": "2023-11-20T18:03:54.384326",
     "exception": false,
     "start_time": "2023-11-20T18:03:54.363945",
     "status": "completed"
    },
    "tags": []
   },
   "outputs": [
    {
     "name": "stdout",
     "output_type": "stream",
     "text": [
      "(35201, 28, 28, 3)\n",
      "(35201,)\n",
      "(11734, 28, 28, 3)\n",
      "(11734,)\n"
     ]
    }
   ],
   "source": [
    "print(X_train.shape)\n",
    "print(y_train.shape)\n",
    "print(X_test.shape)\n",
    "print(y_test.shape)"
   ]
  },
  {
   "cell_type": "code",
   "execution_count": 12,
   "id": "09ae56d1",
   "metadata": {
    "papermill": {
     "duration": 0.019608,
     "end_time": "2023-11-20T18:03:54.413572",
     "exception": false,
     "start_time": "2023-11-20T18:03:54.393964",
     "status": "completed"
    },
    "tags": []
   },
   "outputs": [],
   "source": [
    "from tensorflow.python.keras.utils.np_utils import to_categorical\n",
    "\n",
    "y_train = to_categorical(y_train)\n",
    "y_test = to_categorical(y_test)"
   ]
  },
  {
   "cell_type": "code",
   "execution_count": 13,
   "id": "a96f1f06",
   "metadata": {
    "papermill": {
     "duration": 0.020389,
     "end_time": "2023-11-20T18:03:54.443370",
     "exception": false,
     "start_time": "2023-11-20T18:03:54.422981",
     "status": "completed"
    },
    "tags": []
   },
   "outputs": [],
   "source": [
    "datagen = ImageDataGenerator(rescale=(1./255)\n",
    "                             ,rotation_range=10\n",
    "                             ,zoom_range = 0.1\n",
    "                             ,width_shift_range=0.1\n",
    "                             ,height_shift_range=0.1)\n",
    "\n",
    "testgen = ImageDataGenerator(rescale=(1./255))"
   ]
  },
  {
   "cell_type": "code",
   "execution_count": 14,
   "id": "41546902",
   "metadata": {
    "papermill": {
     "duration": 0.019312,
     "end_time": "2023-11-20T18:03:54.471883",
     "exception": false,
     "start_time": "2023-11-20T18:03:54.452571",
     "status": "completed"
    },
    "tags": []
   },
   "outputs": [],
   "source": [
    "from keras.callbacks import ReduceLROnPlateau\n",
    "\n",
    "learning_rate_reduction = ReduceLROnPlateau(monitor='val_accuracy'\n",
    "                                            , patience = 2\n",
    "                                            , verbose=1\n",
    "                                            ,factor=0.5\n",
    "                                            , min_lr=0.00001)"
   ]
  },
  {
   "cell_type": "code",
   "execution_count": 15,
   "id": "cba3455b",
   "metadata": {
    "papermill": {
     "duration": 0.896561,
     "end_time": "2023-11-20T18:03:55.377689",
     "exception": false,
     "start_time": "2023-11-20T18:03:54.481128",
     "status": "completed"
    },
    "tags": []
   },
   "outputs": [],
   "source": [
    "import tensorflow as tf\n",
    "from tensorflow.keras.layers import Input, Conv2D, BatchNormalization, ReLU, Add, GlobalAveragePooling2D, Dense\n",
    "\n",
    "def squeeze_excitation_block(x, ratio=8):\n",
    "    channels = int(x.shape[-1])\n",
    "    se = GlobalAveragePooling2D()(x)\n",
    "    se = Dense(channels // ratio, activation='relu')(se)\n",
    "    se = Dense(channels, activation='sigmoid')(se)\n",
    "    se = tf.keras.layers.Reshape((1, 1, channels))(se)\n",
    "    scaled = Multiply()([x, se])\n",
    "    return scaled\n",
    "    \n",
    "def residual_block(x, filters, kernel_size=3, strides=1):\n",
    "    # Shortcut connection\n",
    "    shortcut = x\n",
    "\n",
    "    # First convolutional layer\n",
    "    x = Conv2D(filters, kernel_size=kernel_size, strides=strides, padding='same')(x)\n",
    "    x = BatchNormalization()(x)\n",
    "    x = ReLU()(x)\n",
    "\n",
    "    # Second convolutional layer\n",
    "    x = Conv2D(filters, kernel_size=kernel_size, strides=1, padding='same')(x)\n",
    "    x = BatchNormalization()(x)\n",
    "\n",
    "    # Shortcut connection\n",
    "    if strides != 1 or shortcut.shape[-1] != filters:\n",
    "        shortcut = Conv2D(filters, kernel_size=1, strides=strides, padding='same')(shortcut)\n",
    "        shortcut = BatchNormalization()(shortcut)\n",
    "\n",
    "    # Element-wise addition\n",
    "    x = Add()([x, shortcut])\n",
    "    x = ReLU()(x)\n",
    "\n",
    "    return x\n",
    "\n",
    "def resnet(input_shape, num_classes, num_blocks=[2, 2, 2, 2]):\n",
    "    input_tensor = Input(shape=input_shape)\n",
    "\n",
    "    # Initial convolutional layer\n",
    "    x = Conv2D(64, (7, 7), strides=2, padding='same')(input_tensor)\n",
    "    x = BatchNormalization()(x)\n",
    "    x = ReLU()(x)\n",
    "\n",
    "    # Residual blocks\n",
    "    for block_num in range(len(num_blocks)):\n",
    "        filters = 64 * (2 ** block_num)\n",
    "        for _ in range(num_blocks[block_num]):\n",
    "            if block_num > 0 and _ == 0:\n",
    "                # Downsample for the first block in each group (except the first group)\n",
    "                x = residual_block(x, filters, strides=2)\n",
    "            else:\n",
    "                x = residual_block(x, filters)\n",
    "\n",
    "    # Global average pooling and dense layer\n",
    "    x = squeeze_excitation_block(x)\n",
    "    x = GlobalAveragePooling2D()(x)\n",
    "    output_tensor = Dense(num_classes, activation='softmax')(x)\n",
    "\n",
    "    model = tf.keras.models.Model(inputs=input_tensor, outputs=output_tensor)\n",
    "\n",
    "    return model\n",
    "\n",
    "\n"
   ]
  },
  {
   "cell_type": "code",
   "execution_count": 16,
   "id": "103ebadf-f169-444a-bfd2-f1289503c726",
   "metadata": {},
   "outputs": [
    {
     "name": "stdout",
     "output_type": "stream",
     "text": [
      "Model: \"model\"\n",
      "__________________________________________________________________________________________________\n",
      " Layer (type)                   Output Shape         Param #     Connected to                     \n",
      "==================================================================================================\n",
      " input_1 (InputLayer)           [(None, 28, 28, 3)]  0           []                               \n",
      "                                                                                                  \n",
      " conv2d (Conv2D)                (None, 14, 14, 64)   9472        ['input_1[0][0]']                \n",
      "                                                                                                  \n",
      " batch_normalization (BatchNorm  (None, 14, 14, 64)  256         ['conv2d[0][0]']                 \n",
      " alization)                                                                                       \n",
      "                                                                                                  \n",
      " re_lu (ReLU)                   (None, 14, 14, 64)   0           ['batch_normalization[0][0]']    \n",
      "                                                                                                  \n",
      " conv2d_1 (Conv2D)              (None, 14, 14, 64)   36928       ['re_lu[0][0]']                  \n",
      "                                                                                                  \n",
      " batch_normalization_1 (BatchNo  (None, 14, 14, 64)  256         ['conv2d_1[0][0]']               \n",
      " rmalization)                                                                                     \n",
      "                                                                                                  \n",
      " re_lu_1 (ReLU)                 (None, 14, 14, 64)   0           ['batch_normalization_1[0][0]']  \n",
      "                                                                                                  \n",
      " conv2d_2 (Conv2D)              (None, 14, 14, 64)   36928       ['re_lu_1[0][0]']                \n",
      "                                                                                                  \n",
      " batch_normalization_2 (BatchNo  (None, 14, 14, 64)  256         ['conv2d_2[0][0]']               \n",
      " rmalization)                                                                                     \n",
      "                                                                                                  \n",
      " add (Add)                      (None, 14, 14, 64)   0           ['batch_normalization_2[0][0]',  \n",
      "                                                                  're_lu[0][0]']                  \n",
      "                                                                                                  \n",
      " re_lu_2 (ReLU)                 (None, 14, 14, 64)   0           ['add[0][0]']                    \n",
      "                                                                                                  \n",
      " conv2d_3 (Conv2D)              (None, 14, 14, 64)   36928       ['re_lu_2[0][0]']                \n",
      "                                                                                                  \n",
      " batch_normalization_3 (BatchNo  (None, 14, 14, 64)  256         ['conv2d_3[0][0]']               \n",
      " rmalization)                                                                                     \n",
      "                                                                                                  \n",
      " re_lu_3 (ReLU)                 (None, 14, 14, 64)   0           ['batch_normalization_3[0][0]']  \n",
      "                                                                                                  \n",
      " conv2d_4 (Conv2D)              (None, 14, 14, 64)   36928       ['re_lu_3[0][0]']                \n",
      "                                                                                                  \n",
      " batch_normalization_4 (BatchNo  (None, 14, 14, 64)  256         ['conv2d_4[0][0]']               \n",
      " rmalization)                                                                                     \n",
      "                                                                                                  \n",
      " add_1 (Add)                    (None, 14, 14, 64)   0           ['batch_normalization_4[0][0]',  \n",
      "                                                                  're_lu_2[0][0]']                \n",
      "                                                                                                  \n",
      " re_lu_4 (ReLU)                 (None, 14, 14, 64)   0           ['add_1[0][0]']                  \n",
      "                                                                                                  \n",
      " conv2d_5 (Conv2D)              (None, 7, 7, 128)    73856       ['re_lu_4[0][0]']                \n",
      "                                                                                                  \n",
      " batch_normalization_5 (BatchNo  (None, 7, 7, 128)   512         ['conv2d_5[0][0]']               \n",
      " rmalization)                                                                                     \n",
      "                                                                                                  \n",
      " re_lu_5 (ReLU)                 (None, 7, 7, 128)    0           ['batch_normalization_5[0][0]']  \n",
      "                                                                                                  \n",
      " conv2d_6 (Conv2D)              (None, 7, 7, 128)    147584      ['re_lu_5[0][0]']                \n",
      "                                                                                                  \n",
      " conv2d_7 (Conv2D)              (None, 7, 7, 128)    8320        ['re_lu_4[0][0]']                \n",
      "                                                                                                  \n",
      " batch_normalization_6 (BatchNo  (None, 7, 7, 128)   512         ['conv2d_6[0][0]']               \n",
      " rmalization)                                                                                     \n",
      "                                                                                                  \n",
      " batch_normalization_7 (BatchNo  (None, 7, 7, 128)   512         ['conv2d_7[0][0]']               \n",
      " rmalization)                                                                                     \n",
      "                                                                                                  \n",
      " add_2 (Add)                    (None, 7, 7, 128)    0           ['batch_normalization_6[0][0]',  \n",
      "                                                                  'batch_normalization_7[0][0]']  \n",
      "                                                                                                  \n",
      " re_lu_6 (ReLU)                 (None, 7, 7, 128)    0           ['add_2[0][0]']                  \n",
      "                                                                                                  \n",
      " conv2d_8 (Conv2D)              (None, 7, 7, 128)    147584      ['re_lu_6[0][0]']                \n",
      "                                                                                                  \n",
      " batch_normalization_8 (BatchNo  (None, 7, 7, 128)   512         ['conv2d_8[0][0]']               \n",
      " rmalization)                                                                                     \n",
      "                                                                                                  \n",
      " re_lu_7 (ReLU)                 (None, 7, 7, 128)    0           ['batch_normalization_8[0][0]']  \n",
      "                                                                                                  \n",
      " conv2d_9 (Conv2D)              (None, 7, 7, 128)    147584      ['re_lu_7[0][0]']                \n",
      "                                                                                                  \n",
      " batch_normalization_9 (BatchNo  (None, 7, 7, 128)   512         ['conv2d_9[0][0]']               \n",
      " rmalization)                                                                                     \n",
      "                                                                                                  \n",
      " add_3 (Add)                    (None, 7, 7, 128)    0           ['batch_normalization_9[0][0]',  \n",
      "                                                                  're_lu_6[0][0]']                \n",
      "                                                                                                  \n",
      " re_lu_8 (ReLU)                 (None, 7, 7, 128)    0           ['add_3[0][0]']                  \n",
      "                                                                                                  \n",
      " conv2d_10 (Conv2D)             (None, 4, 4, 256)    295168      ['re_lu_8[0][0]']                \n",
      "                                                                                                  \n",
      " batch_normalization_10 (BatchN  (None, 4, 4, 256)   1024        ['conv2d_10[0][0]']              \n",
      " ormalization)                                                                                    \n",
      "                                                                                                  \n",
      " re_lu_9 (ReLU)                 (None, 4, 4, 256)    0           ['batch_normalization_10[0][0]'] \n",
      "                                                                                                  \n",
      " conv2d_11 (Conv2D)             (None, 4, 4, 256)    590080      ['re_lu_9[0][0]']                \n",
      "                                                                                                  \n",
      " conv2d_12 (Conv2D)             (None, 4, 4, 256)    33024       ['re_lu_8[0][0]']                \n",
      "                                                                                                  \n",
      " batch_normalization_11 (BatchN  (None, 4, 4, 256)   1024        ['conv2d_11[0][0]']              \n",
      " ormalization)                                                                                    \n",
      "                                                                                                  \n",
      " batch_normalization_12 (BatchN  (None, 4, 4, 256)   1024        ['conv2d_12[0][0]']              \n",
      " ormalization)                                                                                    \n",
      "                                                                                                  \n",
      " add_4 (Add)                    (None, 4, 4, 256)    0           ['batch_normalization_11[0][0]', \n",
      "                                                                  'batch_normalization_12[0][0]'] \n",
      "                                                                                                  \n",
      " re_lu_10 (ReLU)                (None, 4, 4, 256)    0           ['add_4[0][0]']                  \n",
      "                                                                                                  \n",
      " conv2d_13 (Conv2D)             (None, 4, 4, 256)    590080      ['re_lu_10[0][0]']               \n",
      "                                                                                                  \n",
      " batch_normalization_13 (BatchN  (None, 4, 4, 256)   1024        ['conv2d_13[0][0]']              \n",
      " ormalization)                                                                                    \n",
      "                                                                                                  \n",
      " re_lu_11 (ReLU)                (None, 4, 4, 256)    0           ['batch_normalization_13[0][0]'] \n",
      "                                                                                                  \n",
      " conv2d_14 (Conv2D)             (None, 4, 4, 256)    590080      ['re_lu_11[0][0]']               \n",
      "                                                                                                  \n",
      " batch_normalization_14 (BatchN  (None, 4, 4, 256)   1024        ['conv2d_14[0][0]']              \n",
      " ormalization)                                                                                    \n",
      "                                                                                                  \n",
      " add_5 (Add)                    (None, 4, 4, 256)    0           ['batch_normalization_14[0][0]', \n",
      "                                                                  're_lu_10[0][0]']               \n",
      "                                                                                                  \n",
      " re_lu_12 (ReLU)                (None, 4, 4, 256)    0           ['add_5[0][0]']                  \n",
      "                                                                                                  \n",
      " conv2d_15 (Conv2D)             (None, 2, 2, 512)    1180160     ['re_lu_12[0][0]']               \n",
      "                                                                                                  \n",
      " batch_normalization_15 (BatchN  (None, 2, 2, 512)   2048        ['conv2d_15[0][0]']              \n",
      " ormalization)                                                                                    \n",
      "                                                                                                  \n",
      " re_lu_13 (ReLU)                (None, 2, 2, 512)    0           ['batch_normalization_15[0][0]'] \n",
      "                                                                                                  \n",
      " conv2d_16 (Conv2D)             (None, 2, 2, 512)    2359808     ['re_lu_13[0][0]']               \n",
      "                                                                                                  \n",
      " conv2d_17 (Conv2D)             (None, 2, 2, 512)    131584      ['re_lu_12[0][0]']               \n",
      "                                                                                                  \n",
      " batch_normalization_16 (BatchN  (None, 2, 2, 512)   2048        ['conv2d_16[0][0]']              \n",
      " ormalization)                                                                                    \n",
      "                                                                                                  \n",
      " batch_normalization_17 (BatchN  (None, 2, 2, 512)   2048        ['conv2d_17[0][0]']              \n",
      " ormalization)                                                                                    \n",
      "                                                                                                  \n",
      " add_6 (Add)                    (None, 2, 2, 512)    0           ['batch_normalization_16[0][0]', \n",
      "                                                                  'batch_normalization_17[0][0]'] \n",
      "                                                                                                  \n",
      " re_lu_14 (ReLU)                (None, 2, 2, 512)    0           ['add_6[0][0]']                  \n",
      "                                                                                                  \n",
      " conv2d_18 (Conv2D)             (None, 2, 2, 512)    2359808     ['re_lu_14[0][0]']               \n",
      "                                                                                                  \n",
      " batch_normalization_18 (BatchN  (None, 2, 2, 512)   2048        ['conv2d_18[0][0]']              \n",
      " ormalization)                                                                                    \n",
      "                                                                                                  \n",
      " re_lu_15 (ReLU)                (None, 2, 2, 512)    0           ['batch_normalization_18[0][0]'] \n",
      "                                                                                                  \n",
      " conv2d_19 (Conv2D)             (None, 2, 2, 512)    2359808     ['re_lu_15[0][0]']               \n",
      "                                                                                                  \n",
      " batch_normalization_19 (BatchN  (None, 2, 2, 512)   2048        ['conv2d_19[0][0]']              \n",
      " ormalization)                                                                                    \n",
      "                                                                                                  \n",
      " add_7 (Add)                    (None, 2, 2, 512)    0           ['batch_normalization_19[0][0]', \n",
      "                                                                  're_lu_14[0][0]']               \n",
      "                                                                                                  \n",
      " re_lu_16 (ReLU)                (None, 2, 2, 512)    0           ['add_7[0][0]']                  \n",
      "                                                                                                  \n",
      " global_average_pooling2d (Glob  (None, 512)         0           ['re_lu_16[0][0]']               \n",
      " alAveragePooling2D)                                                                              \n",
      "                                                                                                  \n",
      " dense (Dense)                  (None, 64)           32832       ['global_average_pooling2d[0][0]'\n",
      "                                                                 ]                                \n",
      "                                                                                                  \n",
      " dense_1 (Dense)                (None, 512)          33280       ['dense[0][0]']                  \n",
      "                                                                                                  \n",
      " reshape (Reshape)              (None, 1, 1, 512)    0           ['dense_1[0][0]']                \n",
      "                                                                                                  \n",
      " multiply (Multiply)            (None, 2, 2, 512)    0           ['re_lu_16[0][0]',               \n",
      "                                                                  'reshape[0][0]']                \n",
      "                                                                                                  \n",
      " global_average_pooling2d_1 (Gl  (None, 512)         0           ['multiply[0][0]']               \n",
      " obalAveragePooling2D)                                                                            \n",
      "                                                                                                  \n",
      " dense_2 (Dense)                (None, 7)            3591        ['global_average_pooling2d_1[0][0\n",
      "                                                                 ]']                              \n",
      "                                                                                                  \n",
      "==================================================================================================\n",
      "Total params: 11,260,615\n",
      "Trainable params: 11,251,015\n",
      "Non-trainable params: 9,600\n",
      "__________________________________________________________________________________________________\n"
     ]
    }
   ],
   "source": [
    "# Set input shape and number of classes\n",
    "input_shape = (28, 28, 3)  # Example input shape, adjust based on your requirements\n",
    "num_classes = 7  # Adjust based on your classification task\n",
    "\n",
    "# Create the ResNet model\n",
    "model = resnet(input_shape, num_classes)\n",
    "\n",
    "# Compile the model\n",
    "model.compile(optimizer='adam', loss='categorical_crossentropy', metrics=['accuracy'])\n",
    "\n",
    "# Display the model summary\n",
    "model.summary()"
   ]
  },
  {
   "cell_type": "code",
   "execution_count": 17,
   "id": "674dcbb6",
   "metadata": {
    "papermill": {
     "duration": 1306.438779,
     "end_time": "2023-11-20T18:25:41.833059",
     "exception": false,
     "start_time": "2023-11-20T18:03:55.394280",
     "status": "completed"
    },
    "tags": []
   },
   "outputs": [
    {
     "name": "stdout",
     "output_type": "stream",
     "text": [
      "Epoch 1/200\n",
      "276/276 [==============================] - 16s 41ms/step - loss: 0.7478 - accuracy: 0.7180 - val_loss: 3.6115 - val_accuracy: 0.2947 - lr: 0.0010\n",
      "Epoch 2/200\n",
      "276/276 [==============================] - 10s 37ms/step - loss: 0.3090 - accuracy: 0.8865 - val_loss: 1.3858 - val_accuracy: 0.6214 - lr: 0.0010\n",
      "Epoch 3/200\n",
      "276/276 [==============================] - 10s 37ms/step - loss: 0.2042 - accuracy: 0.9246 - val_loss: 0.7395 - val_accuracy: 0.7514 - lr: 0.0010\n",
      "Epoch 4/200\n",
      "276/276 [==============================] - 10s 38ms/step - loss: 0.1331 - accuracy: 0.9506 - val_loss: 1.4968 - val_accuracy: 0.5954 - lr: 0.0010\n",
      "Epoch 5/200\n",
      "274/276 [============================>.] - ETA: 0s - loss: 0.1374 - accuracy: 0.9511\n",
      "Epoch 5: ReduceLROnPlateau reducing learning rate to 0.0005000000237487257.\n",
      "276/276 [==============================] - 10s 38ms/step - loss: 0.1372 - accuracy: 0.9512 - val_loss: 2.7863 - val_accuracy: 0.4972 - lr: 0.0010\n",
      "Epoch 6/200\n",
      "276/276 [==============================] - 10s 38ms/step - loss: 0.0628 - accuracy: 0.9784 - val_loss: 0.2071 - val_accuracy: 0.9292 - lr: 5.0000e-04\n",
      "Epoch 7/200\n",
      "276/276 [==============================] - 11s 38ms/step - loss: 0.0218 - accuracy: 0.9931 - val_loss: 0.1007 - val_accuracy: 0.9698 - lr: 5.0000e-04\n",
      "Epoch 8/200\n",
      "276/276 [==============================] - 10s 38ms/step - loss: 0.0253 - accuracy: 0.9909 - val_loss: 0.1295 - val_accuracy: 0.9582 - lr: 5.0000e-04\n",
      "Epoch 9/200\n",
      "276/276 [==============================] - ETA: 0s - loss: 0.0191 - accuracy: 0.9935\n",
      "Epoch 9: ReduceLROnPlateau reducing learning rate to 0.0002500000118743628.\n",
      "276/276 [==============================] - 11s 38ms/step - loss: 0.0191 - accuracy: 0.9935 - val_loss: 0.1564 - val_accuracy: 0.9485 - lr: 5.0000e-04\n",
      "Epoch 10/200\n",
      "276/276 [==============================] - 11s 39ms/step - loss: 0.0105 - accuracy: 0.9966 - val_loss: 0.0564 - val_accuracy: 0.9871 - lr: 2.5000e-04\n",
      "Epoch 11/200\n",
      "276/276 [==============================] - 11s 41ms/step - loss: 0.0012 - accuracy: 0.9997 - val_loss: 0.0676 - val_accuracy: 0.9850 - lr: 2.5000e-04\n",
      "Epoch 12/200\n",
      "275/276 [============================>.] - ETA: 0s - loss: 0.0021 - accuracy: 0.9995\n",
      "Epoch 12: ReduceLROnPlateau reducing learning rate to 0.0001250000059371814.\n",
      "276/276 [==============================] - 11s 40ms/step - loss: 0.0021 - accuracy: 0.9995 - val_loss: 0.0705 - val_accuracy: 0.9864 - lr: 2.5000e-04\n",
      "Epoch 13/200\n",
      "276/276 [==============================] - 11s 41ms/step - loss: 3.1033e-04 - accuracy: 1.0000 - val_loss: 0.0708 - val_accuracy: 0.9868 - lr: 1.2500e-04\n",
      "Epoch 14/200\n",
      "275/276 [============================>.] - ETA: 0s - loss: 1.6584e-04 - accuracy: 1.0000\n",
      "Epoch 14: ReduceLROnPlateau reducing learning rate to 6.25000029685907e-05.\n",
      "276/276 [==============================] - 11s 40ms/step - loss: 2.5333e-04 - accuracy: 1.0000 - val_loss: 0.0705 - val_accuracy: 0.9871 - lr: 1.2500e-04\n",
      "Epoch 15/200\n",
      "276/276 [==============================] - 11s 41ms/step - loss: 2.3239e-04 - accuracy: 1.0000 - val_loss: 0.0743 - val_accuracy: 0.9865 - lr: 6.2500e-05\n",
      "Epoch 16/200\n",
      "275/276 [============================>.] - ETA: 0s - loss: 1.5844e-04 - accuracy: 1.0000\n",
      "Epoch 16: ReduceLROnPlateau reducing learning rate to 3.125000148429535e-05.\n",
      "276/276 [==============================] - 11s 40ms/step - loss: 2.2695e-04 - accuracy: 1.0000 - val_loss: 0.0696 - val_accuracy: 0.9871 - lr: 6.2500e-05\n",
      "Epoch 17/200\n",
      "276/276 [==============================] - 11s 40ms/step - loss: 2.5940e-04 - accuracy: 1.0000 - val_loss: 0.0773 - val_accuracy: 0.9864 - lr: 3.1250e-05\n",
      "Epoch 18/200\n",
      "276/276 [==============================] - ETA: 0s - loss: 1.4834e-04 - accuracy: 1.0000\n",
      "Epoch 18: ReduceLROnPlateau reducing learning rate to 1.5625000742147677e-05.\n",
      "276/276 [==============================] - 11s 40ms/step - loss: 1.4834e-04 - accuracy: 1.0000 - val_loss: 0.0710 - val_accuracy: 0.9872 - lr: 3.1250e-05\n",
      "Epoch 19/200\n",
      "276/276 [==============================] - 11s 40ms/step - loss: 1.5728e-04 - accuracy: 1.0000 - val_loss: 0.0739 - val_accuracy: 0.9870 - lr: 1.5625e-05\n",
      "Epoch 20/200\n",
      "276/276 [==============================] - 11s 41ms/step - loss: 1.5047e-04 - accuracy: 1.0000 - val_loss: 0.0682 - val_accuracy: 0.9875 - lr: 1.5625e-05\n",
      "Epoch 21/200\n",
      "276/276 [==============================] - 11s 40ms/step - loss: 1.6074e-04 - accuracy: 1.0000 - val_loss: 0.0689 - val_accuracy: 0.9872 - lr: 1.5625e-05\n",
      "Epoch 22/200\n",
      "275/276 [============================>.] - ETA: 0s - loss: 1.2950e-04 - accuracy: 1.0000\n",
      "Epoch 22: ReduceLROnPlateau reducing learning rate to 1e-05.\n",
      "276/276 [==============================] - 11s 40ms/step - loss: 1.4711e-04 - accuracy: 1.0000 - val_loss: 0.0667 - val_accuracy: 0.9876 - lr: 1.5625e-05\n",
      "Epoch 23/200\n",
      "276/276 [==============================] - 11s 39ms/step - loss: 2.9607e-04 - accuracy: 0.9999 - val_loss: 0.0695 - val_accuracy: 0.9874 - lr: 1.0000e-05\n",
      "Epoch 24/200\n",
      "276/276 [==============================] - 11s 39ms/step - loss: 2.2723e-04 - accuracy: 0.9999 - val_loss: 0.0679 - val_accuracy: 0.9874 - lr: 1.0000e-05\n",
      "Epoch 25/200\n",
      "276/276 [==============================] - 11s 40ms/step - loss: 1.0736e-04 - accuracy: 1.0000 - val_loss: 0.0685 - val_accuracy: 0.9873 - lr: 1.0000e-05\n",
      "Epoch 26/200\n",
      "276/276 [==============================] - 11s 40ms/step - loss: 1.3480e-04 - accuracy: 1.0000 - val_loss: 0.0702 - val_accuracy: 0.9866 - lr: 1.0000e-05\n",
      "Epoch 27/200\n",
      "276/276 [==============================] - 11s 39ms/step - loss: 1.1359e-04 - accuracy: 1.0000 - val_loss: 0.0695 - val_accuracy: 0.9871 - lr: 1.0000e-05\n",
      "Epoch 28/200\n",
      "276/276 [==============================] - 11s 39ms/step - loss: 1.7034e-04 - accuracy: 1.0000 - val_loss: 0.0707 - val_accuracy: 0.9870 - lr: 1.0000e-05\n",
      "Epoch 29/200\n",
      "276/276 [==============================] - 11s 40ms/step - loss: 1.0727e-04 - accuracy: 1.0000 - val_loss: 0.0718 - val_accuracy: 0.9866 - lr: 1.0000e-05\n",
      "Epoch 30/200\n",
      "276/276 [==============================] - 11s 41ms/step - loss: 1.5337e-04 - accuracy: 1.0000 - val_loss: 0.0708 - val_accuracy: 0.9872 - lr: 1.0000e-05\n",
      "Epoch 31/200\n",
      "276/276 [==============================] - 11s 40ms/step - loss: 1.2247e-04 - accuracy: 1.0000 - val_loss: 0.0694 - val_accuracy: 0.9874 - lr: 1.0000e-05\n",
      "Epoch 32/200\n",
      "276/276 [==============================] - 11s 41ms/step - loss: 1.0301e-04 - accuracy: 1.0000 - val_loss: 0.0700 - val_accuracy: 0.9875 - lr: 1.0000e-05\n",
      "Epoch 33/200\n",
      "276/276 [==============================] - 12s 42ms/step - loss: 1.1169e-04 - accuracy: 1.0000 - val_loss: 0.0680 - val_accuracy: 0.9879 - lr: 1.0000e-05\n",
      "Epoch 34/200\n",
      "276/276 [==============================] - 11s 40ms/step - loss: 1.0573e-04 - accuracy: 1.0000 - val_loss: 0.0687 - val_accuracy: 0.9876 - lr: 1.0000e-05\n",
      "Epoch 35/200\n",
      "276/276 [==============================] - 11s 40ms/step - loss: 1.2303e-04 - accuracy: 1.0000 - val_loss: 0.0712 - val_accuracy: 0.9869 - lr: 1.0000e-05\n",
      "Epoch 36/200\n",
      "276/276 [==============================] - 11s 40ms/step - loss: 1.0769e-04 - accuracy: 1.0000 - val_loss: 0.0702 - val_accuracy: 0.9868 - lr: 1.0000e-05\n",
      "Epoch 37/200\n",
      "276/276 [==============================] - 11s 40ms/step - loss: 1.4477e-04 - accuracy: 1.0000 - val_loss: 0.0717 - val_accuracy: 0.9870 - lr: 1.0000e-05\n",
      "Epoch 38/200\n",
      "276/276 [==============================] - 11s 40ms/step - loss: 1.1244e-04 - accuracy: 1.0000 - val_loss: 0.0643 - val_accuracy: 0.9883 - lr: 1.0000e-05\n",
      "Epoch 39/200\n",
      "276/276 [==============================] - 11s 41ms/step - loss: 9.3072e-05 - accuracy: 1.0000 - val_loss: 0.0670 - val_accuracy: 0.9879 - lr: 1.0000e-05\n",
      "Epoch 40/200\n",
      "276/276 [==============================] - 11s 41ms/step - loss: 7.9062e-05 - accuracy: 1.0000 - val_loss: 0.0676 - val_accuracy: 0.9876 - lr: 1.0000e-05\n",
      "Epoch 41/200\n",
      "276/276 [==============================] - 11s 41ms/step - loss: 1.1677e-04 - accuracy: 1.0000 - val_loss: 0.0711 - val_accuracy: 0.9874 - lr: 1.0000e-05\n",
      "Epoch 42/200\n",
      "276/276 [==============================] - 11s 41ms/step - loss: 1.0407e-04 - accuracy: 1.0000 - val_loss: 0.0714 - val_accuracy: 0.9870 - lr: 1.0000e-05\n",
      "Epoch 43/200\n",
      "276/276 [==============================] - 11s 41ms/step - loss: 1.0399e-04 - accuracy: 1.0000 - val_loss: 0.0731 - val_accuracy: 0.9870 - lr: 1.0000e-05\n",
      "Epoch 44/200\n",
      "276/276 [==============================] - 11s 41ms/step - loss: 1.7002e-04 - accuracy: 1.0000 - val_loss: 0.0735 - val_accuracy: 0.9870 - lr: 1.0000e-05\n",
      "Epoch 45/200\n",
      "276/276 [==============================] - 11s 41ms/step - loss: 1.1754e-04 - accuracy: 1.0000 - val_loss: 0.0752 - val_accuracy: 0.9873 - lr: 1.0000e-05\n",
      "Epoch 46/200\n",
      "276/276 [==============================] - 11s 41ms/step - loss: 1.3658e-04 - accuracy: 1.0000 - val_loss: 0.0731 - val_accuracy: 0.9877 - lr: 1.0000e-05\n",
      "Epoch 47/200\n",
      "276/276 [==============================] - 12s 43ms/step - loss: 1.4940e-04 - accuracy: 1.0000 - val_loss: 0.0755 - val_accuracy: 0.9874 - lr: 1.0000e-05\n",
      "Epoch 48/200\n",
      "276/276 [==============================] - 11s 41ms/step - loss: 1.1898e-04 - accuracy: 1.0000 - val_loss: 0.0751 - val_accuracy: 0.9874 - lr: 1.0000e-05\n",
      "Epoch 49/200\n",
      "276/276 [==============================] - 11s 41ms/step - loss: 1.8745e-04 - accuracy: 0.9999 - val_loss: 0.0735 - val_accuracy: 0.9876 - lr: 1.0000e-05\n",
      "Epoch 50/200\n",
      "276/276 [==============================] - 11s 41ms/step - loss: 1.0925e-04 - accuracy: 1.0000 - val_loss: 0.0729 - val_accuracy: 0.9882 - lr: 1.0000e-05\n"
     ]
    }
   ],
   "source": [
    "from tensorflow.keras.callbacks import EarlyStopping\n",
    "history = model.fit(X_train ,\n",
    "                    y_train ,\n",
    "                    epochs=200 ,\n",
    "                    batch_size=128,\n",
    "                    validation_data=(X_test , y_test) ,\n",
    "                    callbacks=[learning_rate_reduction,EarlyStopping(monitor='loss', patience=10, restore_best_weights = True)])"
   ]
  },
  {
   "cell_type": "code",
   "execution_count": 18,
   "id": "beb91ad5-fdd6-4e21-a4f3-0366af979402",
   "metadata": {},
   "outputs": [],
   "source": [
    "import tensorflow as tf\n",
    "model.save_weights('weights\\ResNetAttention.h5')"
   ]
  },
  {
   "cell_type": "code",
   "execution_count": 19,
   "id": "8a9c5503",
   "metadata": {
    "papermill": {
     "duration": 0.293671,
     "end_time": "2023-11-20T18:25:42.393925",
     "exception": false,
     "start_time": "2023-11-20T18:25:42.100254",
     "status": "completed"
    },
    "tags": []
   },
   "outputs": [],
   "source": [
    "def plot_training(hist):\n",
    "    tr_acc = hist.history['accuracy']\n",
    "    tr_loss = hist.history['loss']\n",
    "    val_acc = hist.history['val_accuracy']\n",
    "    val_loss = hist.history['val_loss']\n",
    "    index_loss = np.argmin(val_loss)\n",
    "    val_lowest = val_loss[index_loss]\n",
    "    index_acc = np.argmax(val_acc)\n",
    "    acc_highest = val_acc[index_acc]\n",
    "\n",
    "    plt.figure(figsize= (20, 8))\n",
    "    plt.style.use('fivethirtyeight')\n",
    "    Epochs = [i+1 for i in range(len(tr_acc))]\n",
    "    loss_label = f'best epoch= {str(index_loss + 1)}'\n",
    "    acc_label = f'best epoch= {str(index_acc + 1)}'\n",
    "    \n",
    "    plt.subplot(1, 2, 1)\n",
    "    plt.plot(Epochs, tr_loss, 'r', label= 'Training loss')\n",
    "    plt.plot(Epochs, val_loss, 'g', label= 'Validation loss')\n",
    "    plt.scatter(index_loss + 1, val_lowest, s= 150, c= 'blue', label= loss_label)\n",
    "    plt.title('Training and Validation Loss')\n",
    "    plt.xlabel('Epochs')\n",
    "    plt.ylabel('Loss')\n",
    "    plt.legend()\n",
    "    \n",
    "    plt.subplot(1, 2, 2)\n",
    "    plt.plot(Epochs, tr_acc, 'r', label= 'Training Accuracy')\n",
    "    plt.plot(Epochs, val_acc, 'g', label= 'Validation Accuracy')\n",
    "    plt.scatter(index_acc + 1 , acc_highest, s= 150, c= 'blue', label= acc_label)\n",
    "    plt.title('Training and Validation Accuracy')\n",
    "    plt.xlabel('Epochs')\n",
    "    plt.ylabel('Accuracy')\n",
    "    plt.legend()\n",
    "    \n",
    "    plt.tight_layout\n",
    "    plt.show()"
   ]
  },
  {
   "cell_type": "code",
   "execution_count": 20,
   "id": "0dba96f3",
   "metadata": {
    "papermill": {
     "duration": 1.187868,
     "end_time": "2023-11-20T18:25:43.847692",
     "exception": false,
     "start_time": "2023-11-20T18:25:42.659824",
     "status": "completed"
    },
    "tags": []
   },
   "outputs": [
    {
     "data": {
      "image/png": "[encoded data removed]",
      "text/plain": [
       "<Figure size 2000x800 with 2 Axes>"
      ]
     },
     "metadata": {},
     "output_type": "display_data"
    }
   ],
   "source": [
    "plot_training(history)"
   ]
  },
  {
   "cell_type": "code",
   "execution_count": 21,
   "id": "da07c753",
   "metadata": {
    "papermill": {
     "duration": 41.464997,
     "end_time": "2023-11-20T18:26:25.656002",
     "exception": false,
     "start_time": "2023-11-20T18:25:44.191005",
     "status": "completed"
    },
    "tags": []
   },
   "outputs": [
    {
     "name": "stdout",
     "output_type": "stream",
     "text": [
      "1101/1101 [==============================] - 8s 7ms/step - loss: 1.7590e-05 - accuracy: 1.0000\n",
      "367/367 [==============================] - 3s 7ms/step - loss: 0.0676 - accuracy: 0.9876\n",
      "Train Loss:  1.759046244842466e-05\n",
      "Train Accuracy:  1.0\n",
      "--------------------\n",
      "Test Loss:  0.06755395233631134\n",
      "Test Accuracy:  0.9875575304031372\n"
     ]
    }
   ],
   "source": [
    "train_score = model.evaluate(X_train, y_train, verbose= 1)\n",
    "test_score = model.evaluate(X_test, y_test, verbose= 1)\n",
    "\n",
    "print(\"Train Loss: \", train_score[0])\n",
    "print(\"Train Accuracy: \", train_score[1])\n",
    "print('-' * 20)\n",
    "print(\"Test Loss: \", test_score[0])\n",
    "print(\"Test Accuracy: \", test_score[1])"
   ]
  },
  {
   "cell_type": "code",
   "execution_count": 22,
   "id": "7fa5e0da",
   "metadata": {
    "papermill": {
     "duration": 11.319973,
     "end_time": "2023-11-20T18:26:37.315854",
     "exception": false,
     "start_time": "2023-11-20T18:26:25.995881",
     "status": "completed"
    },
    "tags": []
   },
   "outputs": [
    {
     "name": "stdout",
     "output_type": "stream",
     "text": [
      "367/367 [==============================] - 2s 6ms/step\n"
     ]
    }
   ],
   "source": [
    "y_true = np.array(y_test)\n",
    "y_pred = model.predict(X_test)\n",
    "\n",
    "y_pred = np.argmax(y_pred , axis=1)\n",
    "y_true = np.argmax(y_true , axis=1)"
   ]
  },
  {
   "cell_type": "code",
   "execution_count": 23,
   "id": "2b21ad8c",
   "metadata": {
    "papermill": {
     "duration": 0.371808,
     "end_time": "2023-11-20T18:26:38.052179",
     "exception": false,
     "start_time": "2023-11-20T18:26:37.680371",
     "status": "completed"
    },
    "tags": []
   },
   "outputs": [
    {
     "name": "stdout",
     "output_type": "stream",
     "text": [
      "[4, 6, 2, 1, 5, 0, 3]\n"
     ]
    }
   ],
   "source": [
    "classes_labels = []\n",
    "for key in classes.keys():\n",
    "    classes_labels.append(key)\n",
    "\n",
    "print(classes_labels)"
   ]
  },
  {
   "cell_type": "code",
   "execution_count": 24,
   "id": "142a04b7",
   "metadata": {
    "papermill": {
     "duration": 1.150624,
     "end_time": "2023-11-20T18:26:39.559413",
     "exception": false,
     "start_time": "2023-11-20T18:26:38.408789",
     "status": "completed"
    },
    "tags": []
   },
   "outputs": [
    {
     "data": {
      "image/png": "[encoded data removed]",
      "text/plain": [
       "<Figure size 1000x1000 with 2 Axes>"
      ]
     },
     "metadata": {},
     "output_type": "display_data"
    }
   ],
   "source": [
    "cm = cm = confusion_matrix(y_true, y_pred, labels=classes_labels)\n",
    "\n",
    "plt.figure(figsize= (10, 10))\n",
    "plt.imshow(cm, interpolation= 'nearest', cmap= plt.cm.Blues)\n",
    "plt.title('Confusion Matrix')\n",
    "plt.colorbar()\n",
    "\n",
    "tick_marks = np.arange(len(classes))\n",
    "plt.xticks(tick_marks, classes, rotation= 45)\n",
    "plt.yticks(tick_marks, classes)\n",
    "\n",
    "\n",
    "thresh = cm.max() / 2.\n",
    "for i, j in itertools.product(range(cm.shape[0]), range(cm.shape[1])):\n",
    "    plt.text(j, i, cm[i, j], horizontalalignment= 'center', color= 'white' if cm[i, j] > thresh else 'black')\n",
    "\n",
    "plt.tight_layout()\n",
    "plt.ylabel('True Label')\n",
    "plt.xlabel('Predicted Label')\n",
    "\n",
    "plt.show()"
   ]
  },
  {
   "cell_type": "code",
   "execution_count": 25,
   "id": "3060744f",
   "metadata": {
    "papermill": {
     "duration": 0.596684,
     "end_time": "2023-11-20T18:26:40.514687",
     "exception": false,
     "start_time": "2023-11-20T18:26:39.918003",
     "status": "completed"
    },
    "tags": []
   },
   "outputs": [],
   "source": [
    "#model.save('Skin Cancer.h5')"
   ]
  },
  {
   "cell_type": "code",
   "execution_count": null,
   "id": "ccb32b2b",
   "metadata": {
    "papermill": {
     "duration": 0.364649,
     "end_time": "2023-11-20T18:26:41.240370",
     "exception": false,
     "start_time": "2023-11-20T18:26:40.875721",
     "status": "completed"
    },
    "tags": []
   },
   "outputs": [],
   "source": []
  }
 ],
 "metadata": {
  "kaggle": {
   "accelerator": "none",
   "dataSources": [
    {
     "datasetId": 54339,
     "sourceId": 104884,
     "sourceType": "datasetVersion"
    }
   ],
   "dockerImageVersionId": 30558,
   "isGpuEnabled": false,
   "isInternetEnabled": true,
   "language": "python",
   "sourceType": "notebook"
  },
  "kernelspec": {
   "display_name": "Python 3 (ipykernel)",
   "language": "python",
   "name": "python3"
  },
  "language_info": {
   "codemirror_mode": {
    "name": "ipython",
    "version": 3
   },
   "file_extension": ".py",
   "mimetype": "text/x-python",
   "name": "python",
   "nbconvert_exporter": "python",
   "pygments_lexer": "ipython3",
   "version": "3.10.13"
  },
  "papermill": {
   "default_parameters": {},
   "duration": 1400.093646,
   "end_time": "2023-11-20T18:26:44.411951",
   "environment_variables": {},
   "exception": null,
   "input_path": "__notebook__.ipynb",
   "output_path": "__notebook__.ipynb",
   "parameters": {},
   "start_time": "2023-11-20T18:03:24.318305",
   "version": "2.4.0"
  }
 },
 "nbformat": 4,
 "nbformat_minor": 5
}
