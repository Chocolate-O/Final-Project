{
 "cells": [
  {
   "cell_type": "code",
   "execution_count": 1,
   "id": "59dc3f32",
   "metadata": {
    "_cell_guid": "b1076dfc-b9ad-4769-8c92-a6c4dae69d19",
    "_uuid": "8f2839f25d086af736a60e9eeb907d3b93b6e0e5",
    "papermill": {
     "duration": 0.019523,
     "end_time": "2023-11-20T18:03:28.972064",
     "exception": false,
     "start_time": "2023-11-20T18:03:28.952541",
     "status": "completed"
    },
    "tags": []
   },
   "outputs": [],
   "source": [
    "# # This Python 3 environment comes with many helpful analytics libraries installed\n",
    "# # It is defined by the kaggle/python Docker image: https://github.com/kaggle/docker-python\n",
    "# # For example, here's several helpful packages to load\n",
    "\n",
    "# import numpy as np # linear algebra\n",
    "# import pandas as pd # data processing, CSV file I/O (e.g. pd.read_csv)\n",
    "\n",
    "# # Input data files are available in the read-only \"../input/\" directory\n",
    "# # For example, running this (by clicking run or pressing Shift+Enter) will list all files under the input directory\n",
    "\n",
    "# import os\n",
    "# for dirname, _, filenames in os.walk('/kaggle/input'):\n",
    "#     for filename in filenames:\n",
    "#         print(os.path.join(dirname, filename))\n",
    "\n",
    "# # You can write up to 20GB to the current directory (/kaggle/working/) that gets preserved as output when you create a version using \"Save & Run All\" \n",
    "# # You can also write temporary files to /kaggle/temp/, but they won't be saved outside of the current session"
   ]
  },
  {
   "cell_type": "code",
   "execution_count": 2,
   "id": "52f0cc78",
   "metadata": {
    "papermill": {
     "duration": 13.777656,
     "end_time": "2023-11-20T18:03:42.758467",
     "exception": false,
     "start_time": "2023-11-20T18:03:28.980811",
     "status": "completed"
    },
    "tags": []
   },
   "outputs": [
    {
     "name": "stdout",
     "output_type": "stream",
     "text": [
      "modules loaded\n"
     ]
    }
   ],
   "source": [
    "import os\n",
    "import time\n",
    "import shutil\n",
    "import itertools\n",
    "\n",
    "# import data handling tools \n",
    "import cv2\n",
    "import numpy as np\n",
    "import pandas as pd\n",
    "import seaborn as sns\n",
    "sns.set_style('darkgrid')\n",
    "import matplotlib.pyplot as plt\n",
    "# import Deep learning Libraries\n",
    "import tensorflow as tf\n",
    "from tensorflow import keras\n",
    "from tensorflow.keras.layers import Conv2D, MaxPooling2D, Flatten, Dense, Activation, Dropout, BatchNormalization\n",
    "from tensorflow.keras.models import Model, load_model, Sequential\n",
    "from tensorflow.keras.preprocessing.image import ImageDataGenerator\n",
    "from sklearn.metrics import confusion_matrix, classification_report\n",
    "from sklearn.model_selection import train_test_split\n",
    "from tensorflow.keras.optimizers import Adam, Adamax\n",
    "from tensorflow.keras import regularizers\n",
    "from tensorflow.keras.metrics import categorical_crossentropy\n",
    "\n",
    "# Ignore Warnings\n",
    "import warnings\n",
    "warnings.filterwarnings(\"ignore\")\n",
    "\n",
    "print ('modules loaded')"
   ]
  },
  {
   "cell_type": "code",
   "execution_count": 3,
   "id": "f796a06c",
   "metadata": {
    "papermill": {
     "duration": 5.498143,
     "end_time": "2023-11-20T18:03:48.265269",
     "exception": false,
     "start_time": "2023-11-20T18:03:42.767126",
     "status": "completed"
    },
    "tags": []
   },
   "outputs": [
    {
     "data": {
      "text/html": [
       "<div>\n",
       "<style scoped>\n",
       "    .dataframe tbody tr th:only-of-type {\n",
       "        vertical-align: middle;\n",
       "    }\n",
       "\n",
       "    .dataframe tbody tr th {\n",
       "        vertical-align: top;\n",
       "    }\n",
       "\n",
       "    .dataframe thead th {\n",
       "        text-align: right;\n",
       "    }\n",
       "</style>\n",
       "<table border=\"1\" class=\"dataframe\">\n",
       "  <thead>\n",
       "    <tr style=\"text-align: right;\">\n",
       "      <th></th>\n",
       "      <th>pixel0000</th>\n",
       "      <th>pixel0001</th>\n",
       "      <th>pixel0002</th>\n",
       "      <th>pixel0003</th>\n",
       "      <th>pixel0004</th>\n",
       "      <th>pixel0005</th>\n",
       "      <th>pixel0006</th>\n",
       "      <th>pixel0007</th>\n",
       "      <th>pixel0008</th>\n",
       "      <th>pixel0009</th>\n",
       "      <th>...</th>\n",
       "      <th>pixel2343</th>\n",
       "      <th>pixel2344</th>\n",
       "      <th>pixel2345</th>\n",
       "      <th>pixel2346</th>\n",
       "      <th>pixel2347</th>\n",
       "      <th>pixel2348</th>\n",
       "      <th>pixel2349</th>\n",
       "      <th>pixel2350</th>\n",
       "      <th>pixel2351</th>\n",
       "      <th>label</th>\n",
       "    </tr>\n",
       "  </thead>\n",
       "  <tbody>\n",
       "    <tr>\n",
       "      <th>0</th>\n",
       "      <td>192</td>\n",
       "      <td>153</td>\n",
       "      <td>193</td>\n",
       "      <td>195</td>\n",
       "      <td>155</td>\n",
       "      <td>192</td>\n",
       "      <td>197</td>\n",
       "      <td>154</td>\n",
       "      <td>185</td>\n",
       "      <td>202</td>\n",
       "      <td>...</td>\n",
       "      <td>173</td>\n",
       "      <td>124</td>\n",
       "      <td>138</td>\n",
       "      <td>183</td>\n",
       "      <td>147</td>\n",
       "      <td>166</td>\n",
       "      <td>185</td>\n",
       "      <td>154</td>\n",
       "      <td>177</td>\n",
       "      <td>2</td>\n",
       "    </tr>\n",
       "    <tr>\n",
       "      <th>1</th>\n",
       "      <td>25</td>\n",
       "      <td>14</td>\n",
       "      <td>30</td>\n",
       "      <td>68</td>\n",
       "      <td>48</td>\n",
       "      <td>75</td>\n",
       "      <td>123</td>\n",
       "      <td>93</td>\n",
       "      <td>126</td>\n",
       "      <td>158</td>\n",
       "      <td>...</td>\n",
       "      <td>60</td>\n",
       "      <td>39</td>\n",
       "      <td>55</td>\n",
       "      <td>25</td>\n",
       "      <td>14</td>\n",
       "      <td>28</td>\n",
       "      <td>25</td>\n",
       "      <td>14</td>\n",
       "      <td>27</td>\n",
       "      <td>2</td>\n",
       "    </tr>\n",
       "    <tr>\n",
       "      <th>2</th>\n",
       "      <td>192</td>\n",
       "      <td>138</td>\n",
       "      <td>153</td>\n",
       "      <td>200</td>\n",
       "      <td>145</td>\n",
       "      <td>163</td>\n",
       "      <td>201</td>\n",
       "      <td>142</td>\n",
       "      <td>160</td>\n",
       "      <td>206</td>\n",
       "      <td>...</td>\n",
       "      <td>167</td>\n",
       "      <td>129</td>\n",
       "      <td>143</td>\n",
       "      <td>159</td>\n",
       "      <td>124</td>\n",
       "      <td>142</td>\n",
       "      <td>136</td>\n",
       "      <td>104</td>\n",
       "      <td>117</td>\n",
       "      <td>2</td>\n",
       "    </tr>\n",
       "    <tr>\n",
       "      <th>3</th>\n",
       "      <td>38</td>\n",
       "      <td>19</td>\n",
       "      <td>30</td>\n",
       "      <td>95</td>\n",
       "      <td>59</td>\n",
       "      <td>72</td>\n",
       "      <td>143</td>\n",
       "      <td>103</td>\n",
       "      <td>119</td>\n",
       "      <td>171</td>\n",
       "      <td>...</td>\n",
       "      <td>44</td>\n",
       "      <td>26</td>\n",
       "      <td>36</td>\n",
       "      <td>25</td>\n",
       "      <td>12</td>\n",
       "      <td>17</td>\n",
       "      <td>25</td>\n",
       "      <td>12</td>\n",
       "      <td>15</td>\n",
       "      <td>2</td>\n",
       "    </tr>\n",
       "    <tr>\n",
       "      <th>4</th>\n",
       "      <td>158</td>\n",
       "      <td>113</td>\n",
       "      <td>139</td>\n",
       "      <td>194</td>\n",
       "      <td>144</td>\n",
       "      <td>174</td>\n",
       "      <td>215</td>\n",
       "      <td>162</td>\n",
       "      <td>191</td>\n",
       "      <td>225</td>\n",
       "      <td>...</td>\n",
       "      <td>209</td>\n",
       "      <td>166</td>\n",
       "      <td>185</td>\n",
       "      <td>172</td>\n",
       "      <td>135</td>\n",
       "      <td>149</td>\n",
       "      <td>109</td>\n",
       "      <td>78</td>\n",
       "      <td>92</td>\n",
       "      <td>2</td>\n",
       "    </tr>\n",
       "  </tbody>\n",
       "</table>\n",
       "<p>5 rows × 2353 columns</p>\n",
       "</div>"
      ],
      "text/plain": [
       "   pixel0000  pixel0001  pixel0002  pixel0003  pixel0004  pixel0005  \\\n",
       "0        192        153        193        195        155        192   \n",
       "1         25         14         30         68         48         75   \n",
       "2        192        138        153        200        145        163   \n",
       "3         38         19         30         95         59         72   \n",
       "4        158        113        139        194        144        174   \n",
       "\n",
       "   pixel0006  pixel0007  pixel0008  pixel0009  ...  pixel2343  pixel2344  \\\n",
       "0        197        154        185        202  ...        173        124   \n",
       "1        123         93        126        158  ...         60         39   \n",
       "2        201        142        160        206  ...        167        129   \n",
       "3        143        103        119        171  ...         44         26   \n",
       "4        215        162        191        225  ...        209        166   \n",
       "\n",
       "   pixel2345  pixel2346  pixel2347  pixel2348  pixel2349  pixel2350  \\\n",
       "0        138        183        147        166        185        154   \n",
       "1         55         25         14         28         25         14   \n",
       "2        143        159        124        142        136        104   \n",
       "3         36         25         12         17         25         12   \n",
       "4        185        172        135        149        109         78   \n",
       "\n",
       "   pixel2351  label  \n",
       "0        177      2  \n",
       "1         27      2  \n",
       "2        117      2  \n",
       "3         15      2  \n",
       "4         92      2  \n",
       "\n",
       "[5 rows x 2353 columns]"
      ]
     },
     "execution_count": 3,
     "metadata": {},
     "output_type": "execute_result"
    }
   ],
   "source": [
    "data_dir = r'F:\\MV\\Dataset\\HAM1000\\hmnist_28_28_RGB.csv'\n",
    "data = pd.read_csv(data_dir)\n",
    "data.head()"
   ]
  },
  {
   "cell_type": "code",
   "execution_count": 4,
   "id": "2ac3419f-5789-457a-a995-50a807ea7aed",
   "metadata": {},
   "outputs": [
    {
     "name": "stdout",
     "output_type": "stream",
     "text": [
      "<class 'pandas.core.frame.DataFrame'>\n",
      "RangeIndex: 10015 entries, 0 to 10014\n",
      "Columns: 2353 entries, pixel0000 to label\n",
      "dtypes: int64(2353)\n",
      "memory usage: 179.8 MB\n"
     ]
    }
   ],
   "source": [
    "data.info()"
   ]
  },
  {
   "cell_type": "code",
   "execution_count": 5,
   "id": "b0adcb8d",
   "metadata": {
    "papermill": {
     "duration": 0.110948,
     "end_time": "2023-11-20T18:03:48.385458",
     "exception": false,
     "start_time": "2023-11-20T18:03:48.274510",
     "status": "completed"
    },
    "tags": []
   },
   "outputs": [],
   "source": [
    "Label = data[\"label\"]\n",
    "Data = data.drop(columns=[\"label\"])"
   ]
  },
  {
   "cell_type": "code",
   "execution_count": 6,
   "id": "c779c31b",
   "metadata": {
    "papermill": {
     "duration": 0.025722,
     "end_time": "2023-11-20T18:03:48.420456",
     "exception": false,
     "start_time": "2023-11-20T18:03:48.394734",
     "status": "completed"
    },
    "tags": []
   },
   "outputs": [
    {
     "data": {
      "text/plain": [
       "label\n",
       "4    6705\n",
       "6    1113\n",
       "2    1099\n",
       "1     514\n",
       "0     327\n",
       "5     142\n",
       "3     115\n",
       "Name: count, dtype: int64"
      ]
     },
     "execution_count": 6,
     "metadata": {},
     "output_type": "execute_result"
    }
   ],
   "source": [
    "data[\"label\"].value_counts()"
   ]
  },
  {
   "cell_type": "code",
   "execution_count": 7,
   "id": "7d4aeb34",
   "metadata": {
    "papermill": {
     "duration": 3.928484,
     "end_time": "2023-11-20T18:03:52.357791",
     "exception": false,
     "start_time": "2023-11-20T18:03:48.429307",
     "status": "completed"
    },
    "tags": []
   },
   "outputs": [
    {
     "name": "stdout",
     "output_type": "stream",
     "text": [
      "Shape of Data : (46935, 28, 28, 3)\n"
     ]
    }
   ],
   "source": [
    "from imblearn.over_sampling import RandomOverSampler \n",
    "\n",
    "oversample = RandomOverSampler()\n",
    "Data, Label  = oversample.fit_resample(Data, Label)\n",
    "Data = np.array(Data).reshape(-1, 28, 28, 3)\n",
    "print('Shape of Data :', Data.shape)"
   ]
  },
  {
   "cell_type": "code",
   "execution_count": 8,
   "id": "50e90ae8",
   "metadata": {
    "papermill": {
     "duration": 0.021587,
     "end_time": "2023-11-20T18:03:52.388539",
     "exception": false,
     "start_time": "2023-11-20T18:03:52.366952",
     "status": "completed"
    },
    "tags": []
   },
   "outputs": [
    {
     "data": {
      "text/plain": [
       "array([2, 2, 2, ..., 6, 6, 6], dtype=int64)"
      ]
     },
     "execution_count": 8,
     "metadata": {},
     "output_type": "execute_result"
    }
   ],
   "source": [
    "Label = np.array(Label)\n",
    "Label"
   ]
  },
  {
   "cell_type": "code",
   "execution_count": 9,
   "id": "8e518cb6",
   "metadata": {
    "papermill": {
     "duration": 0.020228,
     "end_time": "2023-11-20T18:03:52.418121",
     "exception": false,
     "start_time": "2023-11-20T18:03:52.397893",
     "status": "completed"
    },
    "tags": []
   },
   "outputs": [],
   "source": [
    "classes = {4: ('nv', ' melanocytic nevi'),\n",
    "           6: ('mel', 'melanoma'),\n",
    "           2: ('bkl', 'benign keratosis-like lesions'), \n",
    "           1:('bcc' , ' basal cell carcinoma'),\n",
    "           5: ('vasc', ' pyogenic granulomas and hemorrhage'),\n",
    "           0: ('akiec', 'Actinic keratoses and intraepithelial carcinomae'),\n",
    "           3: ('df', 'dermatofibroma')}"
   ]
  },
  {
   "cell_type": "code",
   "execution_count": 10,
   "id": "9f16b6f8",
   "metadata": {
    "papermill": {
     "duration": 1.926467,
     "end_time": "2023-11-20T18:03:54.353943",
     "exception": false,
     "start_time": "2023-11-20T18:03:52.427476",
     "status": "completed"
    },
    "tags": []
   },
   "outputs": [],
   "source": [
    "from sklearn.model_selection import train_test_split\n",
    "\n",
    "X_train , X_test , y_train , y_test = train_test_split(Data , Label , test_size = 0.25 , random_state = 49)"
   ]
  },
  {
   "cell_type": "code",
   "execution_count": 11,
   "id": "425987e9",
   "metadata": {
    "papermill": {
     "duration": 0.020381,
     "end_time": "2023-11-20T18:03:54.384326",
     "exception": false,
     "start_time": "2023-11-20T18:03:54.363945",
     "status": "completed"
    },
    "tags": []
   },
   "outputs": [
    {
     "name": "stdout",
     "output_type": "stream",
     "text": [
      "(35201, 28, 28, 3)\n",
      "(35201,)\n",
      "(11734, 28, 28, 3)\n",
      "(11734,)\n"
     ]
    }
   ],
   "source": [
    "print(X_train.shape)\n",
    "print(y_train.shape)\n",
    "print(X_test.shape)\n",
    "print(y_test.shape)"
   ]
  },
  {
   "cell_type": "code",
   "execution_count": 12,
   "id": "09ae56d1",
   "metadata": {
    "papermill": {
     "duration": 0.019608,
     "end_time": "2023-11-20T18:03:54.413572",
     "exception": false,
     "start_time": "2023-11-20T18:03:54.393964",
     "status": "completed"
    },
    "tags": []
   },
   "outputs": [],
   "source": [
    "from tensorflow.python.keras.utils.np_utils import to_categorical\n",
    "\n",
    "y_train = to_categorical(y_train)\n",
    "y_test = to_categorical(y_test)"
   ]
  },
  {
   "cell_type": "code",
   "execution_count": 13,
   "id": "a96f1f06",
   "metadata": {
    "papermill": {
     "duration": 0.020389,
     "end_time": "2023-11-20T18:03:54.443370",
     "exception": false,
     "start_time": "2023-11-20T18:03:54.422981",
     "status": "completed"
    },
    "tags": []
   },
   "outputs": [],
   "source": [
    "datagen = ImageDataGenerator(rescale=(1./255)\n",
    "                             ,rotation_range=10\n",
    "                             ,zoom_range = 0.1\n",
    "                             ,width_shift_range=0.1\n",
    "                             ,height_shift_range=0.1)\n",
    "\n",
    "testgen = ImageDataGenerator(rescale=(1./255))"
   ]
  },
  {
   "cell_type": "code",
   "execution_count": 14,
   "id": "41546902",
   "metadata": {
    "papermill": {
     "duration": 0.019312,
     "end_time": "2023-11-20T18:03:54.471883",
     "exception": false,
     "start_time": "2023-11-20T18:03:54.452571",
     "status": "completed"
    },
    "tags": []
   },
   "outputs": [],
   "source": [
    "from keras.callbacks import ReduceLROnPlateau\n",
    "\n",
    "learning_rate_reduction = ReduceLROnPlateau(monitor='val_accuracy'\n",
    "                                            , patience = 2\n",
    "                                            , verbose=1\n",
    "                                            ,factor=0.5\n",
    "                                            , min_lr=0.00001)"
   ]
  },
  {
   "cell_type": "code",
   "execution_count": 17,
   "id": "cba3455b",
   "metadata": {
    "papermill": {
     "duration": 0.896561,
     "end_time": "2023-11-20T18:03:55.377689",
     "exception": false,
     "start_time": "2023-11-20T18:03:54.481128",
     "status": "completed"
    },
    "tags": []
   },
   "outputs": [],
   "source": [
    "from tensorflow.keras.layers import Input, Conv2D, MaxPooling2D, AveragePooling2D, concatenate, GlobalAveragePooling2D, Dense\n",
    "\n",
    "def inception_block_A(x, filters):\n",
    "    conv1x1_1 = Conv2D(filters[0], (1, 1), padding='same', activation='relu')(x)\n",
    "    \n",
    "    conv3x3 = Conv2D(filters[1], (3, 3), padding='same', activation='relu')(x)\n",
    "\n",
    "    conv5x5 = Conv2D(filters[2], (5, 5), padding='same', activation='relu')(x)\n",
    "\n",
    "    pool_conv1x1 = Conv2D(filters[3], (1, 1), padding='same', activation='relu')(AveragePooling2D((3, 3), strides=(1, 1), padding='same')(x))\n",
    "\n",
    "    concat = concatenate([conv1x1_1, conv3x3, conv5x5, pool_conv1x1], axis=-1)\n",
    "    \n",
    "    return concat\n",
    "\n",
    "def inception_block_B(x, filters):\n",
    "    conv1x1_1 = Conv2D(filters[0], (1, 1), padding='same', activation='relu')(x)\n",
    "    \n",
    "    conv3x3 = Conv2D(filters[1], (3, 3), padding='same', activation='relu')(x)\n",
    "\n",
    "    conv5x5 = Conv2D(filters[2], (5, 5), padding='same', activation='relu')(x)\n",
    "\n",
    "    pool_conv1x1 = Conv2D(filters[3], (1, 1), padding='same', activation='relu')(AveragePooling2D((3, 3), strides=(1, 1), padding='same')(x))\n",
    "\n",
    "    concat = concatenate([conv1x1_1, conv3x3, conv5x5, pool_conv1x1], axis=-1)\n",
    "    \n",
    "    return concat\n",
    "\n",
    "def inception_block_C(x, filters):\n",
    "    conv1x1_1 = Conv2D(filters[0], (1, 1), padding='same', activation='relu')(x)\n",
    "    \n",
    "    conv3x3 = Conv2D(filters[1], (3, 3), padding='same', activation='relu')(x)\n",
    "\n",
    "    conv5x5 = Conv2D(filters[2], (5, 5), padding='same', activation='relu')(x)\n",
    "\n",
    "    pool_conv1x1 = Conv2D(filters[3], (1, 1), padding='same', activation='relu')(AveragePooling2D((3, 3), strides=(1, 1), padding='same')(x))\n",
    "\n",
    "    concat = concatenate([conv1x1_1, conv3x3, conv5x5, pool_conv1x1], axis=-1)\n",
    "    \n",
    "    return concat\n",
    "\n",
    "# Define the Inception model using functional API\n",
    "def muti_inception_model(input_shape, num_classes):\n",
    "    inputs = Input(shape=input_shape)\n",
    "\n",
    "    # Initial convolution block\n",
    "    x = Conv2D(64, (7, 7), strides=(2, 2), padding='same', activation='relu')(inputs)\n",
    "    x = MaxPooling2D((3, 3), strides=(2, 2), padding='same')(x)\n",
    "\n",
    "    # Inception blocks\n",
    "    x = inception_block_A(x, filters=[64, 128, 32, 32])\n",
    "    x = inception_block_B(x, filters=[128, 192, 96, 64])\n",
    "    x = inception_block_C(x, filters=[192, 208, 128, 64])\n",
    "\n",
    "    # Global average pooling\n",
    "    x = GlobalAveragePooling2D()(x)\n",
    "\n",
    "    # Fully connected layer\n",
    "    outputs = Dense(num_classes, activation='softmax')(x)\n",
    "\n",
    "    model = tf.keras.models.Model(inputs, outputs)\n",
    "\n",
    "    return model\n",
    "\n",
    "\n"
   ]
  },
  {
   "cell_type": "code",
   "execution_count": 18,
   "id": "103ebadf-f169-444a-bfd2-f1289503c726",
   "metadata": {},
   "outputs": [
    {
     "name": "stdout",
     "output_type": "stream",
     "text": [
      "Model: \"model\"\n",
      "__________________________________________________________________________________________________\n",
      " Layer (type)                   Output Shape         Param #     Connected to                     \n",
      "==================================================================================================\n",
      " input_2 (InputLayer)           [(None, 28, 28, 3)]  0           []                               \n",
      "                                                                                                  \n",
      " conv2d_13 (Conv2D)             (None, 14, 14, 64)   9472        ['input_2[0][0]']                \n",
      "                                                                                                  \n",
      " max_pooling2d_1 (MaxPooling2D)  (None, 7, 7, 64)    0           ['conv2d_13[0][0]']              \n",
      "                                                                                                  \n",
      " average_pooling2d_3 (AveragePo  (None, 7, 7, 64)    0           ['max_pooling2d_1[0][0]']        \n",
      " oling2D)                                                                                         \n",
      "                                                                                                  \n",
      " conv2d_14 (Conv2D)             (None, 7, 7, 64)     4160        ['max_pooling2d_1[0][0]']        \n",
      "                                                                                                  \n",
      " conv2d_15 (Conv2D)             (None, 7, 7, 128)    73856       ['max_pooling2d_1[0][0]']        \n",
      "                                                                                                  \n",
      " conv2d_16 (Conv2D)             (None, 7, 7, 32)     51232       ['max_pooling2d_1[0][0]']        \n",
      "                                                                                                  \n",
      " conv2d_17 (Conv2D)             (None, 7, 7, 32)     2080        ['average_pooling2d_3[0][0]']    \n",
      "                                                                                                  \n",
      " concatenate_3 (Concatenate)    (None, 7, 7, 256)    0           ['conv2d_14[0][0]',              \n",
      "                                                                  'conv2d_15[0][0]',              \n",
      "                                                                  'conv2d_16[0][0]',              \n",
      "                                                                  'conv2d_17[0][0]']              \n",
      "                                                                                                  \n",
      " average_pooling2d_4 (AveragePo  (None, 7, 7, 256)   0           ['concatenate_3[0][0]']          \n",
      " oling2D)                                                                                         \n",
      "                                                                                                  \n",
      " conv2d_18 (Conv2D)             (None, 7, 7, 128)    32896       ['concatenate_3[0][0]']          \n",
      "                                                                                                  \n",
      " conv2d_19 (Conv2D)             (None, 7, 7, 192)    442560      ['concatenate_3[0][0]']          \n",
      "                                                                                                  \n",
      " conv2d_20 (Conv2D)             (None, 7, 7, 96)     614496      ['concatenate_3[0][0]']          \n",
      "                                                                                                  \n",
      " conv2d_21 (Conv2D)             (None, 7, 7, 64)     16448       ['average_pooling2d_4[0][0]']    \n",
      "                                                                                                  \n",
      " concatenate_4 (Concatenate)    (None, 7, 7, 480)    0           ['conv2d_18[0][0]',              \n",
      "                                                                  'conv2d_19[0][0]',              \n",
      "                                                                  'conv2d_20[0][0]',              \n",
      "                                                                  'conv2d_21[0][0]']              \n",
      "                                                                                                  \n",
      " average_pooling2d_5 (AveragePo  (None, 7, 7, 480)   0           ['concatenate_4[0][0]']          \n",
      " oling2D)                                                                                         \n",
      "                                                                                                  \n",
      " conv2d_22 (Conv2D)             (None, 7, 7, 192)    92352       ['concatenate_4[0][0]']          \n",
      "                                                                                                  \n",
      " conv2d_23 (Conv2D)             (None, 7, 7, 208)    898768      ['concatenate_4[0][0]']          \n",
      "                                                                                                  \n",
      " conv2d_24 (Conv2D)             (None, 7, 7, 128)    1536128     ['concatenate_4[0][0]']          \n",
      "                                                                                                  \n",
      " conv2d_25 (Conv2D)             (None, 7, 7, 64)     30784       ['average_pooling2d_5[0][0]']    \n",
      "                                                                                                  \n",
      " concatenate_5 (Concatenate)    (None, 7, 7, 592)    0           ['conv2d_22[0][0]',              \n",
      "                                                                  'conv2d_23[0][0]',              \n",
      "                                                                  'conv2d_24[0][0]',              \n",
      "                                                                  'conv2d_25[0][0]']              \n",
      "                                                                                                  \n",
      " global_average_pooling2d_1 (Gl  (None, 592)         0           ['concatenate_5[0][0]']          \n",
      " obalAveragePooling2D)                                                                            \n",
      "                                                                                                  \n",
      " dense_1 (Dense)                (None, 7)            4151        ['global_average_pooling2d_1[0][0\n",
      "                                                                 ]']                              \n",
      "                                                                                                  \n",
      "==================================================================================================\n",
      "Total params: 3,809,383\n",
      "Trainable params: 3,809,383\n",
      "Non-trainable params: 0\n",
      "__________________________________________________________________________________________________\n"
     ]
    }
   ],
   "source": [
    "# Set input shape and number of classes\n",
    "input_shape = (28, 28, 3)  # Example input shape, adjust based on your requirements\n",
    "num_classes = 7  # Adjust based on your classification task\n",
    "\n",
    "# Create the InceptionNet model\n",
    "model = muti_inception_model(input_shape, num_classes)\n",
    "\n",
    "# Compile the model\n",
    "model.compile(optimizer='adam', loss='categorical_crossentropy', metrics=['accuracy'])\n",
    "\n",
    "# Display the model summary\n",
    "model.summary()"
   ]
  },
  {
   "cell_type": "code",
   "execution_count": 19,
   "id": "674dcbb6",
   "metadata": {
    "papermill": {
     "duration": 1306.438779,
     "end_time": "2023-11-20T18:25:41.833059",
     "exception": false,
     "start_time": "2023-11-20T18:03:55.394280",
     "status": "completed"
    },
    "tags": []
   },
   "outputs": [
    {
     "name": "stdout",
     "output_type": "stream",
     "text": [
      "Epoch 1/50\n",
      "276/276 [==============================] - 14s 34ms/step - loss: 4.9860 - accuracy: 0.2989 - val_loss: 1.5035 - val_accuracy: 0.4052 - lr: 0.0010\n",
      "Epoch 2/50\n",
      "276/276 [==============================] - 8s 30ms/step - loss: 1.2847 - accuracy: 0.4907 - val_loss: 1.6147 - val_accuracy: 0.3469 - lr: 0.0010\n",
      "Epoch 3/50\n",
      "275/276 [============================>.] - ETA: 0s - loss: 1.0551 - accuracy: 0.5955\n",
      "Epoch 3: ReduceLROnPlateau reducing learning rate to 0.0005000000237487257.\n",
      "276/276 [==============================] - 8s 30ms/step - loss: 1.0551 - accuracy: 0.5955 - val_loss: 2.0899 - val_accuracy: 0.3716 - lr: 0.0010\n",
      "Epoch 4/50\n",
      "276/276 [==============================] - 8s 30ms/step - loss: 0.7542 - accuracy: 0.7226 - val_loss: 2.9814 - val_accuracy: 0.3915 - lr: 5.0000e-04\n",
      "Epoch 5/50\n",
      "276/276 [==============================] - 8s 31ms/step - loss: 0.9753 - accuracy: 0.6845 - val_loss: 0.7005 - val_accuracy: 0.7355 - lr: 5.0000e-04\n",
      "Epoch 6/50\n",
      "276/276 [==============================] - 8s 31ms/step - loss: 0.5465 - accuracy: 0.8048 - val_loss: 0.5311 - val_accuracy: 0.8134 - lr: 5.0000e-04\n",
      "Epoch 7/50\n",
      "276/276 [==============================] - 8s 31ms/step - loss: 0.4229 - accuracy: 0.8516 - val_loss: 0.4598 - val_accuracy: 0.8440 - lr: 5.0000e-04\n",
      "Epoch 8/50\n",
      "276/276 [==============================] - 8s 31ms/step - loss: 0.3479 - accuracy: 0.8800 - val_loss: 1.9373 - val_accuracy: 0.5255 - lr: 5.0000e-04\n",
      "Epoch 9/50\n",
      "276/276 [==============================] - 9s 31ms/step - loss: 0.3737 - accuracy: 0.8711 - val_loss: 0.3150 - val_accuracy: 0.8881 - lr: 5.0000e-04\n",
      "Epoch 10/50\n",
      "276/276 [==============================] - 9s 31ms/step - loss: 0.2301 - accuracy: 0.9224 - val_loss: 0.2376 - val_accuracy: 0.9221 - lr: 5.0000e-04\n",
      "Epoch 11/50\n",
      "276/276 [==============================] - 9s 31ms/step - loss: 0.2101 - accuracy: 0.9278 - val_loss: 0.2308 - val_accuracy: 0.9256 - lr: 5.0000e-04\n",
      "Epoch 12/50\n",
      "276/276 [==============================] - 9s 31ms/step - loss: 0.1590 - accuracy: 0.9491 - val_loss: 2.3570 - val_accuracy: 0.4929 - lr: 5.0000e-04\n",
      "Epoch 13/50\n",
      "275/276 [============================>.] - ETA: 0s - loss: 0.2241 - accuracy: 0.9293\n",
      "Epoch 13: ReduceLROnPlateau reducing learning rate to 0.0002500000118743628.\n",
      "276/276 [==============================] - 9s 31ms/step - loss: 0.2241 - accuracy: 0.9293 - val_loss: 0.2263 - val_accuracy: 0.9249 - lr: 5.0000e-04\n",
      "Epoch 14/50\n",
      "276/276 [==============================] - 9s 31ms/step - loss: 0.1007 - accuracy: 0.9703 - val_loss: 0.1392 - val_accuracy: 0.9553 - lr: 2.5000e-04\n",
      "Epoch 15/50\n",
      "276/276 [==============================] - 9s 31ms/step - loss: 0.0828 - accuracy: 0.9768 - val_loss: 0.1313 - val_accuracy: 0.9604 - lr: 2.5000e-04\n",
      "Epoch 16/50\n",
      "276/276 [==============================] - 9s 31ms/step - loss: 0.0718 - accuracy: 0.9805 - val_loss: 0.1396 - val_accuracy: 0.9577 - lr: 2.5000e-04\n",
      "Epoch 17/50\n",
      "275/276 [============================>.] - ETA: 0s - loss: 0.0645 - accuracy: 0.9826\n",
      "Epoch 17: ReduceLROnPlateau reducing learning rate to 0.0001250000059371814.\n",
      "276/276 [==============================] - 9s 31ms/step - loss: 0.0645 - accuracy: 0.9826 - val_loss: 0.2348 - val_accuracy: 0.9322 - lr: 2.5000e-04\n",
      "Epoch 18/50\n",
      "276/276 [==============================] - 9s 31ms/step - loss: 0.0609 - accuracy: 0.9839 - val_loss: 0.1026 - val_accuracy: 0.9695 - lr: 1.2500e-04\n",
      "Epoch 19/50\n",
      "276/276 [==============================] - 9s 31ms/step - loss: 0.0415 - accuracy: 0.9910 - val_loss: 0.0949 - val_accuracy: 0.9740 - lr: 1.2500e-04\n",
      "Epoch 20/50\n",
      "276/276 [==============================] - 9s 32ms/step - loss: 0.0373 - accuracy: 0.9924 - val_loss: 0.0922 - val_accuracy: 0.9752 - lr: 1.2500e-04\n",
      "Epoch 21/50\n",
      "276/276 [==============================] - 9s 32ms/step - loss: 0.0336 - accuracy: 0.9930 - val_loss: 0.0947 - val_accuracy: 0.9726 - lr: 1.2500e-04\n",
      "Epoch 22/50\n",
      "274/276 [============================>.] - ETA: 0s - loss: 0.0305 - accuracy: 0.9938\n",
      "Epoch 22: ReduceLROnPlateau reducing learning rate to 6.25000029685907e-05.\n",
      "276/276 [==============================] - 9s 32ms/step - loss: 0.0305 - accuracy: 0.9939 - val_loss: 0.0940 - val_accuracy: 0.9749 - lr: 1.2500e-04\n",
      "Epoch 23/50\n",
      "276/276 [==============================] - 9s 32ms/step - loss: 0.0237 - accuracy: 0.9966 - val_loss: 0.0852 - val_accuracy: 0.9764 - lr: 6.2500e-05\n",
      "Epoch 24/50\n",
      "276/276 [==============================] - 9s 32ms/step - loss: 0.0212 - accuracy: 0.9972 - val_loss: 0.0897 - val_accuracy: 0.9759 - lr: 6.2500e-05\n",
      "Epoch 25/50\n",
      "276/276 [==============================] - 9s 32ms/step - loss: 0.0202 - accuracy: 0.9973 - val_loss: 0.0830 - val_accuracy: 0.9788 - lr: 6.2500e-05\n",
      "Epoch 26/50\n",
      "276/276 [==============================] - 9s 31ms/step - loss: 0.0189 - accuracy: 0.9978 - val_loss: 0.0848 - val_accuracy: 0.9790 - lr: 6.2500e-05\n",
      "Epoch 27/50\n",
      "276/276 [==============================] - 9s 32ms/step - loss: 0.0179 - accuracy: 0.9981 - val_loss: 0.0924 - val_accuracy: 0.9743 - lr: 6.2500e-05\n",
      "Epoch 28/50\n",
      "275/276 [============================>.] - ETA: 0s - loss: 0.0174 - accuracy: 0.9979\n",
      "Epoch 28: ReduceLROnPlateau reducing learning rate to 3.125000148429535e-05.\n",
      "276/276 [==============================] - 9s 32ms/step - loss: 0.0174 - accuracy: 0.9979 - val_loss: 0.0850 - val_accuracy: 0.9790 - lr: 6.2500e-05\n",
      "Epoch 29/50\n",
      "276/276 [==============================] - 9s 32ms/step - loss: 0.0133 - accuracy: 0.9993 - val_loss: 0.0835 - val_accuracy: 0.9788 - lr: 3.1250e-05\n",
      "Epoch 30/50\n",
      "275/276 [============================>.] - ETA: 0s - loss: 0.0125 - accuracy: 0.9991\n",
      "Epoch 30: ReduceLROnPlateau reducing learning rate to 1.5625000742147677e-05.\n",
      "276/276 [==============================] - 9s 32ms/step - loss: 0.0125 - accuracy: 0.9991 - val_loss: 0.0816 - val_accuracy: 0.9790 - lr: 3.1250e-05\n",
      "Epoch 31/50\n",
      "276/276 [==============================] - 9s 32ms/step - loss: 0.0112 - accuracy: 0.9995 - val_loss: 0.0863 - val_accuracy: 0.9775 - lr: 1.5625e-05\n",
      "Epoch 32/50\n",
      "275/276 [============================>.] - ETA: 0s - loss: 0.0110 - accuracy: 0.9996\n",
      "Epoch 32: ReduceLROnPlateau reducing learning rate to 1e-05.\n",
      "276/276 [==============================] - 9s 33ms/step - loss: 0.0110 - accuracy: 0.9996 - val_loss: 0.0838 - val_accuracy: 0.9787 - lr: 1.5625e-05\n",
      "Epoch 33/50\n",
      "276/276 [==============================] - 9s 32ms/step - loss: 0.0103 - accuracy: 0.9996 - val_loss: 0.0809 - val_accuracy: 0.9802 - lr: 1.0000e-05\n",
      "Epoch 34/50\n",
      "276/276 [==============================] - 9s 32ms/step - loss: 0.0101 - accuracy: 0.9996 - val_loss: 0.0846 - val_accuracy: 0.9790 - lr: 1.0000e-05\n",
      "Epoch 35/50\n",
      "276/276 [==============================] - 9s 32ms/step - loss: 0.0100 - accuracy: 0.9996 - val_loss: 0.0821 - val_accuracy: 0.9794 - lr: 1.0000e-05\n",
      "Epoch 36/50\n",
      "276/276 [==============================] - 9s 32ms/step - loss: 0.0097 - accuracy: 0.9996 - val_loss: 0.0846 - val_accuracy: 0.9786 - lr: 1.0000e-05\n",
      "Epoch 37/50\n",
      "276/276 [==============================] - 9s 32ms/step - loss: 0.0095 - accuracy: 0.9997 - val_loss: 0.0830 - val_accuracy: 0.9790 - lr: 1.0000e-05\n",
      "Epoch 38/50\n",
      "276/276 [==============================] - 9s 32ms/step - loss: 0.0092 - accuracy: 0.9997 - val_loss: 0.0864 - val_accuracy: 0.9784 - lr: 1.0000e-05\n",
      "Epoch 39/50\n",
      "276/276 [==============================] - 9s 32ms/step - loss: 0.0089 - accuracy: 0.9997 - val_loss: 0.0822 - val_accuracy: 0.9793 - lr: 1.0000e-05\n",
      "Epoch 40/50\n",
      "276/276 [==============================] - 9s 32ms/step - loss: 0.0086 - accuracy: 0.9998 - val_loss: 0.0826 - val_accuracy: 0.9798 - lr: 1.0000e-05\n",
      "Epoch 41/50\n",
      "276/276 [==============================] - 9s 32ms/step - loss: 0.0085 - accuracy: 0.9997 - val_loss: 0.0878 - val_accuracy: 0.9778 - lr: 1.0000e-05\n",
      "Epoch 42/50\n",
      "276/276 [==============================] - 9s 32ms/step - loss: 0.0082 - accuracy: 0.9998 - val_loss: 0.0851 - val_accuracy: 0.9790 - lr: 1.0000e-05\n",
      "Epoch 43/50\n",
      "276/276 [==============================] - 9s 32ms/step - loss: 0.0079 - accuracy: 0.9998 - val_loss: 0.0879 - val_accuracy: 0.9780 - lr: 1.0000e-05\n",
      "Epoch 44/50\n",
      "276/276 [==============================] - 9s 32ms/step - loss: 0.0077 - accuracy: 0.9998 - val_loss: 0.0793 - val_accuracy: 0.9813 - lr: 1.0000e-05\n",
      "Epoch 45/50\n",
      "276/276 [==============================] - 9s 32ms/step - loss: 0.0074 - accuracy: 0.9999 - val_loss: 0.0891 - val_accuracy: 0.9778 - lr: 1.0000e-05\n",
      "Epoch 46/50\n",
      "276/276 [==============================] - 9s 32ms/step - loss: 0.0075 - accuracy: 0.9997 - val_loss: 0.0864 - val_accuracy: 0.9791 - lr: 1.0000e-05\n",
      "Epoch 47/50\n",
      "276/276 [==============================] - 9s 31ms/step - loss: 0.0069 - accuracy: 0.9999 - val_loss: 0.0880 - val_accuracy: 0.9784 - lr: 1.0000e-05\n",
      "Epoch 48/50\n",
      "276/276 [==============================] - 9s 31ms/step - loss: 0.0067 - accuracy: 0.9999 - val_loss: 0.0893 - val_accuracy: 0.9784 - lr: 1.0000e-05\n",
      "Epoch 49/50\n",
      "276/276 [==============================] - 9s 31ms/step - loss: 0.0069 - accuracy: 0.9998 - val_loss: 0.0863 - val_accuracy: 0.9790 - lr: 1.0000e-05\n",
      "Epoch 50/50\n",
      "276/276 [==============================] - 9s 31ms/step - loss: 0.0062 - accuracy: 0.9999 - val_loss: 0.0847 - val_accuracy: 0.9800 - lr: 1.0000e-05\n"
     ]
    }
   ],
   "source": [
    "history = model.fit(X_train ,\n",
    "                    y_train ,\n",
    "                    epochs=50 ,\n",
    "                    batch_size=128,\n",
    "                    validation_data=(X_test , y_test) ,\n",
    "                    callbacks=[learning_rate_reduction])"
   ]
  },
  {
   "cell_type": "code",
   "execution_count": 20,
   "id": "8a9c5503",
   "metadata": {
    "papermill": {
     "duration": 0.293671,
     "end_time": "2023-11-20T18:25:42.393925",
     "exception": false,
     "start_time": "2023-11-20T18:25:42.100254",
     "status": "completed"
    },
    "tags": []
   },
   "outputs": [],
   "source": [
    "def plot_training(hist):\n",
    "    tr_acc = hist.history['accuracy']\n",
    "    tr_loss = hist.history['loss']\n",
    "    val_acc = hist.history['val_accuracy']\n",
    "    val_loss = hist.history['val_loss']\n",
    "    index_loss = np.argmin(val_loss)\n",
    "    val_lowest = val_loss[index_loss]\n",
    "    index_acc = np.argmax(val_acc)\n",
    "    acc_highest = val_acc[index_acc]\n",
    "\n",
    "    plt.figure(figsize= (20, 8))\n",
    "    plt.style.use('fivethirtyeight')\n",
    "    Epochs = [i+1 for i in range(len(tr_acc))]\n",
    "    loss_label = f'best epoch= {str(index_loss + 1)}'\n",
    "    acc_label = f'best epoch= {str(index_acc + 1)}'\n",
    "    \n",
    "    plt.subplot(1, 2, 1)\n",
    "    plt.plot(Epochs, tr_loss, 'r', label= 'Training loss')\n",
    "    plt.plot(Epochs, val_loss, 'g', label= 'Validation loss')\n",
    "    plt.scatter(index_loss + 1, val_lowest, s= 150, c= 'blue', label= loss_label)\n",
    "    plt.title('Training and Validation Loss')\n",
    "    plt.xlabel('Epochs')\n",
    "    plt.ylabel('Loss')\n",
    "    plt.legend()\n",
    "    \n",
    "    plt.subplot(1, 2, 2)\n",
    "    plt.plot(Epochs, tr_acc, 'r', label= 'Training Accuracy')\n",
    "    plt.plot(Epochs, val_acc, 'g', label= 'Validation Accuracy')\n",
    "    plt.scatter(index_acc + 1 , acc_highest, s= 150, c= 'blue', label= acc_label)\n",
    "    plt.title('Training and Validation Accuracy')\n",
    "    plt.xlabel('Epochs')\n",
    "    plt.ylabel('Accuracy')\n",
    "    plt.legend()\n",
    "    \n",
    "    plt.tight_layout\n",
    "    plt.show()"
   ]
  },
  {
   "cell_type": "code",
   "execution_count": 21,
   "id": "0dba96f3",
   "metadata": {
    "papermill": {
     "duration": 1.187868,
     "end_time": "2023-11-20T18:25:43.847692",
     "exception": false,
     "start_time": "2023-11-20T18:25:42.659824",
     "status": "completed"
    },
    "tags": []
   },
   "outputs": [
    {
     "data": {
      "image/png": "[encoded data removed]",
      "text/plain": [
       "<Figure size 2000x800 with 2 Axes>"
      ]
     },
     "metadata": {},
     "output_type": "display_data"
    }
   ],
   "source": [
    "plot_training(history)"
   ]
  },
  {
   "cell_type": "code",
   "execution_count": 22,
   "id": "da07c753",
   "metadata": {
    "papermill": {
     "duration": 41.464997,
     "end_time": "2023-11-20T18:26:25.656002",
     "exception": false,
     "start_time": "2023-11-20T18:25:44.191005",
     "status": "completed"
    },
    "tags": []
   },
   "outputs": [
    {
     "name": "stdout",
     "output_type": "stream",
     "text": [
      "1101/1101 [==============================] - 6s 5ms/step - loss: 0.0058 - accuracy: 0.9999\n",
      "367/367 [==============================] - 2s 6ms/step - loss: 0.0847 - accuracy: 0.9799\n",
      "Train Loss:  0.005846873391419649\n",
      "Train Accuracy:  0.999943196773529\n",
      "--------------------\n",
      "Test Loss:  0.08467131108045578\n",
      "Test Accuracy:  0.9798874855041504\n"
     ]
    }
   ],
   "source": [
    "train_score = model.evaluate(X_train, y_train, verbose= 1)\n",
    "test_score = model.evaluate(X_test, y_test, verbose= 1)\n",
    "\n",
    "print(\"Train Loss: \", train_score[0])\n",
    "print(\"Train Accuracy: \", train_score[1])\n",
    "print('-' * 20)\n",
    "print(\"Test Loss: \", test_score[0])\n",
    "print(\"Test Accuracy: \", test_score[1])"
   ]
  },
  {
   "cell_type": "code",
   "execution_count": 23,
   "id": "7fa5e0da",
   "metadata": {
    "papermill": {
     "duration": 11.319973,
     "end_time": "2023-11-20T18:26:37.315854",
     "exception": false,
     "start_time": "2023-11-20T18:26:25.995881",
     "status": "completed"
    },
    "tags": []
   },
   "outputs": [
    {
     "name": "stdout",
     "output_type": "stream",
     "text": [
      "367/367 [==============================] - 2s 4ms/step\n"
     ]
    }
   ],
   "source": [
    "y_true = np.array(y_test)\n",
    "y_pred = model.predict(X_test)\n",
    "\n",
    "y_pred = np.argmax(y_pred , axis=1)\n",
    "y_true = np.argmax(y_true , axis=1)"
   ]
  },
  {
   "cell_type": "code",
   "execution_count": 24,
   "id": "2b21ad8c",
   "metadata": {
    "papermill": {
     "duration": 0.371808,
     "end_time": "2023-11-20T18:26:38.052179",
     "exception": false,
     "start_time": "2023-11-20T18:26:37.680371",
     "status": "completed"
    },
    "tags": []
   },
   "outputs": [
    {
     "name": "stdout",
     "output_type": "stream",
     "text": [
      "[4, 6, 2, 1, 5, 0, 3]\n"
     ]
    }
   ],
   "source": [
    "classes_labels = []\n",
    "for key in classes.keys():\n",
    "    classes_labels.append(key)\n",
    "\n",
    "print(classes_labels)"
   ]
  },
  {
   "cell_type": "code",
   "execution_count": 25,
   "id": "142a04b7",
   "metadata": {
    "papermill": {
     "duration": 1.150624,
     "end_time": "2023-11-20T18:26:39.559413",
     "exception": false,
     "start_time": "2023-11-20T18:26:38.408789",
     "status": "completed"
    },
    "tags": []
   },
   "outputs": [
    {
     "data": {
      "image/png": "[encoded data removed]",
      "text/plain": [
       "<Figure size 1000x1000 with 2 Axes>"
      ]
     },
     "metadata": {},
     "output_type": "display_data"
    }
   ],
   "source": [
    "cm = cm = confusion_matrix(y_true, y_pred, labels=classes_labels)\n",
    "\n",
    "plt.figure(figsize= (10, 10))\n",
    "plt.imshow(cm, interpolation= 'nearest', cmap= plt.cm.Blues)\n",
    "plt.title('Confusion Matrix')\n",
    "plt.colorbar()\n",
    "\n",
    "tick_marks = np.arange(len(classes))\n",
    "plt.xticks(tick_marks, classes, rotation= 45)\n",
    "plt.yticks(tick_marks, classes)\n",
    "\n",
    "\n",
    "thresh = cm.max() / 2.\n",
    "for i, j in itertools.product(range(cm.shape[0]), range(cm.shape[1])):\n",
    "    plt.text(j, i, cm[i, j], horizontalalignment= 'center', color= 'white' if cm[i, j] > thresh else 'black')\n",
    "\n",
    "plt.tight_layout()\n",
    "plt.ylabel('True Label')\n",
    "plt.xlabel('Predicted Label')\n",
    "\n",
    "plt.show()"
   ]
  },
  {
   "cell_type": "code",
   "execution_count": null,
   "id": "3060744f",
   "metadata": {
    "papermill": {
     "duration": 0.596684,
     "end_time": "2023-11-20T18:26:40.514687",
     "exception": false,
     "start_time": "2023-11-20T18:26:39.918003",
     "status": "completed"
    },
    "tags": []
   },
   "outputs": [],
   "source": [
    "#model.save('Skin Cancer.h5')"
   ]
  },
  {
   "cell_type": "code",
   "execution_count": 26,
   "id": "ccb32b2b",
   "metadata": {
    "papermill": {
     "duration": 0.364649,
     "end_time": "2023-11-20T18:26:41.240370",
     "exception": false,
     "start_time": "2023-11-20T18:26:40.875721",
     "status": "completed"
    },
    "tags": []
   },
   "outputs": [
    {
     "data": {
      "text/plain": [
       "19132"
      ]
     },
     "execution_count": 26,
     "metadata": {},
     "output_type": "execute_result"
    }
   ],
   "source": [
    "from keras import backend as K\n",
    "import gc\n",
    "\n",
    "del model\n",
    "\n",
    "K.clear_session()\n",
    "gc.collect()"
   ]
  },
  {
   "cell_type": "code",
   "execution_count": 27,
   "id": "e69c41e1-5797-460e-af7e-cf2708253f6b",
   "metadata": {},
   "outputs": [],
   "source": [
    "#You need to install numba using 'pip install numba'\n",
    "\n",
    "from numba import cuda\n",
    "\n",
    "cuda.select_device(0)\n",
    "cuda.close()"
   ]
  },
  {
   "cell_type": "code",
   "execution_count": null,
   "id": "2146f6f1-18f4-48a4-a7b0-5d859c69c073",
   "metadata": {},
   "outputs": [],
   "source": []
  }
 ],
 "metadata": {
  "kaggle": {
   "accelerator": "none",
   "dataSources": [
    {
     "datasetId": 54339,
     "sourceId": 104884,
     "sourceType": "datasetVersion"
    }
   ],
   "dockerImageVersionId": 30558,
   "isGpuEnabled": false,
   "isInternetEnabled": true,
   "language": "python",
   "sourceType": "notebook"
  },
  "kernelspec": {
   "display_name": "Python 3 (ipykernel)",
   "language": "python",
   "name": "python3"
  },
  "language_info": {
   "codemirror_mode": {
    "name": "ipython",
    "version": 3
   },
   "file_extension": ".py",
   "mimetype": "text/x-python",
   "name": "python",
   "nbconvert_exporter": "python",
   "pygments_lexer": "ipython3",
   "version": "3.9.7"
  },
  "papermill": {
   "default_parameters": {},
   "duration": 1400.093646,
   "end_time": "2023-11-20T18:26:44.411951",
   "environment_variables": {},
   "exception": null,
   "input_path": "__notebook__.ipynb",
   "output_path": "__notebook__.ipynb",
   "parameters": {},
   "start_time": "2023-11-20T18:03:24.318305",
   "version": "2.4.0"
  }
 },
 "nbformat": 4,
 "nbformat_minor": 5
}
