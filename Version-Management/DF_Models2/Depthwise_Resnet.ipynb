{
 "cells": [
  {
   "cell_type": "code",
   "execution_count": 1,
   "id": "59dc3f32",
   "metadata": {
    "_cell_guid": "b1076dfc-b9ad-4769-8c92-a6c4dae69d19",
    "_uuid": "8f2839f25d086af736a60e9eeb907d3b93b6e0e5",
    "papermill": {
     "duration": 0.019523,
     "end_time": "2023-11-20T18:03:28.972064",
     "exception": false,
     "start_time": "2023-11-20T18:03:28.952541",
     "status": "completed"
    },
    "tags": []
   },
   "outputs": [],
   "source": [
    "# # This Python 3 environment comes with many helpful analytics libraries installed\n",
    "# # It is defined by the kaggle/python Docker image: https://github.com/kaggle/docker-python\n",
    "# # For example, here's several helpful packages to load\n",
    "\n",
    "# import numpy as np # linear algebra\n",
    "# import pandas as pd # data processing, CSV file I/O (e.g. pd.read_csv)\n",
    "\n",
    "# # Input data files are available in the read-only \"../input/\" directory\n",
    "# # For example, running this (by clicking run or pressing Shift+Enter) will list all files under the input directory\n",
    "\n",
    "# import os\n",
    "# for dirname, _, filenames in os.walk('/kaggle/input'):\n",
    "#     for filename in filenames:\n",
    "#         print(os.path.join(dirname, filename))\n",
    "\n",
    "# # You can write up to 20GB to the current directory (/kaggle/working/) that gets preserved as output when you create a version using \"Save & Run All\" \n",
    "# # You can also write temporary files to /kaggle/temp/, but they won't be saved outside of the current session"
   ]
  },
  {
   "cell_type": "code",
   "execution_count": 2,
   "id": "52f0cc78",
   "metadata": {
    "papermill": {
     "duration": 13.777656,
     "end_time": "2023-11-20T18:03:42.758467",
     "exception": false,
     "start_time": "2023-11-20T18:03:28.980811",
     "status": "completed"
    },
    "tags": []
   },
   "outputs": [
    {
     "name": "stdout",
     "output_type": "stream",
     "text": [
      "modules loaded\n"
     ]
    }
   ],
   "source": [
    "import os\n",
    "import time\n",
    "import shutil\n",
    "import itertools\n",
    "\n",
    "# import data handling tools \n",
    "import cv2\n",
    "import numpy as np\n",
    "import pandas as pd\n",
    "import seaborn as sns\n",
    "sns.set_style('darkgrid')\n",
    "import matplotlib.pyplot as plt\n",
    "# import Deep learning Libraries\n",
    "import tensorflow as tf\n",
    "from tensorflow import keras\n",
    "from tensorflow.keras.layers import Conv2D, MaxPooling2D, Flatten, Dense, Activation, Dropout, BatchNormalization\n",
    "from tensorflow.keras.models import Model, load_model, Sequential\n",
    "from tensorflow.keras.preprocessing.image import ImageDataGenerator\n",
    "from sklearn.metrics import confusion_matrix, classification_report\n",
    "from sklearn.model_selection import train_test_split\n",
    "from tensorflow.keras.optimizers import Adam, Adamax\n",
    "from tensorflow.keras import regularizers\n",
    "from tensorflow.keras.metrics import categorical_crossentropy\n",
    "\n",
    "# Ignore Warnings\n",
    "import warnings\n",
    "warnings.filterwarnings(\"ignore\")\n",
    "\n",
    "print ('modules loaded')"
   ]
  },
  {
   "cell_type": "code",
   "execution_count": 3,
   "id": "f796a06c",
   "metadata": {
    "papermill": {
     "duration": 5.498143,
     "end_time": "2023-11-20T18:03:48.265269",
     "exception": false,
     "start_time": "2023-11-20T18:03:42.767126",
     "status": "completed"
    },
    "tags": []
   },
   "outputs": [
    {
     "data": {
      "text/html": [
       "<div>\n",
       "<style scoped>\n",
       "    .dataframe tbody tr th:only-of-type {\n",
       "        vertical-align: middle;\n",
       "    }\n",
       "\n",
       "    .dataframe tbody tr th {\n",
       "        vertical-align: top;\n",
       "    }\n",
       "\n",
       "    .dataframe thead th {\n",
       "        text-align: right;\n",
       "    }\n",
       "</style>\n",
       "<table border=\"1\" class=\"dataframe\">\n",
       "  <thead>\n",
       "    <tr style=\"text-align: right;\">\n",
       "      <th></th>\n",
       "      <th>pixel0000</th>\n",
       "      <th>pixel0001</th>\n",
       "      <th>pixel0002</th>\n",
       "      <th>pixel0003</th>\n",
       "      <th>pixel0004</th>\n",
       "      <th>pixel0005</th>\n",
       "      <th>pixel0006</th>\n",
       "      <th>pixel0007</th>\n",
       "      <th>pixel0008</th>\n",
       "      <th>pixel0009</th>\n",
       "      <th>...</th>\n",
       "      <th>pixel2343</th>\n",
       "      <th>pixel2344</th>\n",
       "      <th>pixel2345</th>\n",
       "      <th>pixel2346</th>\n",
       "      <th>pixel2347</th>\n",
       "      <th>pixel2348</th>\n",
       "      <th>pixel2349</th>\n",
       "      <th>pixel2350</th>\n",
       "      <th>pixel2351</th>\n",
       "      <th>label</th>\n",
       "    </tr>\n",
       "  </thead>\n",
       "  <tbody>\n",
       "    <tr>\n",
       "      <th>0</th>\n",
       "      <td>192</td>\n",
       "      <td>153</td>\n",
       "      <td>193</td>\n",
       "      <td>195</td>\n",
       "      <td>155</td>\n",
       "      <td>192</td>\n",
       "      <td>197</td>\n",
       "      <td>154</td>\n",
       "      <td>185</td>\n",
       "      <td>202</td>\n",
       "      <td>...</td>\n",
       "      <td>173</td>\n",
       "      <td>124</td>\n",
       "      <td>138</td>\n",
       "      <td>183</td>\n",
       "      <td>147</td>\n",
       "      <td>166</td>\n",
       "      <td>185</td>\n",
       "      <td>154</td>\n",
       "      <td>177</td>\n",
       "      <td>2</td>\n",
       "    </tr>\n",
       "    <tr>\n",
       "      <th>1</th>\n",
       "      <td>25</td>\n",
       "      <td>14</td>\n",
       "      <td>30</td>\n",
       "      <td>68</td>\n",
       "      <td>48</td>\n",
       "      <td>75</td>\n",
       "      <td>123</td>\n",
       "      <td>93</td>\n",
       "      <td>126</td>\n",
       "      <td>158</td>\n",
       "      <td>...</td>\n",
       "      <td>60</td>\n",
       "      <td>39</td>\n",
       "      <td>55</td>\n",
       "      <td>25</td>\n",
       "      <td>14</td>\n",
       "      <td>28</td>\n",
       "      <td>25</td>\n",
       "      <td>14</td>\n",
       "      <td>27</td>\n",
       "      <td>2</td>\n",
       "    </tr>\n",
       "    <tr>\n",
       "      <th>2</th>\n",
       "      <td>192</td>\n",
       "      <td>138</td>\n",
       "      <td>153</td>\n",
       "      <td>200</td>\n",
       "      <td>145</td>\n",
       "      <td>163</td>\n",
       "      <td>201</td>\n",
       "      <td>142</td>\n",
       "      <td>160</td>\n",
       "      <td>206</td>\n",
       "      <td>...</td>\n",
       "      <td>167</td>\n",
       "      <td>129</td>\n",
       "      <td>143</td>\n",
       "      <td>159</td>\n",
       "      <td>124</td>\n",
       "      <td>142</td>\n",
       "      <td>136</td>\n",
       "      <td>104</td>\n",
       "      <td>117</td>\n",
       "      <td>2</td>\n",
       "    </tr>\n",
       "    <tr>\n",
       "      <th>3</th>\n",
       "      <td>38</td>\n",
       "      <td>19</td>\n",
       "      <td>30</td>\n",
       "      <td>95</td>\n",
       "      <td>59</td>\n",
       "      <td>72</td>\n",
       "      <td>143</td>\n",
       "      <td>103</td>\n",
       "      <td>119</td>\n",
       "      <td>171</td>\n",
       "      <td>...</td>\n",
       "      <td>44</td>\n",
       "      <td>26</td>\n",
       "      <td>36</td>\n",
       "      <td>25</td>\n",
       "      <td>12</td>\n",
       "      <td>17</td>\n",
       "      <td>25</td>\n",
       "      <td>12</td>\n",
       "      <td>15</td>\n",
       "      <td>2</td>\n",
       "    </tr>\n",
       "    <tr>\n",
       "      <th>4</th>\n",
       "      <td>158</td>\n",
       "      <td>113</td>\n",
       "      <td>139</td>\n",
       "      <td>194</td>\n",
       "      <td>144</td>\n",
       "      <td>174</td>\n",
       "      <td>215</td>\n",
       "      <td>162</td>\n",
       "      <td>191</td>\n",
       "      <td>225</td>\n",
       "      <td>...</td>\n",
       "      <td>209</td>\n",
       "      <td>166</td>\n",
       "      <td>185</td>\n",
       "      <td>172</td>\n",
       "      <td>135</td>\n",
       "      <td>149</td>\n",
       "      <td>109</td>\n",
       "      <td>78</td>\n",
       "      <td>92</td>\n",
       "      <td>2</td>\n",
       "    </tr>\n",
       "  </tbody>\n",
       "</table>\n",
       "<p>5 rows × 2353 columns</p>\n",
       "</div>"
      ],
      "text/plain": [
       "   pixel0000  pixel0001  pixel0002  pixel0003  pixel0004  pixel0005  \\\n",
       "0        192        153        193        195        155        192   \n",
       "1         25         14         30         68         48         75   \n",
       "2        192        138        153        200        145        163   \n",
       "3         38         19         30         95         59         72   \n",
       "4        158        113        139        194        144        174   \n",
       "\n",
       "   pixel0006  pixel0007  pixel0008  pixel0009  ...  pixel2343  pixel2344  \\\n",
       "0        197        154        185        202  ...        173        124   \n",
       "1        123         93        126        158  ...         60         39   \n",
       "2        201        142        160        206  ...        167        129   \n",
       "3        143        103        119        171  ...         44         26   \n",
       "4        215        162        191        225  ...        209        166   \n",
       "\n",
       "   pixel2345  pixel2346  pixel2347  pixel2348  pixel2349  pixel2350  \\\n",
       "0        138        183        147        166        185        154   \n",
       "1         55         25         14         28         25         14   \n",
       "2        143        159        124        142        136        104   \n",
       "3         36         25         12         17         25         12   \n",
       "4        185        172        135        149        109         78   \n",
       "\n",
       "   pixel2351  label  \n",
       "0        177      2  \n",
       "1         27      2  \n",
       "2        117      2  \n",
       "3         15      2  \n",
       "4         92      2  \n",
       "\n",
       "[5 rows x 2353 columns]"
      ]
     },
     "execution_count": 3,
     "metadata": {},
     "output_type": "execute_result"
    }
   ],
   "source": [
    "data_dir = r'F:\\MV\\Dataset\\HAM1000\\hmnist_28_28_RGB.csv'\n",
    "data = pd.read_csv(data_dir)\n",
    "data.head()"
   ]
  },
  {
   "cell_type": "code",
   "execution_count": 4,
   "id": "2ac3419f-5789-457a-a995-50a807ea7aed",
   "metadata": {},
   "outputs": [
    {
     "name": "stdout",
     "output_type": "stream",
     "text": [
      "<class 'pandas.core.frame.DataFrame'>\n",
      "RangeIndex: 10015 entries, 0 to 10014\n",
      "Columns: 2353 entries, pixel0000 to label\n",
      "dtypes: int64(2353)\n",
      "memory usage: 179.8 MB\n"
     ]
    }
   ],
   "source": [
    "data.info()"
   ]
  },
  {
   "cell_type": "code",
   "execution_count": 5,
   "id": "b0adcb8d",
   "metadata": {
    "papermill": {
     "duration": 0.110948,
     "end_time": "2023-11-20T18:03:48.385458",
     "exception": false,
     "start_time": "2023-11-20T18:03:48.274510",
     "status": "completed"
    },
    "tags": []
   },
   "outputs": [],
   "source": [
    "Label = data[\"label\"]\n",
    "Data = data.drop(columns=[\"label\"])"
   ]
  },
  {
   "cell_type": "code",
   "execution_count": 6,
   "id": "c779c31b",
   "metadata": {
    "papermill": {
     "duration": 0.025722,
     "end_time": "2023-11-20T18:03:48.420456",
     "exception": false,
     "start_time": "2023-11-20T18:03:48.394734",
     "status": "completed"
    },
    "tags": []
   },
   "outputs": [
    {
     "data": {
      "text/plain": [
       "label\n",
       "4    6705\n",
       "6    1113\n",
       "2    1099\n",
       "1     514\n",
       "0     327\n",
       "5     142\n",
       "3     115\n",
       "Name: count, dtype: int64"
      ]
     },
     "execution_count": 6,
     "metadata": {},
     "output_type": "execute_result"
    }
   ],
   "source": [
    "data[\"label\"].value_counts()"
   ]
  },
  {
   "cell_type": "code",
   "execution_count": 7,
   "id": "7d4aeb34",
   "metadata": {
    "papermill": {
     "duration": 3.928484,
     "end_time": "2023-11-20T18:03:52.357791",
     "exception": false,
     "start_time": "2023-11-20T18:03:48.429307",
     "status": "completed"
    },
    "tags": []
   },
   "outputs": [
    {
     "name": "stdout",
     "output_type": "stream",
     "text": [
      "Shape of Data : (46935, 28, 28, 3)\n"
     ]
    }
   ],
   "source": [
    "from imblearn.over_sampling import RandomOverSampler \n",
    "\n",
    "oversample = RandomOverSampler()\n",
    "Data, Label  = oversample.fit_resample(Data, Label)\n",
    "Data = np.array(Data).reshape(-1, 28, 28, 3)\n",
    "print('Shape of Data :', Data.shape)"
   ]
  },
  {
   "cell_type": "code",
   "execution_count": 8,
   "id": "50e90ae8",
   "metadata": {
    "papermill": {
     "duration": 0.021587,
     "end_time": "2023-11-20T18:03:52.388539",
     "exception": false,
     "start_time": "2023-11-20T18:03:52.366952",
     "status": "completed"
    },
    "tags": []
   },
   "outputs": [
    {
     "data": {
      "text/plain": [
       "array([2, 2, 2, ..., 6, 6, 6], dtype=int64)"
      ]
     },
     "execution_count": 8,
     "metadata": {},
     "output_type": "execute_result"
    }
   ],
   "source": [
    "Label = np.array(Label)\n",
    "Label"
   ]
  },
  {
   "cell_type": "code",
   "execution_count": 9,
   "id": "8e518cb6",
   "metadata": {
    "papermill": {
     "duration": 0.020228,
     "end_time": "2023-11-20T18:03:52.418121",
     "exception": false,
     "start_time": "2023-11-20T18:03:52.397893",
     "status": "completed"
    },
    "tags": []
   },
   "outputs": [],
   "source": [
    "classes = {4: ('nv', ' melanocytic nevi'),\n",
    "           6: ('mel', 'melanoma'),\n",
    "           2: ('bkl', 'benign keratosis-like lesions'), \n",
    "           1:('bcc' , ' basal cell carcinoma'),\n",
    "           5: ('vasc', ' pyogenic granulomas and hemorrhage'),\n",
    "           0: ('akiec', 'Actinic keratoses and intraepithelial carcinomae'),\n",
    "           3: ('df', 'dermatofibroma')}"
   ]
  },
  {
   "cell_type": "code",
   "execution_count": 10,
   "id": "9f16b6f8",
   "metadata": {
    "papermill": {
     "duration": 1.926467,
     "end_time": "2023-11-20T18:03:54.353943",
     "exception": false,
     "start_time": "2023-11-20T18:03:52.427476",
     "status": "completed"
    },
    "tags": []
   },
   "outputs": [],
   "source": [
    "from sklearn.model_selection import train_test_split\n",
    "\n",
    "X_train , X_test , y_train , y_test = train_test_split(Data , Label , test_size = 0.25 , random_state = 49)"
   ]
  },
  {
   "cell_type": "code",
   "execution_count": 11,
   "id": "425987e9",
   "metadata": {
    "papermill": {
     "duration": 0.020381,
     "end_time": "2023-11-20T18:03:54.384326",
     "exception": false,
     "start_time": "2023-11-20T18:03:54.363945",
     "status": "completed"
    },
    "tags": []
   },
   "outputs": [
    {
     "name": "stdout",
     "output_type": "stream",
     "text": [
      "(35201, 28, 28, 3)\n",
      "(35201,)\n",
      "(11734, 28, 28, 3)\n",
      "(11734,)\n"
     ]
    }
   ],
   "source": [
    "print(X_train.shape)\n",
    "print(y_train.shape)\n",
    "print(X_test.shape)\n",
    "print(y_test.shape)"
   ]
  },
  {
   "cell_type": "code",
   "execution_count": 12,
   "id": "09ae56d1",
   "metadata": {
    "papermill": {
     "duration": 0.019608,
     "end_time": "2023-11-20T18:03:54.413572",
     "exception": false,
     "start_time": "2023-11-20T18:03:54.393964",
     "status": "completed"
    },
    "tags": []
   },
   "outputs": [],
   "source": [
    "from tensorflow.python.keras.utils.np_utils import to_categorical\n",
    "\n",
    "y_train = to_categorical(y_train)\n",
    "y_test = to_categorical(y_test)"
   ]
  },
  {
   "cell_type": "code",
   "execution_count": 13,
   "id": "a96f1f06",
   "metadata": {
    "papermill": {
     "duration": 0.020389,
     "end_time": "2023-11-20T18:03:54.443370",
     "exception": false,
     "start_time": "2023-11-20T18:03:54.422981",
     "status": "completed"
    },
    "tags": []
   },
   "outputs": [],
   "source": [
    "datagen = ImageDataGenerator(rescale=(1./255)\n",
    "                             ,rotation_range=10\n",
    "                             ,zoom_range = 0.1\n",
    "                             ,width_shift_range=0.1\n",
    "                             ,height_shift_range=0.1)\n",
    "\n",
    "testgen = ImageDataGenerator(rescale=(1./255))"
   ]
  },
  {
   "cell_type": "code",
   "execution_count": 14,
   "id": "41546902",
   "metadata": {
    "papermill": {
     "duration": 0.019312,
     "end_time": "2023-11-20T18:03:54.471883",
     "exception": false,
     "start_time": "2023-11-20T18:03:54.452571",
     "status": "completed"
    },
    "tags": []
   },
   "outputs": [],
   "source": [
    "from keras.callbacks import ReduceLROnPlateau\n",
    "\n",
    "learning_rate_reduction = ReduceLROnPlateau(monitor='val_accuracy'\n",
    "                                            , patience = 2\n",
    "                                            , verbose=1\n",
    "                                            ,factor=0.5\n",
    "                                            , min_lr=0.00001)"
   ]
  },
  {
   "cell_type": "code",
   "execution_count": 15,
   "id": "cba3455b",
   "metadata": {
    "papermill": {
     "duration": 0.896561,
     "end_time": "2023-11-20T18:03:55.377689",
     "exception": false,
     "start_time": "2023-11-20T18:03:54.481128",
     "status": "completed"
    },
    "tags": []
   },
   "outputs": [],
   "source": [
    "import tensorflow as tf\n",
    "from tensorflow.keras import layers, models\n",
    "\n",
    "# Define the Depthwise Separable Residual Block\n",
    "def depthwise_res_block(x, filters, kernel_size=3, strides=1):\n",
    "    # Shortcut connection\n",
    "    shortcut = x\n",
    "    \n",
    "    # Depthwise separable convolution\n",
    "    x = tf.keras.layers.DepthwiseConv2D(kernel_size, strides=strides, padding='same')(x)\n",
    "    x = tf.keras.layers.BatchNormalization()(x)\n",
    "    x = tf.keras.layers.Activation('relu')(x)\n",
    "    \n",
    "    # Pointwise convolution\n",
    "    x = tf.keras.layers.Conv2D(filters, kernel_size=1, strides=1, padding='same')(x)\n",
    "    x = tf.keras.layers.BatchNormalization()(x)\n",
    "    \n",
    "    # Adjust the shortcut connection to have the same spatial dimensions as the main path\n",
    "    if strides != 1 or shortcut.shape[-1] != filters:\n",
    "        shortcut = tf.keras.layers.Conv2D(filters, kernel_size=1, strides=strides, padding='same')(shortcut)\n",
    "        shortcut = tf.keras.layers.BatchNormalization()(shortcut)\n",
    "    \n",
    "    # Add the shortcut to the main path\n",
    "    x = tf.keras.layers.add([x, shortcut])\n",
    "    x = tf.keras.layers.Activation('relu')(x)\n",
    "    \n",
    "    return x\n",
    "\n",
    "# Define the Depthwise Separable ResNet CNN model\n",
    "def depthwise_resnet(input_shape, num_classes):\n",
    "    # Input layer\n",
    "    input_tensor = tf.keras.Input(shape=input_shape)\n",
    "    \n",
    "    # Initial convolution block\n",
    "    x = tf.keras.layers.Conv2D(64, (7, 7), strides=(2, 2), padding='same')(input_tensor)\n",
    "    x = tf.keras.layers.BatchNormalization()(x)\n",
    "    x = tf.keras.layers.Activation('relu')(x)\n",
    "    x = tf.keras.layers.MaxPooling2D((3, 3), strides=(2, 2), padding='same')(x)\n",
    "    \n",
    "    # Depthwise Residual Blocks\n",
    "    x = depthwise_res_block(x, 64, strides=1)\n",
    "    x = depthwise_res_block(x, 64, strides=1)\n",
    "    x = depthwise_res_block(x, 128, strides=2)\n",
    "    x = depthwise_res_block(x, 128, strides=1)\n",
    "    x = depthwise_res_block(x, 256, strides=2)\n",
    "    x = depthwise_res_block(x, 256, strides=1)\n",
    "    x = tf.keras.layers.GlobalAveragePooling2D()(x)\n",
    "    \n",
    "    # Fully connected layer\n",
    "    output_tensor = tf.keras.layers.Dense(num_classes, activation='softmax')(x)\n",
    "    \n",
    "    # Create the model\n",
    "    model = tf.keras.models.Model(inputs=input_tensor, outputs=output_tensor)\n",
    "    \n",
    "    return model\n",
    "\n",
    "\n"
   ]
  },
  {
   "cell_type": "code",
   "execution_count": 16,
   "id": "103ebadf-f169-444a-bfd2-f1289503c726",
   "metadata": {},
   "outputs": [
    {
     "name": "stdout",
     "output_type": "stream",
     "text": [
      "Model: \"model\"\n",
      "__________________________________________________________________________________________________\n",
      " Layer (type)                   Output Shape         Param #     Connected to                     \n",
      "==================================================================================================\n",
      " input_1 (InputLayer)           [(None, 28, 28, 3)]  0           []                               \n",
      "                                                                                                  \n",
      " conv2d (Conv2D)                (None, 14, 14, 64)   9472        ['input_1[0][0]']                \n",
      "                                                                                                  \n",
      " batch_normalization (BatchNorm  (None, 14, 14, 64)  256         ['conv2d[0][0]']                 \n",
      " alization)                                                                                       \n",
      "                                                                                                  \n",
      " activation (Activation)        (None, 14, 14, 64)   0           ['batch_normalization[0][0]']    \n",
      "                                                                                                  \n",
      " max_pooling2d (MaxPooling2D)   (None, 7, 7, 64)     0           ['activation[0][0]']             \n",
      "                                                                                                  \n",
      " depthwise_conv2d (DepthwiseCon  (None, 7, 7, 64)    640         ['max_pooling2d[0][0]']          \n",
      " v2D)                                                                                             \n",
      "                                                                                                  \n",
      " batch_normalization_1 (BatchNo  (None, 7, 7, 64)    256         ['depthwise_conv2d[0][0]']       \n",
      " rmalization)                                                                                     \n",
      "                                                                                                  \n",
      " activation_1 (Activation)      (None, 7, 7, 64)     0           ['batch_normalization_1[0][0]']  \n",
      "                                                                                                  \n",
      " conv2d_1 (Conv2D)              (None, 7, 7, 64)     4160        ['activation_1[0][0]']           \n",
      "                                                                                                  \n",
      " batch_normalization_2 (BatchNo  (None, 7, 7, 64)    256         ['conv2d_1[0][0]']               \n",
      " rmalization)                                                                                     \n",
      "                                                                                                  \n",
      " add (Add)                      (None, 7, 7, 64)     0           ['batch_normalization_2[0][0]',  \n",
      "                                                                  'max_pooling2d[0][0]']          \n",
      "                                                                                                  \n",
      " activation_2 (Activation)      (None, 7, 7, 64)     0           ['add[0][0]']                    \n",
      "                                                                                                  \n",
      " depthwise_conv2d_1 (DepthwiseC  (None, 7, 7, 64)    640         ['activation_2[0][0]']           \n",
      " onv2D)                                                                                           \n",
      "                                                                                                  \n",
      " batch_normalization_3 (BatchNo  (None, 7, 7, 64)    256         ['depthwise_conv2d_1[0][0]']     \n",
      " rmalization)                                                                                     \n",
      "                                                                                                  \n",
      " activation_3 (Activation)      (None, 7, 7, 64)     0           ['batch_normalization_3[0][0]']  \n",
      "                                                                                                  \n",
      " conv2d_2 (Conv2D)              (None, 7, 7, 64)     4160        ['activation_3[0][0]']           \n",
      "                                                                                                  \n",
      " batch_normalization_4 (BatchNo  (None, 7, 7, 64)    256         ['conv2d_2[0][0]']               \n",
      " rmalization)                                                                                     \n",
      "                                                                                                  \n",
      " add_1 (Add)                    (None, 7, 7, 64)     0           ['batch_normalization_4[0][0]',  \n",
      "                                                                  'activation_2[0][0]']           \n",
      "                                                                                                  \n",
      " activation_4 (Activation)      (None, 7, 7, 64)     0           ['add_1[0][0]']                  \n",
      "                                                                                                  \n",
      " depthwise_conv2d_2 (DepthwiseC  (None, 4, 4, 64)    640         ['activation_4[0][0]']           \n",
      " onv2D)                                                                                           \n",
      "                                                                                                  \n",
      " batch_normalization_5 (BatchNo  (None, 4, 4, 64)    256         ['depthwise_conv2d_2[0][0]']     \n",
      " rmalization)                                                                                     \n",
      "                                                                                                  \n",
      " activation_5 (Activation)      (None, 4, 4, 64)     0           ['batch_normalization_5[0][0]']  \n",
      "                                                                                                  \n",
      " conv2d_3 (Conv2D)              (None, 4, 4, 128)    8320        ['activation_5[0][0]']           \n",
      "                                                                                                  \n",
      " conv2d_4 (Conv2D)              (None, 4, 4, 128)    8320        ['activation_4[0][0]']           \n",
      "                                                                                                  \n",
      " batch_normalization_6 (BatchNo  (None, 4, 4, 128)   512         ['conv2d_3[0][0]']               \n",
      " rmalization)                                                                                     \n",
      "                                                                                                  \n",
      " batch_normalization_7 (BatchNo  (None, 4, 4, 128)   512         ['conv2d_4[0][0]']               \n",
      " rmalization)                                                                                     \n",
      "                                                                                                  \n",
      " add_2 (Add)                    (None, 4, 4, 128)    0           ['batch_normalization_6[0][0]',  \n",
      "                                                                  'batch_normalization_7[0][0]']  \n",
      "                                                                                                  \n",
      " activation_6 (Activation)      (None, 4, 4, 128)    0           ['add_2[0][0]']                  \n",
      "                                                                                                  \n",
      " depthwise_conv2d_3 (DepthwiseC  (None, 4, 4, 128)   1280        ['activation_6[0][0]']           \n",
      " onv2D)                                                                                           \n",
      "                                                                                                  \n",
      " batch_normalization_8 (BatchNo  (None, 4, 4, 128)   512         ['depthwise_conv2d_3[0][0]']     \n",
      " rmalization)                                                                                     \n",
      "                                                                                                  \n",
      " activation_7 (Activation)      (None, 4, 4, 128)    0           ['batch_normalization_8[0][0]']  \n",
      "                                                                                                  \n",
      " conv2d_5 (Conv2D)              (None, 4, 4, 128)    16512       ['activation_7[0][0]']           \n",
      "                                                                                                  \n",
      " batch_normalization_9 (BatchNo  (None, 4, 4, 128)   512         ['conv2d_5[0][0]']               \n",
      " rmalization)                                                                                     \n",
      "                                                                                                  \n",
      " add_3 (Add)                    (None, 4, 4, 128)    0           ['batch_normalization_9[0][0]',  \n",
      "                                                                  'activation_6[0][0]']           \n",
      "                                                                                                  \n",
      " activation_8 (Activation)      (None, 4, 4, 128)    0           ['add_3[0][0]']                  \n",
      "                                                                                                  \n",
      " depthwise_conv2d_4 (DepthwiseC  (None, 2, 2, 128)   1280        ['activation_8[0][0]']           \n",
      " onv2D)                                                                                           \n",
      "                                                                                                  \n",
      " batch_normalization_10 (BatchN  (None, 2, 2, 128)   512         ['depthwise_conv2d_4[0][0]']     \n",
      " ormalization)                                                                                    \n",
      "                                                                                                  \n",
      " activation_9 (Activation)      (None, 2, 2, 128)    0           ['batch_normalization_10[0][0]'] \n",
      "                                                                                                  \n",
      " conv2d_6 (Conv2D)              (None, 2, 2, 256)    33024       ['activation_9[0][0]']           \n",
      "                                                                                                  \n",
      " conv2d_7 (Conv2D)              (None, 2, 2, 256)    33024       ['activation_8[0][0]']           \n",
      "                                                                                                  \n",
      " batch_normalization_11 (BatchN  (None, 2, 2, 256)   1024        ['conv2d_6[0][0]']               \n",
      " ormalization)                                                                                    \n",
      "                                                                                                  \n",
      " batch_normalization_12 (BatchN  (None, 2, 2, 256)   1024        ['conv2d_7[0][0]']               \n",
      " ormalization)                                                                                    \n",
      "                                                                                                  \n",
      " add_4 (Add)                    (None, 2, 2, 256)    0           ['batch_normalization_11[0][0]', \n",
      "                                                                  'batch_normalization_12[0][0]'] \n",
      "                                                                                                  \n",
      " activation_10 (Activation)     (None, 2, 2, 256)    0           ['add_4[0][0]']                  \n",
      "                                                                                                  \n",
      " depthwise_conv2d_5 (DepthwiseC  (None, 2, 2, 256)   2560        ['activation_10[0][0]']          \n",
      " onv2D)                                                                                           \n",
      "                                                                                                  \n",
      " batch_normalization_13 (BatchN  (None, 2, 2, 256)   1024        ['depthwise_conv2d_5[0][0]']     \n",
      " ormalization)                                                                                    \n",
      "                                                                                                  \n",
      " activation_11 (Activation)     (None, 2, 2, 256)    0           ['batch_normalization_13[0][0]'] \n",
      "                                                                                                  \n",
      " conv2d_8 (Conv2D)              (None, 2, 2, 256)    65792       ['activation_11[0][0]']          \n",
      "                                                                                                  \n",
      " batch_normalization_14 (BatchN  (None, 2, 2, 256)   1024        ['conv2d_8[0][0]']               \n",
      " ormalization)                                                                                    \n",
      "                                                                                                  \n",
      " add_5 (Add)                    (None, 2, 2, 256)    0           ['batch_normalization_14[0][0]', \n",
      "                                                                  'activation_10[0][0]']          \n",
      "                                                                                                  \n",
      " activation_12 (Activation)     (None, 2, 2, 256)    0           ['add_5[0][0]']                  \n",
      "                                                                                                  \n",
      " global_average_pooling2d (Glob  (None, 256)         0           ['activation_12[0][0]']          \n",
      " alAveragePooling2D)                                                                              \n",
      "                                                                                                  \n",
      " dense (Dense)                  (None, 7)            1799        ['global_average_pooling2d[0][0]'\n",
      "                                                                 ]                                \n",
      "                                                                                                  \n",
      "==================================================================================================\n",
      "Total params: 199,815\n",
      "Trainable params: 195,719\n",
      "Non-trainable params: 4,096\n",
      "__________________________________________________________________________________________________\n"
     ]
    }
   ],
   "source": [
    "# Set input shape and number of classes\n",
    "input_shape = (28, 28, 3)  # Example input shape, adjust based on your requirements\n",
    "num_classes = 7  # Adjust based on your classification task\n",
    "\n",
    "\n",
    "# Create the model\n",
    "model = depthwise_resnet(input_shape, num_classes)\n",
    "\n",
    "# Compile the model\n",
    "model.compile(optimizer='adam', loss='categorical_crossentropy', metrics=['accuracy'])\n",
    "\n",
    "# Display the model summary\n",
    "model.summary()"
   ]
  },
  {
   "cell_type": "code",
   "execution_count": 17,
   "id": "674dcbb6",
   "metadata": {
    "papermill": {
     "duration": 1306.438779,
     "end_time": "2023-11-20T18:25:41.833059",
     "exception": false,
     "start_time": "2023-11-20T18:03:55.394280",
     "status": "completed"
    },
    "tags": []
   },
   "outputs": [
    {
     "name": "stdout",
     "output_type": "stream",
     "text": [
      "Epoch 1/150\n",
      "276/276 [==============================] - 12s 19ms/step - loss: 0.7446 - accuracy: 0.7319 - val_loss: 2.7449 - val_accuracy: 0.1595 - lr: 0.0010\n",
      "Epoch 2/150\n",
      "276/276 [==============================] - 4s 15ms/step - loss: 0.3743 - accuracy: 0.8658 - val_loss: 1.3711 - val_accuracy: 0.5479 - lr: 0.0010\n",
      "Epoch 3/150\n",
      "276/276 [==============================] - 4s 14ms/step - loss: 0.3818 - accuracy: 0.8654 - val_loss: 1.8009 - val_accuracy: 0.5271 - lr: 0.0010\n",
      "Epoch 4/150\n",
      "276/276 [==============================] - 4s 14ms/step - loss: 0.2268 - accuracy: 0.9214 - val_loss: 0.9265 - val_accuracy: 0.7298 - lr: 0.0010\n",
      "Epoch 5/150\n",
      "276/276 [==============================] - 4s 14ms/step - loss: 0.1930 - accuracy: 0.9313 - val_loss: 1.8752 - val_accuracy: 0.5724 - lr: 0.0010\n",
      "Epoch 6/150\n",
      "273/276 [============================>.] - ETA: 0s - loss: 0.3674 - accuracy: 0.8727\n",
      "Epoch 6: ReduceLROnPlateau reducing learning rate to 0.0005000000237487257.\n",
      "276/276 [==============================] - 4s 14ms/step - loss: 0.3662 - accuracy: 0.8732 - val_loss: 1.0939 - val_accuracy: 0.6650 - lr: 0.0010\n",
      "Epoch 7/150\n",
      "276/276 [==============================] - 4s 14ms/step - loss: 0.1447 - accuracy: 0.9529 - val_loss: 0.3269 - val_accuracy: 0.8849 - lr: 5.0000e-04\n",
      "Epoch 8/150\n",
      "276/276 [==============================] - 4s 14ms/step - loss: 0.1206 - accuracy: 0.9612 - val_loss: 0.2230 - val_accuracy: 0.9156 - lr: 5.0000e-04\n",
      "Epoch 9/150\n",
      "276/276 [==============================] - 4s 14ms/step - loss: 0.0824 - accuracy: 0.9748 - val_loss: 0.3077 - val_accuracy: 0.8962 - lr: 5.0000e-04\n",
      "Epoch 10/150\n",
      "276/276 [==============================] - 4s 14ms/step - loss: 0.1024 - accuracy: 0.9664 - val_loss: 0.1797 - val_accuracy: 0.9395 - lr: 5.0000e-04\n",
      "Epoch 11/150\n",
      "276/276 [==============================] - 4s 14ms/step - loss: 0.0491 - accuracy: 0.9860 - val_loss: 0.1499 - val_accuracy: 0.9483 - lr: 5.0000e-04\n",
      "Epoch 12/150\n",
      "276/276 [==============================] - 4s 14ms/step - loss: 0.0639 - accuracy: 0.9791 - val_loss: 0.1450 - val_accuracy: 0.9532 - lr: 5.0000e-04\n",
      "Epoch 13/150\n",
      "276/276 [==============================] - 4s 14ms/step - loss: 0.0514 - accuracy: 0.9832 - val_loss: 0.2073 - val_accuracy: 0.9410 - lr: 5.0000e-04\n",
      "Epoch 14/150\n",
      "275/276 [============================>.] - ETA: 0s - loss: 0.0245 - accuracy: 0.9929\n",
      "Epoch 14: ReduceLROnPlateau reducing learning rate to 0.0002500000118743628.\n",
      "276/276 [==============================] - 4s 14ms/step - loss: 0.0246 - accuracy: 0.9928 - val_loss: 0.2605 - val_accuracy: 0.9076 - lr: 5.0000e-04\n",
      "Epoch 15/150\n",
      "276/276 [==============================] - 4s 14ms/step - loss: 0.0273 - accuracy: 0.9919 - val_loss: 0.0987 - val_accuracy: 0.9752 - lr: 2.5000e-04\n",
      "Epoch 16/150\n",
      "276/276 [==============================] - 4s 14ms/step - loss: 0.0189 - accuracy: 0.9953 - val_loss: 0.0870 - val_accuracy: 0.9786 - lr: 2.5000e-04\n",
      "Epoch 17/150\n",
      "276/276 [==============================] - 4s 14ms/step - loss: 0.0167 - accuracy: 0.9961 - val_loss: 0.1225 - val_accuracy: 0.9632 - lr: 2.5000e-04\n",
      "Epoch 18/150\n",
      "273/276 [============================>.] - ETA: 0s - loss: 0.0205 - accuracy: 0.9942\n",
      "Epoch 18: ReduceLROnPlateau reducing learning rate to 0.0001250000059371814.\n",
      "276/276 [==============================] - 4s 14ms/step - loss: 0.0205 - accuracy: 0.9943 - val_loss: 0.1227 - val_accuracy: 0.9660 - lr: 2.5000e-04\n",
      "Epoch 19/150\n",
      "276/276 [==============================] - 4s 14ms/step - loss: 0.0118 - accuracy: 0.9976 - val_loss: 0.0721 - val_accuracy: 0.9826 - lr: 1.2500e-04\n",
      "Epoch 20/150\n",
      "276/276 [==============================] - 4s 14ms/step - loss: 0.0099 - accuracy: 0.9980 - val_loss: 0.0730 - val_accuracy: 0.9817 - lr: 1.2500e-04\n",
      "Epoch 21/150\n",
      "276/276 [==============================] - 4s 14ms/step - loss: 0.0083 - accuracy: 0.9985 - val_loss: 0.0705 - val_accuracy: 0.9828 - lr: 1.2500e-04\n",
      "Epoch 22/150\n",
      "276/276 [==============================] - 4s 14ms/step - loss: 0.0099 - accuracy: 0.9980 - val_loss: 0.0758 - val_accuracy: 0.9818 - lr: 1.2500e-04\n",
      "Epoch 23/150\n",
      "276/276 [==============================] - 4s 15ms/step - loss: 0.0064 - accuracy: 0.9991 - val_loss: 0.0671 - val_accuracy: 0.9832 - lr: 1.2500e-04\n",
      "Epoch 24/150\n",
      "276/276 [==============================] - 4s 15ms/step - loss: 0.0064 - accuracy: 0.9991 - val_loss: 0.0772 - val_accuracy: 0.9814 - lr: 1.2500e-04\n",
      "Epoch 25/150\n",
      "273/276 [============================>.] - ETA: 0s - loss: 0.0047 - accuracy: 0.9996\n",
      "Epoch 25: ReduceLROnPlateau reducing learning rate to 6.25000029685907e-05.\n",
      "276/276 [==============================] - 4s 14ms/step - loss: 0.0048 - accuracy: 0.9996 - val_loss: 0.0773 - val_accuracy: 0.9814 - lr: 1.2500e-04\n",
      "Epoch 26/150\n",
      "276/276 [==============================] - 4s 15ms/step - loss: 0.0044 - accuracy: 0.9997 - val_loss: 0.0712 - val_accuracy: 0.9824 - lr: 6.2500e-05\n",
      "Epoch 27/150\n",
      "275/276 [============================>.] - ETA: 0s - loss: 0.0040 - accuracy: 0.9997\n",
      "Epoch 27: ReduceLROnPlateau reducing learning rate to 3.125000148429535e-05.\n",
      "276/276 [==============================] - 4s 14ms/step - loss: 0.0041 - accuracy: 0.9997 - val_loss: 0.0750 - val_accuracy: 0.9818 - lr: 6.2500e-05\n",
      "Epoch 28/150\n",
      "276/276 [==============================] - 4s 14ms/step - loss: 0.0035 - accuracy: 0.9997 - val_loss: 0.0702 - val_accuracy: 0.9826 - lr: 3.1250e-05\n",
      "Epoch 29/150\n",
      "272/276 [============================>.] - ETA: 0s - loss: 0.0029 - accuracy: 0.9998\n",
      "Epoch 29: ReduceLROnPlateau reducing learning rate to 1.5625000742147677e-05.\n",
      "276/276 [==============================] - 4s 14ms/step - loss: 0.0029 - accuracy: 0.9998 - val_loss: 0.0774 - val_accuracy: 0.9816 - lr: 3.1250e-05\n",
      "Epoch 30/150\n",
      "276/276 [==============================] - 4s 15ms/step - loss: 0.0028 - accuracy: 0.9999 - val_loss: 0.0761 - val_accuracy: 0.9815 - lr: 1.5625e-05\n",
      "Epoch 31/150\n",
      "275/276 [============================>.] - ETA: 0s - loss: 0.0026 - accuracy: 0.9999\n",
      "Epoch 31: ReduceLROnPlateau reducing learning rate to 1e-05.\n",
      "276/276 [==============================] - 4s 14ms/step - loss: 0.0027 - accuracy: 0.9999 - val_loss: 0.0758 - val_accuracy: 0.9816 - lr: 1.5625e-05\n",
      "Epoch 32/150\n",
      "276/276 [==============================] - 4s 14ms/step - loss: 0.0025 - accuracy: 0.9998 - val_loss: 0.0733 - val_accuracy: 0.9823 - lr: 1.0000e-05\n",
      "Epoch 33/150\n",
      "276/276 [==============================] - 4s 14ms/step - loss: 0.0024 - accuracy: 0.9999 - val_loss: 0.0766 - val_accuracy: 0.9816 - lr: 1.0000e-05\n",
      "Epoch 34/150\n",
      "276/276 [==============================] - 4s 15ms/step - loss: 0.0025 - accuracy: 0.9998 - val_loss: 0.0758 - val_accuracy: 0.9821 - lr: 1.0000e-05\n",
      "Epoch 35/150\n",
      "276/276 [==============================] - 5s 16ms/step - loss: 0.0023 - accuracy: 1.0000 - val_loss: 0.0738 - val_accuracy: 0.9824 - lr: 1.0000e-05\n",
      "Epoch 36/150\n",
      "276/276 [==============================] - 4s 15ms/step - loss: 0.0022 - accuracy: 0.9999 - val_loss: 0.0761 - val_accuracy: 0.9822 - lr: 1.0000e-05\n",
      "Epoch 37/150\n",
      "276/276 [==============================] - 4s 14ms/step - loss: 0.0024 - accuracy: 0.9998 - val_loss: 0.0774 - val_accuracy: 0.9817 - lr: 1.0000e-05\n",
      "Epoch 38/150\n",
      "276/276 [==============================] - 4s 15ms/step - loss: 0.0023 - accuracy: 0.9999 - val_loss: 0.0737 - val_accuracy: 0.9827 - lr: 1.0000e-05\n",
      "Epoch 39/150\n",
      "276/276 [==============================] - 4s 15ms/step - loss: 0.0022 - accuracy: 0.9999 - val_loss: 0.0717 - val_accuracy: 0.9830 - lr: 1.0000e-05\n",
      "Epoch 40/150\n",
      "276/276 [==============================] - 4s 15ms/step - loss: 0.0022 - accuracy: 0.9999 - val_loss: 0.0736 - val_accuracy: 0.9830 - lr: 1.0000e-05\n",
      "Epoch 41/150\n",
      "276/276 [==============================] - 4s 15ms/step - loss: 0.0020 - accuracy: 0.9999 - val_loss: 0.0731 - val_accuracy: 0.9829 - lr: 1.0000e-05\n",
      "Epoch 42/150\n",
      "276/276 [==============================] - 4s 14ms/step - loss: 0.0021 - accuracy: 0.9999 - val_loss: 0.0740 - val_accuracy: 0.9823 - lr: 1.0000e-05\n",
      "Epoch 43/150\n",
      "276/276 [==============================] - 4s 14ms/step - loss: 0.0021 - accuracy: 0.9999 - val_loss: 0.0747 - val_accuracy: 0.9824 - lr: 1.0000e-05\n",
      "Epoch 44/150\n",
      "276/276 [==============================] - 4s 15ms/step - loss: 0.0021 - accuracy: 0.9999 - val_loss: 0.0746 - val_accuracy: 0.9825 - lr: 1.0000e-05\n",
      "Epoch 45/150\n",
      "276/276 [==============================] - 4s 15ms/step - loss: 0.0020 - accuracy: 0.9999 - val_loss: 0.0758 - val_accuracy: 0.9825 - lr: 1.0000e-05\n",
      "Epoch 46/150\n",
      "276/276 [==============================] - 4s 14ms/step - loss: 0.0020 - accuracy: 0.9999 - val_loss: 0.0740 - val_accuracy: 0.9827 - lr: 1.0000e-05\n",
      "Epoch 47/150\n",
      "276/276 [==============================] - 4s 15ms/step - loss: 0.0021 - accuracy: 0.9999 - val_loss: 0.0762 - val_accuracy: 0.9824 - lr: 1.0000e-05\n",
      "Epoch 48/150\n",
      "276/276 [==============================] - 4s 15ms/step - loss: 0.0020 - accuracy: 0.9999 - val_loss: 0.0739 - val_accuracy: 0.9829 - lr: 1.0000e-05\n",
      "Epoch 49/150\n",
      "276/276 [==============================] - 5s 16ms/step - loss: 0.0022 - accuracy: 0.9999 - val_loss: 0.0749 - val_accuracy: 0.9824 - lr: 1.0000e-05\n",
      "Epoch 50/150\n",
      "276/276 [==============================] - 4s 16ms/step - loss: 0.0020 - accuracy: 1.0000 - val_loss: 0.0750 - val_accuracy: 0.9824 - lr: 1.0000e-05\n",
      "Epoch 51/150\n",
      "276/276 [==============================] - 4s 15ms/step - loss: 0.0019 - accuracy: 0.9999 - val_loss: 0.0762 - val_accuracy: 0.9827 - lr: 1.0000e-05\n",
      "Epoch 52/150\n",
      "276/276 [==============================] - 4s 14ms/step - loss: 0.0018 - accuracy: 1.0000 - val_loss: 0.0773 - val_accuracy: 0.9821 - lr: 1.0000e-05\n",
      "Epoch 53/150\n",
      "276/276 [==============================] - 4s 14ms/step - loss: 0.0019 - accuracy: 0.9999 - val_loss: 0.0735 - val_accuracy: 0.9831 - lr: 1.0000e-05\n",
      "Epoch 54/150\n",
      "276/276 [==============================] - 4s 14ms/step - loss: 0.0017 - accuracy: 1.0000 - val_loss: 0.0756 - val_accuracy: 0.9826 - lr: 1.0000e-05\n",
      "Epoch 55/150\n",
      "276/276 [==============================] - 4s 14ms/step - loss: 0.0018 - accuracy: 0.9999 - val_loss: 0.0727 - val_accuracy: 0.9831 - lr: 1.0000e-05\n",
      "Epoch 56/150\n",
      "276/276 [==============================] - 4s 15ms/step - loss: 0.0017 - accuracy: 1.0000 - val_loss: 0.0728 - val_accuracy: 0.9832 - lr: 1.0000e-05\n",
      "Epoch 57/150\n",
      "276/276 [==============================] - 4s 14ms/step - loss: 0.0017 - accuracy: 1.0000 - val_loss: 0.0738 - val_accuracy: 0.9832 - lr: 1.0000e-05\n",
      "Epoch 58/150\n",
      "276/276 [==============================] - 4s 14ms/step - loss: 0.0016 - accuracy: 0.9999 - val_loss: 0.0751 - val_accuracy: 0.9829 - lr: 1.0000e-05\n",
      "Epoch 59/150\n",
      "276/276 [==============================] - 4s 14ms/step - loss: 0.0019 - accuracy: 0.9999 - val_loss: 0.0730 - val_accuracy: 0.9832 - lr: 1.0000e-05\n",
      "Epoch 60/150\n",
      "276/276 [==============================] - 5s 17ms/step - loss: 0.0015 - accuracy: 1.0000 - val_loss: 0.0699 - val_accuracy: 0.9836 - lr: 1.0000e-05\n",
      "Epoch 61/150\n",
      "276/276 [==============================] - 4s 15ms/step - loss: 0.0019 - accuracy: 0.9999 - val_loss: 0.0715 - val_accuracy: 0.9835 - lr: 1.0000e-05\n",
      "Epoch 62/150\n",
      "276/276 [==============================] - 4s 15ms/step - loss: 0.0017 - accuracy: 0.9999 - val_loss: 0.0745 - val_accuracy: 0.9827 - lr: 1.0000e-05\n",
      "Epoch 63/150\n",
      "276/276 [==============================] - 4s 15ms/step - loss: 0.0018 - accuracy: 0.9999 - val_loss: 0.0755 - val_accuracy: 0.9829 - lr: 1.0000e-05\n",
      "Epoch 64/150\n",
      "276/276 [==============================] - 4s 14ms/step - loss: 0.0016 - accuracy: 0.9999 - val_loss: 0.0747 - val_accuracy: 0.9830 - lr: 1.0000e-05\n",
      "Epoch 65/150\n",
      "276/276 [==============================] - 4s 14ms/step - loss: 0.0017 - accuracy: 0.9999 - val_loss: 0.0734 - val_accuracy: 0.9836 - lr: 1.0000e-05\n",
      "Epoch 66/150\n",
      "276/276 [==============================] - 4s 15ms/step - loss: 0.0018 - accuracy: 0.9999 - val_loss: 0.0724 - val_accuracy: 0.9839 - lr: 1.0000e-05\n",
      "Epoch 67/150\n",
      "276/276 [==============================] - 4s 14ms/step - loss: 0.0017 - accuracy: 0.9999 - val_loss: 0.0735 - val_accuracy: 0.9831 - lr: 1.0000e-05\n",
      "Epoch 68/150\n",
      "276/276 [==============================] - 4s 14ms/step - loss: 0.0018 - accuracy: 0.9999 - val_loss: 0.0725 - val_accuracy: 0.9833 - lr: 1.0000e-05\n",
      "Epoch 69/150\n",
      "276/276 [==============================] - 4s 15ms/step - loss: 0.0017 - accuracy: 0.9999 - val_loss: 0.0726 - val_accuracy: 0.9837 - lr: 1.0000e-05\n",
      "Epoch 70/150\n",
      "276/276 [==============================] - 4s 15ms/step - loss: 0.0015 - accuracy: 1.0000 - val_loss: 0.0719 - val_accuracy: 0.9838 - lr: 1.0000e-05\n",
      "Epoch 71/150\n",
      "276/276 [==============================] - 4s 15ms/step - loss: 0.0016 - accuracy: 1.0000 - val_loss: 0.0730 - val_accuracy: 0.9834 - lr: 1.0000e-05\n",
      "Epoch 72/150\n",
      "276/276 [==============================] - 4s 15ms/step - loss: 0.0016 - accuracy: 0.9999 - val_loss: 0.0739 - val_accuracy: 0.9831 - lr: 1.0000e-05\n",
      "Epoch 73/150\n",
      "276/276 [==============================] - 4s 14ms/step - loss: 0.0017 - accuracy: 0.9999 - val_loss: 0.0731 - val_accuracy: 0.9832 - lr: 1.0000e-05\n",
      "Epoch 74/150\n",
      "276/276 [==============================] - 4s 15ms/step - loss: 0.0017 - accuracy: 0.9999 - val_loss: 0.0739 - val_accuracy: 0.9830 - lr: 1.0000e-05\n",
      "Epoch 75/150\n",
      "276/276 [==============================] - 4s 15ms/step - loss: 0.0016 - accuracy: 1.0000 - val_loss: 0.0741 - val_accuracy: 0.9834 - lr: 1.0000e-05\n",
      "Epoch 76/150\n",
      "276/276 [==============================] - 4s 15ms/step - loss: 0.0016 - accuracy: 0.9999 - val_loss: 0.0731 - val_accuracy: 0.9834 - lr: 1.0000e-05\n",
      "Epoch 77/150\n",
      "276/276 [==============================] - 4s 15ms/step - loss: 0.0016 - accuracy: 0.9999 - val_loss: 0.0745 - val_accuracy: 0.9829 - lr: 1.0000e-05\n",
      "Epoch 78/150\n",
      "276/276 [==============================] - 4s 14ms/step - loss: 0.0016 - accuracy: 0.9998 - val_loss: 0.0728 - val_accuracy: 0.9835 - lr: 1.0000e-05\n",
      "Epoch 79/150\n",
      "276/276 [==============================] - 4s 14ms/step - loss: 0.0015 - accuracy: 0.9999 - val_loss: 0.0747 - val_accuracy: 0.9828 - lr: 1.0000e-05\n",
      "Epoch 80/150\n",
      "276/276 [==============================] - 4s 14ms/step - loss: 0.0015 - accuracy: 0.9999 - val_loss: 0.0732 - val_accuracy: 0.9834 - lr: 1.0000e-05\n",
      "Epoch 81/150\n",
      "276/276 [==============================] - 4s 15ms/step - loss: 0.0013 - accuracy: 1.0000 - val_loss: 0.0735 - val_accuracy: 0.9835 - lr: 1.0000e-05\n",
      "Epoch 82/150\n",
      "276/276 [==============================] - 4s 15ms/step - loss: 0.0016 - accuracy: 0.9999 - val_loss: 0.0731 - val_accuracy: 0.9834 - lr: 1.0000e-05\n",
      "Epoch 83/150\n",
      "276/276 [==============================] - 4s 15ms/step - loss: 0.0014 - accuracy: 1.0000 - val_loss: 0.0746 - val_accuracy: 0.9836 - lr: 1.0000e-05\n",
      "Epoch 84/150\n",
      "276/276 [==============================] - 4s 14ms/step - loss: 0.0015 - accuracy: 0.9999 - val_loss: 0.0774 - val_accuracy: 0.9828 - lr: 1.0000e-05\n",
      "Epoch 85/150\n",
      "276/276 [==============================] - 4s 15ms/step - loss: 0.0016 - accuracy: 0.9999 - val_loss: 0.0753 - val_accuracy: 0.9830 - lr: 1.0000e-05\n",
      "Epoch 86/150\n",
      "276/276 [==============================] - 4s 14ms/step - loss: 0.0015 - accuracy: 1.0000 - val_loss: 0.0707 - val_accuracy: 0.9841 - lr: 1.0000e-05\n",
      "Epoch 87/150\n",
      "276/276 [==============================] - 4s 15ms/step - loss: 0.0015 - accuracy: 0.9999 - val_loss: 0.0722 - val_accuracy: 0.9835 - lr: 1.0000e-05\n",
      "Epoch 88/150\n",
      "276/276 [==============================] - 4s 14ms/step - loss: 0.0016 - accuracy: 1.0000 - val_loss: 0.0746 - val_accuracy: 0.9832 - lr: 1.0000e-05\n",
      "Epoch 89/150\n",
      "276/276 [==============================] - 4s 15ms/step - loss: 0.0014 - accuracy: 1.0000 - val_loss: 0.0743 - val_accuracy: 0.9833 - lr: 1.0000e-05\n",
      "Epoch 90/150\n",
      "276/276 [==============================] - 4s 14ms/step - loss: 0.0015 - accuracy: 1.0000 - val_loss: 0.0723 - val_accuracy: 0.9836 - lr: 1.0000e-05\n",
      "Epoch 91/150\n",
      "276/276 [==============================] - 4s 15ms/step - loss: 0.0015 - accuracy: 0.9999 - val_loss: 0.0733 - val_accuracy: 0.9832 - lr: 1.0000e-05\n",
      "Epoch 92/150\n",
      "276/276 [==============================] - 4s 15ms/step - loss: 0.0015 - accuracy: 1.0000 - val_loss: 0.0729 - val_accuracy: 0.9832 - lr: 1.0000e-05\n",
      "Epoch 93/150\n",
      "276/276 [==============================] - 4s 15ms/step - loss: 0.0015 - accuracy: 0.9999 - val_loss: 0.0775 - val_accuracy: 0.9826 - lr: 1.0000e-05\n",
      "Epoch 94/150\n",
      "276/276 [==============================] - 4s 14ms/step - loss: 0.0014 - accuracy: 1.0000 - val_loss: 0.0780 - val_accuracy: 0.9823 - lr: 1.0000e-05\n",
      "Epoch 95/150\n",
      "276/276 [==============================] - 4s 14ms/step - loss: 0.0016 - accuracy: 0.9999 - val_loss: 0.0730 - val_accuracy: 0.9835 - lr: 1.0000e-05\n",
      "Epoch 96/150\n",
      "276/276 [==============================] - 4s 15ms/step - loss: 0.0012 - accuracy: 1.0000 - val_loss: 0.0736 - val_accuracy: 0.9833 - lr: 1.0000e-05\n",
      "Epoch 97/150\n",
      "276/276 [==============================] - 4s 14ms/step - loss: 0.0014 - accuracy: 1.0000 - val_loss: 0.0744 - val_accuracy: 0.9833 - lr: 1.0000e-05\n",
      "Epoch 98/150\n",
      "276/276 [==============================] - 4s 14ms/step - loss: 0.0014 - accuracy: 0.9999 - val_loss: 0.0745 - val_accuracy: 0.9835 - lr: 1.0000e-05\n",
      "Epoch 99/150\n",
      "276/276 [==============================] - 4s 14ms/step - loss: 0.0013 - accuracy: 1.0000 - val_loss: 0.0750 - val_accuracy: 0.9835 - lr: 1.0000e-05\n",
      "Epoch 100/150\n",
      "276/276 [==============================] - 4s 14ms/step - loss: 0.0013 - accuracy: 1.0000 - val_loss: 0.0740 - val_accuracy: 0.9834 - lr: 1.0000e-05\n",
      "Epoch 101/150\n",
      "276/276 [==============================] - 4s 15ms/step - loss: 0.0014 - accuracy: 0.9999 - val_loss: 0.0742 - val_accuracy: 0.9833 - lr: 1.0000e-05\n",
      "Epoch 102/150\n",
      "276/276 [==============================] - 4s 14ms/step - loss: 0.0014 - accuracy: 0.9999 - val_loss: 0.0730 - val_accuracy: 0.9833 - lr: 1.0000e-05\n",
      "Epoch 103/150\n",
      "276/276 [==============================] - 4s 14ms/step - loss: 0.0014 - accuracy: 0.9999 - val_loss: 0.0744 - val_accuracy: 0.9832 - lr: 1.0000e-05\n",
      "Epoch 104/150\n",
      "276/276 [==============================] - 4s 15ms/step - loss: 0.0015 - accuracy: 0.9999 - val_loss: 0.0779 - val_accuracy: 0.9826 - lr: 1.0000e-05\n",
      "Epoch 105/150\n",
      "276/276 [==============================] - 4s 14ms/step - loss: 0.0013 - accuracy: 1.0000 - val_loss: 0.0757 - val_accuracy: 0.9837 - lr: 1.0000e-05\n",
      "Epoch 106/150\n",
      "276/276 [==============================] - 4s 14ms/step - loss: 0.0013 - accuracy: 0.9999 - val_loss: 0.0760 - val_accuracy: 0.9834 - lr: 1.0000e-05\n",
      "Epoch 107/150\n",
      "276/276 [==============================] - 4s 15ms/step - loss: 0.0013 - accuracy: 0.9999 - val_loss: 0.0764 - val_accuracy: 0.9831 - lr: 1.0000e-05\n",
      "Epoch 108/150\n",
      "276/276 [==============================] - 4s 14ms/step - loss: 0.0014 - accuracy: 0.9999 - val_loss: 0.0754 - val_accuracy: 0.9839 - lr: 1.0000e-05\n",
      "Epoch 109/150\n",
      "276/276 [==============================] - 4s 14ms/step - loss: 0.0013 - accuracy: 1.0000 - val_loss: 0.0763 - val_accuracy: 0.9835 - lr: 1.0000e-05\n",
      "Epoch 110/150\n",
      "276/276 [==============================] - 4s 14ms/step - loss: 0.0013 - accuracy: 1.0000 - val_loss: 0.0748 - val_accuracy: 0.9838 - lr: 1.0000e-05\n",
      "Epoch 111/150\n",
      "276/276 [==============================] - 4s 14ms/step - loss: 0.0014 - accuracy: 0.9999 - val_loss: 0.0741 - val_accuracy: 0.9836 - lr: 1.0000e-05\n",
      "Epoch 112/150\n",
      "276/276 [==============================] - 4s 14ms/step - loss: 0.0013 - accuracy: 1.0000 - val_loss: 0.0740 - val_accuracy: 0.9842 - lr: 1.0000e-05\n",
      "Epoch 113/150\n",
      "276/276 [==============================] - 4s 14ms/step - loss: 0.0013 - accuracy: 0.9999 - val_loss: 0.0755 - val_accuracy: 0.9835 - lr: 1.0000e-05\n",
      "Epoch 114/150\n",
      "276/276 [==============================] - 4s 14ms/step - loss: 0.0013 - accuracy: 1.0000 - val_loss: 0.0756 - val_accuracy: 0.9838 - lr: 1.0000e-05\n",
      "Epoch 115/150\n",
      "276/276 [==============================] - 4s 14ms/step - loss: 0.0014 - accuracy: 0.9999 - val_loss: 0.0751 - val_accuracy: 0.9833 - lr: 1.0000e-05\n",
      "Epoch 116/150\n",
      "276/276 [==============================] - 4s 14ms/step - loss: 0.0013 - accuracy: 0.9999 - val_loss: 0.0724 - val_accuracy: 0.9843 - lr: 1.0000e-05\n"
     ]
    }
   ],
   "source": [
    "from tensorflow.keras.callbacks import EarlyStopping\n",
    "history = model.fit(X_train ,\n",
    "                    y_train ,\n",
    "                    epochs=150 ,\n",
    "                    batch_size=128,\n",
    "                    validation_data=(X_test , y_test) ,\n",
    "                    callbacks=[learning_rate_reduction,EarlyStopping(monitor='loss', patience=20, restore_best_weights = True)])"
   ]
  },
  {
   "cell_type": "code",
   "execution_count": 18,
   "id": "60b78e8f-f77b-4de9-bafa-d348a9a1eb8f",
   "metadata": {},
   "outputs": [],
   "source": [
    "import tensorflow as tf\n",
    "model.save_weights('weights\\DepwiseResNet.h5')"
   ]
  },
  {
   "cell_type": "code",
   "execution_count": 19,
   "id": "8a9c5503",
   "metadata": {
    "papermill": {
     "duration": 0.293671,
     "end_time": "2023-11-20T18:25:42.393925",
     "exception": false,
     "start_time": "2023-11-20T18:25:42.100254",
     "status": "completed"
    },
    "tags": []
   },
   "outputs": [],
   "source": [
    "def plot_training(hist):\n",
    "    tr_acc = hist.history['accuracy']\n",
    "    tr_loss = hist.history['loss']\n",
    "    val_acc = hist.history['val_accuracy']\n",
    "    val_loss = hist.history['val_loss']\n",
    "    index_loss = np.argmin(val_loss)\n",
    "    val_lowest = val_loss[index_loss]\n",
    "    index_acc = np.argmax(val_acc)\n",
    "    acc_highest = val_acc[index_acc]\n",
    "\n",
    "    plt.figure(figsize= (20, 8))\n",
    "    plt.style.use('fivethirtyeight')\n",
    "    Epochs = [i+1 for i in range(len(tr_acc))]\n",
    "    loss_label = f'best epoch= {str(index_loss + 1)}'\n",
    "    acc_label = f'best epoch= {str(index_acc + 1)}'\n",
    "    \n",
    "    plt.subplot(1, 2, 1)\n",
    "    plt.plot(Epochs, tr_loss, 'r', label= 'Training loss')\n",
    "    plt.plot(Epochs, val_loss, 'g', label= 'Validation loss')\n",
    "    plt.scatter(index_loss + 1, val_lowest, s= 150, c= 'blue', label= loss_label)\n",
    "    plt.title('Training and Validation Loss')\n",
    "    plt.xlabel('Epochs')\n",
    "    plt.ylabel('Loss')\n",
    "    plt.legend()\n",
    "    \n",
    "    plt.subplot(1, 2, 2)\n",
    "    plt.plot(Epochs, tr_acc, 'r', label= 'Training Accuracy')\n",
    "    plt.plot(Epochs, val_acc, 'g', label= 'Validation Accuracy')\n",
    "    plt.scatter(index_acc + 1 , acc_highest, s= 150, c= 'blue', label= acc_label)\n",
    "    plt.title('Training and Validation Accuracy')\n",
    "    plt.xlabel('Epochs')\n",
    "    plt.ylabel('Accuracy')\n",
    "    plt.legend()\n",
    "    \n",
    "    plt.tight_layout\n",
    "    plt.show()"
   ]
  },
  {
   "cell_type": "code",
   "execution_count": 20,
   "id": "0dba96f3",
   "metadata": {
    "papermill": {
     "duration": 1.187868,
     "end_time": "2023-11-20T18:25:43.847692",
     "exception": false,
     "start_time": "2023-11-20T18:25:42.659824",
     "status": "completed"
    },
    "tags": []
   },
   "outputs": [
    {
     "data": {
      "image/png": "[encoded data removed]",
      "text/plain": [
       "<Figure size 2000x800 with 2 Axes>"
      ]
     },
     "metadata": {},
     "output_type": "display_data"
    }
   ],
   "source": [
    "plot_training(history)"
   ]
  },
  {
   "cell_type": "code",
   "execution_count": 21,
   "id": "da07c753",
   "metadata": {
    "papermill": {
     "duration": 41.464997,
     "end_time": "2023-11-20T18:26:25.656002",
     "exception": false,
     "start_time": "2023-11-20T18:25:44.191005",
     "status": "completed"
    },
    "tags": []
   },
   "outputs": [
    {
     "name": "stdout",
     "output_type": "stream",
     "text": [
      "1101/1101 [==============================] - 5s 4ms/step - loss: 4.0217e-04 - accuracy: 1.0000\n",
      "367/367 [==============================] - 2s 4ms/step - loss: 0.0736 - accuracy: 0.9833\n",
      "Train Loss:  0.00040217002970166504\n",
      "Train Accuracy:  1.0\n",
      "--------------------\n",
      "Test Loss:  0.07362355291843414\n",
      "Test Accuracy:  0.9832963943481445\n"
     ]
    }
   ],
   "source": [
    "train_score = model.evaluate(X_train, y_train, verbose= 1)\n",
    "test_score = model.evaluate(X_test, y_test, verbose= 1)\n",
    "\n",
    "print(\"Train Loss: \", train_score[0])\n",
    "print(\"Train Accuracy: \", train_score[1])\n",
    "print('-' * 20)\n",
    "print(\"Test Loss: \", test_score[0])\n",
    "print(\"Test Accuracy: \", test_score[1])"
   ]
  },
  {
   "cell_type": "code",
   "execution_count": 22,
   "id": "7fa5e0da",
   "metadata": {
    "papermill": {
     "duration": 11.319973,
     "end_time": "2023-11-20T18:26:37.315854",
     "exception": false,
     "start_time": "2023-11-20T18:26:25.995881",
     "status": "completed"
    },
    "tags": []
   },
   "outputs": [
    {
     "name": "stdout",
     "output_type": "stream",
     "text": [
      "367/367 [==============================] - 2s 4ms/step\n"
     ]
    }
   ],
   "source": [
    "y_true = np.array(y_test)\n",
    "y_pred = model.predict(X_test)\n",
    "\n",
    "y_pred = np.argmax(y_pred , axis=1)\n",
    "y_true = np.argmax(y_true , axis=1)"
   ]
  },
  {
   "cell_type": "code",
   "execution_count": 23,
   "id": "2b21ad8c",
   "metadata": {
    "papermill": {
     "duration": 0.371808,
     "end_time": "2023-11-20T18:26:38.052179",
     "exception": false,
     "start_time": "2023-11-20T18:26:37.680371",
     "status": "completed"
    },
    "tags": []
   },
   "outputs": [
    {
     "name": "stdout",
     "output_type": "stream",
     "text": [
      "[4, 6, 2, 1, 5, 0, 3]\n"
     ]
    }
   ],
   "source": [
    "classes_labels = []\n",
    "for key in classes.keys():\n",
    "    classes_labels.append(key)\n",
    "\n",
    "print(classes_labels)"
   ]
  },
  {
   "cell_type": "code",
   "execution_count": 24,
   "id": "142a04b7",
   "metadata": {
    "papermill": {
     "duration": 1.150624,
     "end_time": "2023-11-20T18:26:39.559413",
     "exception": false,
     "start_time": "2023-11-20T18:26:38.408789",
     "status": "completed"
    },
    "tags": []
   },
   "outputs": [
    {
     "data": {
      "image/png": "[encoded data removed]",
      "text/plain": [
       "<Figure size 1000x1000 with 2 Axes>"
      ]
     },
     "metadata": {},
     "output_type": "display_data"
    }
   ],
   "source": [
    "cm = cm = confusion_matrix(y_true, y_pred, labels=classes_labels)\n",
    "\n",
    "plt.figure(figsize= (10, 10))\n",
    "plt.imshow(cm, interpolation= 'nearest', cmap= plt.cm.Blues)\n",
    "plt.title('Confusion Matrix')\n",
    "plt.colorbar()\n",
    "\n",
    "tick_marks = np.arange(len(classes))\n",
    "plt.xticks(tick_marks, classes, rotation= 45)\n",
    "plt.yticks(tick_marks, classes)\n",
    "\n",
    "\n",
    "thresh = cm.max() / 2.\n",
    "for i, j in itertools.product(range(cm.shape[0]), range(cm.shape[1])):\n",
    "    plt.text(j, i, cm[i, j], horizontalalignment= 'center', color= 'white' if cm[i, j] > thresh else 'black')\n",
    "\n",
    "plt.tight_layout()\n",
    "plt.ylabel('True Label')\n",
    "plt.xlabel('Predicted Label')\n",
    "\n",
    "plt.show()"
   ]
  },
  {
   "cell_type": "code",
   "execution_count": null,
   "id": "3060744f",
   "metadata": {
    "papermill": {
     "duration": 0.596684,
     "end_time": "2023-11-20T18:26:40.514687",
     "exception": false,
     "start_time": "2023-11-20T18:26:39.918003",
     "status": "completed"
    },
    "tags": []
   },
   "outputs": [],
   "source": [
    "#model.save('Skin Cancer.h5')"
   ]
  },
  {
   "cell_type": "code",
   "execution_count": 25,
   "id": "ccb32b2b",
   "metadata": {
    "papermill": {
     "duration": 0.364649,
     "end_time": "2023-11-20T18:26:41.240370",
     "exception": false,
     "start_time": "2023-11-20T18:26:40.875721",
     "status": "completed"
    },
    "tags": []
   },
   "outputs": [
    {
     "data": {
      "text/plain": [
       "19138"
      ]
     },
     "execution_count": 25,
     "metadata": {},
     "output_type": "execute_result"
    }
   ],
   "source": [
    "from keras import backend as K\n",
    "import gc\n",
    "\n",
    "del model\n",
    "\n",
    "K.clear_session()\n",
    "gc.collect()"
   ]
  },
  {
   "cell_type": "code",
   "execution_count": 26,
   "id": "7a40f627-1d60-492c-aa12-d25dfa1b2556",
   "metadata": {},
   "outputs": [],
   "source": [
    "#You need to install numba using 'pip install numba'\n",
    "\n",
    "from numba import cuda\n",
    "\n",
    "cuda.select_device(0)\n",
    "cuda.close()"
   ]
  },
  {
   "cell_type": "code",
   "execution_count": null,
   "id": "db0c9627-4cc1-4b50-87af-256189c71136",
   "metadata": {},
   "outputs": [],
   "source": []
  }
 ],
 "metadata": {
  "kaggle": {
   "accelerator": "none",
   "dataSources": [
    {
     "datasetId": 54339,
     "sourceId": 104884,
     "sourceType": "datasetVersion"
    }
   ],
   "dockerImageVersionId": 30558,
   "isGpuEnabled": false,
   "isInternetEnabled": true,
   "language": "python",
   "sourceType": "notebook"
  },
  "kernelspec": {
   "display_name": "Python 3 (ipykernel)",
   "language": "python",
   "name": "python3"
  },
  "language_info": {
   "codemirror_mode": {
    "name": "ipython",
    "version": 3
   },
   "file_extension": ".py",
   "mimetype": "text/x-python",
   "name": "python",
   "nbconvert_exporter": "python",
   "pygments_lexer": "ipython3",
   "version": "3.10.13"
  },
  "papermill": {
   "default_parameters": {},
   "duration": 1400.093646,
   "end_time": "2023-11-20T18:26:44.411951",
   "environment_variables": {},
   "exception": null,
   "input_path": "__notebook__.ipynb",
   "output_path": "__notebook__.ipynb",
   "parameters": {},
   "start_time": "2023-11-20T18:03:24.318305",
   "version": "2.4.0"
  }
 },
 "nbformat": 4,
 "nbformat_minor": 5
}
